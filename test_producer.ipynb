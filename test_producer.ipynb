{
 "cells": [
  {
   "cell_type": "code",
   "execution_count": 1,
   "id": "86e4c357-a465-4a74-a35e-0296be1671dd",
   "metadata": {},
   "outputs": [],
   "source": [
    "import pulsar\n",
    "from pulsar import PartitionsRoutingMode"
   ]
  },
  {
   "cell_type": "code",
   "execution_count": null,
   "id": "c8220099-ac63-47a6-9bcf-7e9f8c9d45d8",
   "metadata": {},
   "outputs": [],
   "source": [
    "# Create a pulsar client by supplying ip address and port\n",
    "client = pulsar.Client('pulsar://localhost:6650')"
   ]
  },
  {
   "cell_type": "code",
   "execution_count": 2,
   "id": "6470e38a-d2fe-4366-8c84-6e5589d5112d",
   "metadata": {},
   "outputs": [],
   "source": [
    "# test list for top languages\n",
    "top_languages_list = [('JavaScript', 414558), ('Java', 177839), ('Python', 267520), ('CSS', 57083), \n",
    "                ('PHP', 50818), ('Ruby', 22368), ('C++', 76267), ('C', 42708), ('Shell', 35257), \n",
    "                ('C#', 66798), ('Objective-C', 2120), ('R', 26508), ('VimL', 3812), ('Go', 24685), \n",
    "                ('Perl', 2498), ('CoffeeScript', 375), ('TeX', 5473), ('Swift', 14564), ('Scala', 3240), \n",
    "                ('Emacs Lisp', 35), ('Haskell', 2009), ('Lua', 5163), ('Clojure', 1278), ('Matlab', 11335), \n",
    "                ('Makefile', 7215), ('Groovy', 894), ('Puppet', 182), ('Rust', 11433), ('PowerShell', 4959)]\n",
    "top_languages_dict = dict(top_languages_list)"
   ]
  },
  {
   "cell_type": "code",
   "execution_count": null,
   "id": "38cb09ed-cbca-4f18-a5f3-153d04ff53d8",
   "metadata": {},
   "outputs": [],
   "source": [
    "# Use Single Partition to ensure the consumer will read messages in order\n",
    "producer = client.create_producer('top_languages',\n",
    "                                 message_routing_mode=PartitionsRoutingMode.SinglePartition)\n",
    "\n",
    "# Sending messages in a tuple ('key', value) type of formatting\n",
    "for key, value in top_languages_dict.items():\n",
    "    language = f\"(\\'{key}\\'\"+\", \"+ str(value)+\")\"\n",
    "    producer.send((language).encode('utf-8'))\n",
    "\n",
    "# Destroy the pulsar client\n",
    "client.close()"
   ]
  }
 ],
 "metadata": {
  "kernelspec": {
   "display_name": "Python 3 (ipykernel)",
   "language": "python",
   "name": "python3"
  },
  "language_info": {
   "codemirror_mode": {
    "name": "ipython",
    "version": 3
   },
   "file_extension": ".py",
   "mimetype": "text/x-python",
   "name": "python",
   "nbconvert_exporter": "python",
   "pygments_lexer": "ipython3",
   "version": "3.8.10"
  }
 },
 "nbformat": 4,
 "nbformat_minor": 5
}
