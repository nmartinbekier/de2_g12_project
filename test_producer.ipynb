{
 "cells": [
  {
   "cell_type": "markdown",
   "id": "06ee0740-ea7a-430d-ab3c-572d6d1ee7c8",
   "metadata": {},
   "source": [
    "# Test producer notebook\n",
    "Some remarks:\n",
    "* This notebook supposes we already have Pulsar running (tested it in Standalone mode)\n",
    "* To ensure the information sent can later be read asynchronously, in the order we send it, and read multiple times, we have to configure the Pulsar cluster for retaining messages (even after read by a consumer), and with message deduplication (to avoid duplication of messages if we send them more than once). This can be configured in the pulsar's config file, or through `pulsar-admin` command line for the default 'tenant/namespace', with:\n",
    "  * `pulsar-admin namespaces set-retention public/default --size -1 --time -1`\n",
    "  * `pulsar-admin namespaces set-deduplication public/default --enable` "
   ]
  },
  {
   "cell_type": "code",
   "execution_count": 8,
   "id": "86e4c357-a465-4a74-a35e-0296be1671dd",
   "metadata": {},
   "outputs": [],
   "source": [
    "import pulsar\n",
    "from pulsar import PartitionsRoutingMode"
   ]
  },
  {
   "cell_type": "code",
   "execution_count": 10,
   "id": "38cb09ed-cbca-4f18-a5f3-153d04ff53d8",
   "metadata": {},
   "outputs": [],
   "source": [
    "# Function needed when using 'send_async', for when the broker receives the message\n",
    "def callback(res, msg_id): return\n",
    "\n",
    "def send_results(results_dictionary, topic_name):\n",
    "    \"\"\"Function to send Pulsar the results of a query\n",
    "    it requires results in a {'key_1':value1, .. 'key_n':value_n} format, and it would be easier\n",
    "    if we can assume they are ordered in the way we want the consumer to view them\n",
    "    \"\"\"\n",
    "    # Create a pulsar client by supplying ip address and port\n",
    "    client = pulsar.Client('pulsar://localhost:6650')\n",
    "\n",
    "    # Use Single Partition to ensure the consumer will read messages in order from the same partition\n",
    "    producer = client.create_producer(f'persistent://public/default/{topic_name}',\n",
    "                                     message_routing_mode=PartitionsRoutingMode.UseSinglePartition)\n",
    "\n",
    "    # Sending messages in a tuple ('key', value) type of formatting\n",
    "    for key, value in top_languages_dict.items():\n",
    "        language = f\"(\\'{key}\\'\"+\", \"+ str(value)+\")\"\n",
    "        producer.send_async((language).encode('utf-8'), callback)\n",
    "\n",
    "    # Once we send everything, send a last message signalling an End of String (EOS)\n",
    "    # and including a property stating EOS=True\n",
    "    producer.send_async((\"EOS\").encode('utf-8'), callback, properties=dict(EOS=\"True\"))\n",
    "\n",
    "    # Destroy the pulsar client\n",
    "    client.close()"
   ]
  },
  {
   "cell_type": "code",
   "execution_count": 11,
   "id": "6470e38a-d2fe-4366-8c84-6e5589d5112d",
   "metadata": {},
   "outputs": [
    {
     "name": "stdout",
     "output_type": "stream",
     "text": [
      "2022-05-19 14:00:38.120 INFO  [140569026484032] ClientConnection:189 | [<none> -> pulsar://localhost:6650] Create ClientConnection, timeout=10000\n",
      "2022-05-19 14:00:38.120 INFO  [140569026484032] ConnectionPool:96 | Created connection for pulsar://localhost:6650\n",
      "2022-05-19 14:00:38.121 INFO  [140568296003328] ClientConnection:375 | [127.0.0.1:45910 -> 127.0.0.1:6650] Connected to broker\n",
      "2022-05-19 14:00:38.135 INFO  [140568296003328] HandlerBase:64 | [persistent://public/default/top_languages, ] Getting connection from pool\n",
      "2022-05-19 14:00:38.148 INFO  [140568296003328] ProducerImpl:189 | [persistent://public/default/top_languages, ] Created producer on broker [127.0.0.1:45910 -> 127.0.0.1:6650] \n",
      "2022-05-19 14:00:38.151 INFO  [140569026484032] ClientImpl:496 | Closing Pulsar client with 1 producers and 0 consumers\n",
      "2022-05-19 14:00:38.152 INFO  [140569026484032] ProducerImpl:686 | [persistent://public/default/top_languages, standalone-0-14] Closing producer for topic persistent://public/default/top_languages\n",
      "2022-05-19 14:00:38.160 INFO  [140568296003328] ProducerImpl:729 | [persistent://public/default/top_languages, standalone-0-14] Closed producer\n",
      "2022-05-19 14:00:38.160 INFO  [140568296003328] ClientConnection:1559 | [127.0.0.1:45910 -> 127.0.0.1:6650] Connection closed\n",
      "2022-05-19 14:00:38.162 INFO  [140568296003328] ProducerImpl:655 | Producer - [persistent://public/default/top_languages, standalone-0-14] , [batching  = off]\n",
      "2022-05-19 14:00:38.165 INFO  [140568296003328] ClientConnection:263 | [127.0.0.1:45910 -> 127.0.0.1:6650] Destroyed connection\n"
     ]
    }
   ],
   "source": [
    "# test list for top languages. Later on this info comes from the queries\n",
    "top_languages_list = [('JavaScript', 414558), ('Java', 177839), ('Python', 267520), ('CSS', 57083), \n",
    "                ('PHP', 50818), ('Ruby', 22368), ('C++', 76267), ('C', 42708), ('Shell', 35257), \n",
    "                ('C#', 66798), ('Objective-C', 2120), ('R', 26508), ('VimL', 3812), ('Go', 24685), \n",
    "                ('Perl', 2498), ('CoffeeScript', 375), ('TeX', 5473), ('Swift', 14564), ('Scala', 3240), \n",
    "                ('Emacs Lisp', 35), ('Haskell', 2009), ('Lua', 5163), ('Clojure', 1278), ('Matlab', 11335), \n",
    "                ('Makefile', 7215), ('Groovy', 894), ('Puppet', 182), ('Rust', 11433), ('PowerShell', 4959)]\n",
    "top_languages_dict = dict(top_languages_list)\n",
    "\n",
    "send_results(top_languages_dict, 'top_languages')"
   ]
  },
  {
   "cell_type": "code",
   "execution_count": null,
   "id": "97247248-c1e1-468a-9029-665072f71734",
   "metadata": {},
   "outputs": [],
   "source": []
  }
 ],
 "metadata": {
  "kernelspec": {
   "display_name": "Python 3 (ipykernel)",
   "language": "python",
   "name": "python3"
  },
  "language_info": {
   "codemirror_mode": {
    "name": "ipython",
    "version": 3
   },
   "file_extension": ".py",
   "mimetype": "text/x-python",
   "name": "python",
   "nbconvert_exporter": "python",
   "pygments_lexer": "ipython3",
   "version": "3.8.10"
  }
 },
 "nbformat": 4,
 "nbformat_minor": 5
}
