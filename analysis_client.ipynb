{
 "cells": [
  {
   "cell_type": "markdown",
   "id": "9ea9af4e-91a3-4295-8903-5e9c9292847c",
   "metadata": {},
   "source": [
    "# GitHub analysis client\n",
    "This first version runs the analysis and takes for granted that pulsar already has the information it needs to do this."
   ]
  },
  {
   "cell_type": "code",
   "execution_count": 1,
   "id": "ecb2850d-e27e-4063-8123-e15cdf3bb7df",
   "metadata": {},
   "outputs": [],
   "source": [
    "import matplotlib.pyplot as plt\n",
    "import time\n",
    "import operator\n",
    "import pulsar\n",
    "import _pulsar"
   ]
  },
  {
   "cell_type": "code",
   "execution_count": 41,
   "id": "a2444f45-8653-4256-836d-7825239cb913",
   "metadata": {},
   "outputs": [],
   "source": [
    "# Function to plot the results\n",
    "def plot_dict(dictionary, title='', xlabel='', ylabel=''):\n",
    "    fig = plt.figure(figsize=(12,6))\n",
    "    ax = fig.add_subplot(111)\n",
    "\n",
    "    ax.set_ylabel(ylabel)\n",
    "    ax.set_title(title)\n",
    "\n",
    "    top_languages = dict(sorted(dictionary.items(), key=operator.itemgetter(1), reverse=True))\n",
    "    x_axis = list(top_languages.keys())\n",
    "    y_axis = list(top_languages.values())\n",
    "    plt.bar(range(len(top_languages)), y_axis, tick_label=x_axis)\n",
    "    plt.show()\n",
    "    \n",
    "# Function to fetch the results from Pulsar based on a topic name and values to receive\n",
    "# it assumes it will receive messages ordered and in tuple format\n",
    "def get_top_values(topic, num_values):\n",
    "    \n",
    "    client = pulsar.Client('pulsar://localhost:6650')\n",
    "    \n",
    "    curr_time = str(int(time.time()))\n",
    "    \n",
    "    # Create a consumer on persistent topic, starting from the initial position\n",
    "    # and with a unique subscription name, so to always get all info\n",
    "    consumer = client.subscribe(\n",
    "        topic='persistent://public/default/'+topic,\n",
    "        subscription_name=topic+'_sub_'+curr_time,\n",
    "        initial_position=_pulsar.InitialPosition.Earliest)\n",
    "    \n",
    "    result_dict = {}\n",
    "    for i in range(num_values):\n",
    "        msg = consumer.receive()\n",
    "        try:\n",
    "            # Save the string message (decode from byte value)\n",
    "            message = str(msg.value().decode())\n",
    "            # Acknowledge that the message was received\n",
    "            \n",
    "            consumer.acknowledge(msg)\n",
    "            \n",
    "            # Check for the 'EOS' (End of String) property we added to the last message\n",
    "            # If we find it, exit the loop to stop receiving more messages\n",
    "            msg_properties = msg.properties()\n",
    "            if 'EOS' in msg_properties.keys():\n",
    "                if(msg_properties['EOS']=='True'):\n",
    "                    print(\"\\n*** Reached end of values ***\\n\")\n",
    "                    break\n",
    "            \n",
    "            # Evaluate the string (should have tuple format) and add to dict\n",
    "            result_dict.update(dict([eval(message)]))            \n",
    "\n",
    "        except:\n",
    "            print(\"There has been an exception\")\n",
    "            consumer.negative_acknowledge(msg)\n",
    "    \n",
    "    client.close()\n",
    "    \n",
    "    return result_dict"
   ]
  },
  {
   "cell_type": "markdown",
   "id": "44feda74-b361-4fea-91b3-4f9ab6e31b74",
   "metadata": {
    "execution": {
     "iopub.execute_input": "2022-05-18T14:01:13.676491Z",
     "iopub.status.busy": "2022-05-18T14:01:13.673790Z",
     "iopub.status.idle": "2022-05-18T14:01:13.696125Z",
     "shell.execute_reply": "2022-05-18T14:01:13.694646Z",
     "shell.execute_reply.started": "2022-05-18T14:01:13.675983Z"
    }
   },
   "source": [
    "# 1. Top programming languages based on the number of projects developed"
   ]
  },
  {
   "cell_type": "code",
   "execution_count": 43,
   "id": "64babd3f-99f5-45dc-a35e-a75d28c069c1",
   "metadata": {},
   "outputs": [
    {
     "name": "stdout",
     "output_type": "stream",
     "text": [
      "2022-05-23 07:56:09.713 INFO  [140256519571264] Client:88 | Subscribing on Topic :persistent://public/default/top_languages\n",
      "2022-05-23 07:56:09.715 INFO  [140256519571264] ClientConnection:189 | [<none> -> pulsar://localhost:6650] Create ClientConnection, timeout=10000\n",
      "2022-05-23 07:56:09.715 INFO  [140256519571264] ConnectionPool:96 | Created connection for pulsar://localhost:6650\n",
      "2022-05-23 07:56:09.719 INFO  [140255600891648] ClientConnection:375 | [127.0.0.1:46526 -> 127.0.0.1:6650] Connected to broker\n",
      "2022-05-23 07:56:09.721 INFO  [140255600891648] HandlerBase:64 | [persistent://public/default/top_languages, top_languages_sub_1653292569, 0] Getting connection from pool\n",
      "2022-05-23 07:56:09.920 INFO  [140255600891648] ConsumerImpl:224 | [persistent://public/default/top_languages, top_languages_sub_1653292569, 0] Created consumer on broker [127.0.0.1:46526 -> 127.0.0.1:6650] \n",
      "2022-05-23 07:56:09.940 INFO  [140256519571264] ClientImpl:496 | Closing Pulsar client with 0 producers and 1 consumers\n",
      "2022-05-23 07:56:09.940 INFO  [140256519571264] ConsumerImpl:999 | [persistent://public/default/top_languages, top_languages_sub_1653292569, 0] Closing consumer for topic persistent://public/default/top_languages\n",
      "2022-05-23 07:56:09.941 INFO  [140255600891648] ConsumerImpl:1055 | [persistent://public/default/top_languages, top_languages_sub_1653292569, 0] Closed consumer 0\n",
      "2022-05-23 07:56:09.942 INFO  [140255600891648] ClientConnection:1559 | [127.0.0.1:46526 -> 127.0.0.1:6650] Connection closed\n",
      "2022-05-23 07:56:09.952 INFO  [140256519571264] ClientConnection:263 | [127.0.0.1:46526 -> 127.0.0.1:6650] Destroyed connection\n"
     ]
    },
    {
     "data": {
      "image/png": "[encoded data removed]",
      "text/plain": [
       "<Figure size 864x432 with 1 Axes>"
      ]
     },
     "metadata": {
      "needs_background": "light"
     },
     "output_type": "display_data"
    }
   ],
   "source": [
    "# Define the number of top languages to return, get the results, and plot them\n",
    "num_results = 6\n",
    "q1_dict = get_top_values('top_languages', num_results)\n",
    "returned_results = len(q1_dict)\n",
    "plot_dict(q1_dict, \n",
    "          title=f'Top {returned_results} programming languages by number of repositories', \n",
    "          xlabel='', ylabel='Number of repositories')"
   ]
  },
  {
   "cell_type": "markdown",
   "id": "0a10e825-b5b5-442c-8cc2-7d02a93fea2d",
   "metadata": {
    "execution": {
     "iopub.execute_input": "2022-05-18T14:03:03.610794Z",
     "iopub.status.busy": "2022-05-18T14:03:03.607179Z",
     "iopub.status.idle": "2022-05-18T14:03:03.618423Z",
     "shell.execute_reply": "2022-05-18T14:03:03.617189Z",
     "shell.execute_reply.started": "2022-05-18T14:03:03.610732Z"
    }
   },
   "source": [
    "# 2. Repositories with most commits"
   ]
  },
  {
   "cell_type": "code",
   "execution_count": null,
   "id": "d2bb7ef4-a993-4c4f-9130-1c795a987d39",
   "metadata": {},
   "outputs": [],
   "source": []
  },
  {
   "cell_type": "markdown",
   "id": "f3cfaa4a-8eb8-4658-8c9f-7dc1bfd0eaef",
   "metadata": {},
   "source": [
    "# 3. Top languages with testdriven approach"
   ]
  },
  {
   "cell_type": "code",
   "execution_count": null,
   "id": "f97fa694-4228-4f0f-96e1-fa18b748b169",
   "metadata": {},
   "outputs": [],
   "source": []
  },
  {
   "cell_type": "markdown",
   "id": "9113c5aa-373c-4554-93a2-52d5fbd25e9b",
   "metadata": {},
   "source": [
    "# 4. Top languages with testdriven approach and continous integration"
   ]
  },
  {
   "cell_type": "code",
   "execution_count": null,
   "id": "116d9865-24e6-4009-964d-82bda0d19261",
   "metadata": {},
   "outputs": [],
   "source": []
  }
 ],
 "metadata": {
  "kernelspec": {
   "display_name": "Python 3 (ipykernel)",
   "language": "python",
   "name": "python3"
  },
  "language_info": {
   "codemirror_mode": {
    "name": "ipython",
    "version": 3
   },
   "file_extension": ".py",
   "mimetype": "text/x-python",
   "name": "python",
   "nbconvert_exporter": "python",
   "pygments_lexer": "ipython3",
   "version": "3.8.10"
  }
 },
 "nbformat": 4,
 "nbformat_minor": 5
}
