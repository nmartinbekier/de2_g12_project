{
 "cells": [
  {
   "cell_type": "markdown",
   "id": "9ea9af4e-91a3-4295-8903-5e9c9292847c",
   "metadata": {},
   "source": [
    "# GitHub analysis client\n",
    "This first version runs the analysis and takes for granted that pulsar already has the information it needs to do this."
   ]
  },
  {
   "cell_type": "code",
   "execution_count": 9,
   "id": "ecb2850d-e27e-4063-8123-e15cdf3bb7df",
   "metadata": {},
   "outputs": [],
   "source": [
    "import matplotlib.pyplot as plt\n",
    "import operator\n",
    "import pulsar\n",
    "\n",
    "client = pulsar.Client('pulsar://localhost:6650')"
   ]
  },
  {
   "cell_type": "code",
   "execution_count": 3,
   "id": "ece51fd3-fd89-478c-8d76-47b74a5ab815",
   "metadata": {},
   "outputs": [],
   "source": [
    "# Assumes it will receive messages ordered and in tuple format\n",
    "def get_top_values(topic, num_values):\n",
    "    \n",
    "    consumer = client.subscribe(\n",
    "                  topic=topic,\n",
    "                  subscription_name=topic+'_sub')\n",
    "    \n",
    "    result_dict = {}\n",
    "    for i in range(num_values):\n",
    "        msg = consumer.receive()\n",
    "        try:\n",
    "            # Save the string message (decode from byte value)\n",
    "            message = str(msg.value().decode())\n",
    "            # Acknowledge that the message was received\n",
    "            consumer.acknowledge(msg)\n",
    "            # Evaluate the string (should have tuple format) and add to dict\n",
    "            result_dict.update(dict([eval(message)]))\n",
    "        except:\n",
    "            consumer.negative_acknowledge(msg)\n",
    "    \n",
    "    return result_dict"
   ]
  },
  {
   "cell_type": "markdown",
   "id": "d3d99a5c-0686-4f9d-bba2-4d1db9d5e187",
   "metadata": {},
   "source": [
    "## Test data and function before Pulsar implementation"
   ]
  },
  {
   "cell_type": "code",
   "execution_count": 6,
   "id": "6b3dda4c-2395-4dd9-8f6f-5e4b1a2eaa11",
   "metadata": {},
   "outputs": [],
   "source": [
    "# Instead of a topic to connect to, receives a list that already has the values\n",
    "def get_top_values_test(test_list, num_values): \n",
    "    result_dict = {}\n",
    "    for i in range(num_values):\n",
    "        result_dict.update(dict([test_list[i]]))\n",
    "    return result_dict"
   ]
  },
  {
   "cell_type": "code",
   "execution_count": 7,
   "id": "444892ff-05b4-4ee9-9886-b760cc1b25b4",
   "metadata": {},
   "outputs": [],
   "source": [
    "# test list for top languages\n",
    "top_languages_list = [('JavaScript', 414558), ('Java', 177839), ('Python', 267520), ('CSS', 57083), \n",
    "                ('PHP', 50818), ('Ruby', 22368), ('C++', 76267), ('C', 42708), ('Shell', 35257), \n",
    "                ('C#', 66798), ('Objective-C', 2120), ('R', 26508), ('VimL', 3812), ('Go', 24685), \n",
    "                ('Perl', 2498), ('CoffeeScript', 375), ('TeX', 5473), ('Swift', 14564), ('Scala', 3240), \n",
    "                ('Emacs Lisp', 35), ('Haskell', 2009), ('Lua', 5163), ('Clojure', 1278), ('Matlab', 11335), \n",
    "                ('Makefile', 7215), ('Groovy', 894), ('Puppet', 182), ('Rust', 11433), ('PowerShell', 4959)]"
   ]
  },
  {
   "cell_type": "markdown",
   "id": "44feda74-b361-4fea-91b3-4f9ab6e31b74",
   "metadata": {
    "execution": {
     "iopub.execute_input": "2022-05-18T14:01:13.676491Z",
     "iopub.status.busy": "2022-05-18T14:01:13.673790Z",
     "iopub.status.idle": "2022-05-18T14:01:13.696125Z",
     "shell.execute_reply": "2022-05-18T14:01:13.694646Z",
     "shell.execute_reply.started": "2022-05-18T14:01:13.675983Z"
    }
   },
   "source": [
    "# 1. Top programming languages based on the number of projects developed"
   ]
  },
  {
   "cell_type": "code",
   "execution_count": 26,
   "id": "64babd3f-99f5-45dc-a35e-a75d28c069c1",
   "metadata": {},
   "outputs": [
    {
     "data": {
      "image/png": "[encoded data removed]",
      "text/plain": [
       "<Figure size 864x432 with 1 Axes>"
      ]
     },
     "metadata": {
      "needs_background": "light"
     },
     "output_type": "display_data"
    }
   ],
   "source": [
    "top_num = 6\n",
    "\n",
    "q1_dict = get_top_values_test(top_languages_list, top_num)\n",
    "\n",
    "fig = plt.figure(figsize=(12,6))\n",
    "ax = fig.add_subplot(111)\n",
    "\n",
    "ax.set_ylabel('Number of repositories')\n",
    "ax.set_title(f'Top {top_num} programming languages by repositories')\n",
    "\n",
    "top_languages = dict(sorted(q1_dict.items(), key=operator.itemgetter(1), reverse=True)[:10])\n",
    "x_axis = list(top_languages.keys())\n",
    "y_axis = list(top_languages.values())\n",
    "plt.bar(range(len(top_languages)), y_axis, tick_label=x_axis)\n",
    "plt.show()"
   ]
  },
  {
   "cell_type": "markdown",
   "id": "0a10e825-b5b5-442c-8cc2-7d02a93fea2d",
   "metadata": {
    "execution": {
     "iopub.execute_input": "2022-05-18T14:03:03.610794Z",
     "iopub.status.busy": "2022-05-18T14:03:03.607179Z",
     "iopub.status.idle": "2022-05-18T14:03:03.618423Z",
     "shell.execute_reply": "2022-05-18T14:03:03.617189Z",
     "shell.execute_reply.started": "2022-05-18T14:03:03.610732Z"
    }
   },
   "source": [
    "# 2. Repositories with most commits"
   ]
  },
  {
   "cell_type": "code",
   "execution_count": null,
   "id": "d2bb7ef4-a993-4c4f-9130-1c795a987d39",
   "metadata": {},
   "outputs": [],
   "source": []
  },
  {
   "cell_type": "markdown",
   "id": "f3cfaa4a-8eb8-4658-8c9f-7dc1bfd0eaef",
   "metadata": {},
   "source": [
    "# 3. Top languages with testdriven approach"
   ]
  },
  {
   "cell_type": "code",
   "execution_count": null,
   "id": "f97fa694-4228-4f0f-96e1-fa18b748b169",
   "metadata": {},
   "outputs": [],
   "source": []
  },
  {
   "cell_type": "markdown",
   "id": "9113c5aa-373c-4554-93a2-52d5fbd25e9b",
   "metadata": {},
   "source": [
    "# 4. Top languages with testdriven approach and continous integration"
   ]
  },
  {
   "cell_type": "code",
   "execution_count": null,
   "id": "116d9865-24e6-4009-964d-82bda0d19261",
   "metadata": {},
   "outputs": [],
   "source": []
  }
 ],
 "metadata": {
  "kernelspec": {
   "display_name": "Python 3 (ipykernel)",
   "language": "python",
   "name": "python3"
  },
  "language_info": {
   "codemirror_mode": {
    "name": "ipython",
    "version": 3
   },
   "file_extension": ".py",
   "mimetype": "text/x-python",
   "name": "python",
   "nbconvert_exporter": "python",
   "pygments_lexer": "ipython3",
   "version": "3.8.10"
  }
 },
 "nbformat": 4,
 "nbformat_minor": 5
}
