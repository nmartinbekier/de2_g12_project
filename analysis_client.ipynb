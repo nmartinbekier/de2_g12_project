{
 "cells": [
  {
   "cell_type": "markdown",
   "id": "9ea9af4e-91a3-4295-8903-5e9c9292847c",
   "metadata": {},
   "source": [
    "# GitHub analysis client\n",
    "This first version runs the analysis and takes for granted that pulsar already has the information it needs to do this."
   ]
  },
  {
   "cell_type": "code",
   "execution_count": null,
   "id": "ecb2850d-e27e-4063-8123-e15cdf3bb7df",
   "metadata": {},
   "outputs": [],
   "source": [
    "import pulsar\n",
    "client = pulsar.Client('pulsar://localhost:6650')"
   ]
  },
  {
   "cell_type": "markdown",
   "id": "44feda74-b361-4fea-91b3-4f9ab6e31b74",
   "metadata": {
    "execution": {
     "iopub.execute_input": "2022-05-18T14:01:13.676491Z",
     "iopub.status.busy": "2022-05-18T14:01:13.673790Z",
     "iopub.status.idle": "2022-05-18T14:01:13.696125Z",
     "shell.execute_reply": "2022-05-18T14:01:13.694646Z",
     "shell.execute_reply.started": "2022-05-18T14:01:13.675983Z"
    }
   },
   "source": [
    "# 1. Top programming languages based on the number of projects developed"
   ]
  },
  {
   "cell_type": "code",
   "execution_count": null,
   "id": "64babd3f-99f5-45dc-a35e-a75d28c069c1",
   "metadata": {},
   "outputs": [],
   "source": [
    "consumer = client.subscribe(\n",
    "                  topic='top_languages',\n",
    "                  subscription_name='top_lang_subsc',\n",
    "                  schema=AvroSchema(Example) )"
   ]
  },
  {
   "cell_type": "markdown",
   "id": "0a10e825-b5b5-442c-8cc2-7d02a93fea2d",
   "metadata": {
    "execution": {
     "iopub.execute_input": "2022-05-18T14:03:03.610794Z",
     "iopub.status.busy": "2022-05-18T14:03:03.607179Z",
     "iopub.status.idle": "2022-05-18T14:03:03.618423Z",
     "shell.execute_reply": "2022-05-18T14:03:03.617189Z",
     "shell.execute_reply.started": "2022-05-18T14:03:03.610732Z"
    }
   },
   "source": [
    "# 2. Repositories with most commits"
   ]
  },
  {
   "cell_type": "code",
   "execution_count": null,
   "id": "d2bb7ef4-a993-4c4f-9130-1c795a987d39",
   "metadata": {},
   "outputs": [],
   "source": []
  },
  {
   "cell_type": "markdown",
   "id": "f3cfaa4a-8eb8-4658-8c9f-7dc1bfd0eaef",
   "metadata": {},
   "source": [
    "# 3. Top languages with testdriven approach"
   ]
  },
  {
   "cell_type": "code",
   "execution_count": null,
   "id": "f97fa694-4228-4f0f-96e1-fa18b748b169",
   "metadata": {},
   "outputs": [],
   "source": []
  },
  {
   "cell_type": "markdown",
   "id": "9113c5aa-373c-4554-93a2-52d5fbd25e9b",
   "metadata": {},
   "source": [
    "# 4. Top languages with testdriven approach and continous integration"
   ]
  },
  {
   "cell_type": "code",
   "execution_count": null,
   "id": "116d9865-24e6-4009-964d-82bda0d19261",
   "metadata": {},
   "outputs": [],
   "source": []
  }
 ],
 "metadata": {
  "kernelspec": {
   "display_name": "Python 3 (ipykernel)",
   "language": "python",
   "name": "python3"
  },
  "language_info": {
   "codemirror_mode": {
    "name": "ipython",
    "version": 3
   },
   "file_extension": ".py",
   "mimetype": "text/x-python",
   "name": "python",
   "nbconvert_exporter": "python",
   "pygments_lexer": "ipython3",
   "version": "3.9.10"
  }
 },
 "nbformat": 4,
 "nbformat_minor": 5
}
