{
 "cells": [
  {
   "cell_type": "markdown",
   "id": "9ea9af4e-91a3-4295-8903-5e9c9292847c",
   "metadata": {},
   "source": [
    "# GitHub analysis client\n",
    "This notebook assumes that Pulsar is running and there are already partial results available"
   ]
  },
  {
   "cell_type": "code",
   "execution_count": 1,
   "id": "ecb2850d-e27e-4063-8123-e15cdf3bb7df",
   "metadata": {},
   "outputs": [],
   "source": [
    "import matplotlib.pyplot as plt\n",
    "import operator\n",
    "import os\n",
    "import pandas as pd\n",
    "import sortedcontainers\n",
    "from pulsar_wrapper import PulsarConnection"
   ]
  },
  {
   "cell_type": "code",
   "execution_count": 2,
   "id": "86c9bbfe-7319-48a8-bf51-c30c917aa6cb",
   "metadata": {},
   "outputs": [],
   "source": [
    "class LanguageTuple(object):\n",
    "    \"\"\" Data Type to support tuple in-place sorting using sortedcontainers \"\"\"\n",
    "    def __init__(self, lang_tuple):\n",
    "        self.lang = lang_tuple[0]\n",
    "        self.value = int(lang_tuple[1] or 0)\n",
    "        \n",
    "    def __repr__(self):\n",
    "        return f\"('{self.lang}', {self.value})\"\n",
    "\n",
    "def sort_results(language_stats, field, num_results=None):\n",
    "    lang_repos = sortedcontainers.SortedKeyList(key=lambda x: -x.value)\n",
    "    for language in language_stats:\n",
    "        lang_repos.add(LanguageTuple((language, language_stats[language][field])))\n",
    "    return list(lang_repos[:num_results])"
   ]
  },
  {
   "cell_type": "code",
   "execution_count": 3,
   "id": "d82c9f42-ec19-497a-b180-18a2c65a5f54",
   "metadata": {},
   "outputs": [],
   "source": [
    "# Function to plot the results\n",
    "def plot_result(result_tuple, title='', xlabel='', ylabel=''):\n",
    "    fig = plt.figure(figsize=(12,6))\n",
    "    ax = fig.add_subplot(111)\n",
    "\n",
    "    ax.set_ylabel(ylabel)\n",
    "    ax.set_title(title)\n",
    "\n",
    "    x_axis = [val.lang for val in result_tuple]\n",
    "    y_axis = [val.value for val in result_tuple]\n",
    "    plt.bar(range(len(result_tuple)), y_axis, tick_label=x_axis)\n",
    "    plt.show()"
   ]
  },
  {
   "cell_type": "code",
   "execution_count": 4,
   "id": "004b7486-4e55-4faf-b755-15a3b5acfa5d",
   "metadata": {},
   "outputs": [
    {
     "name": "stdout",
     "output_type": "stream",
     "text": [
      "2022-06-03 20:31:23.083 INFO  [140640557295424] ClientConnection:189 | [<none> -> pulsar://localhost:6650] Create ClientConnection, timeout=10000\n",
      "2022-06-03 20:31:23.083 INFO  [140640557295424] ConnectionPool:96 | Created connection for pulsar://localhost:6650\n",
      "2022-06-03 20:31:23.091 INFO  [140639605208832] ClientConnection:375 | [127.0.0.1:57288 -> 127.0.0.1:6650] Connected to broker\n",
      "2022-06-03 20:31:23.094 INFO  [140639605208832] HandlerBase:64 | [persistent://public/static/initialized, reader-491ffea6b7, 0] Getting connection from pool\n",
      "2022-06-03 20:31:23.096 INFO  [140639605208832] ConsumerImpl:224 | [persistent://public/static/initialized, reader-491ffea6b7, 0] Created consumer on broker [127.0.0.1:57288 -> 127.0.0.1:6650] \n",
      "Found 'Initializing' message\n",
      "Found 'Initialized' message\n",
      "2022-06-03 20:31:23.108 INFO  [140640557295424] ConsumerImpl:999 | [persistent://public/static/initialized, reader-491ffea6b7, 0] Closing consumer for topic persistent://public/static/initialized\n",
      "2022-06-03 20:31:23.112 INFO  [140639605208832] ConsumerImpl:1055 | [persistent://public/static/initialized, reader-491ffea6b7, 0] Closed consumer 0\n"
     ]
    }
   ],
   "source": [
    "# Take Pulsar host value from the environment variables\n",
    "environment = os.environ\n",
    "pulsar_host = environment.get(\"pulsar_host\")\n",
    "# If not set, assume its running in localhost\n",
    "if (pulsar_host is None): pulsar_host = 'localhost'\n",
    "my_pulsar = PulsarConnection(ip_address=pulsar_host)"
   ]
  },
  {
   "cell_type": "code",
   "execution_count": 5,
   "id": "878a851b-0f13-4343-ad7b-25a9e5ef6012",
   "metadata": {},
   "outputs": [
    {
     "name": "stdout",
     "output_type": "stream",
     "text": [
      "2022-06-03 20:31:26.696 INFO  [140639605208832] HandlerBase:64 | [persistent://public/static/initialized, reader-1bf6486d68, 1] Getting connection from pool\n",
      "2022-06-03 20:31:26.697 INFO  [140639605208832] ConsumerImpl:224 | [persistent://public/static/initialized, reader-1bf6486d68, 1] Created consumer on broker [127.0.0.1:57288 -> 127.0.0.1:6650] \n",
      "2022-06-03 20:31:26.701 INFO  [140640557295424] ConsumerImpl:999 | [persistent://public/static/initialized, reader-1bf6486d68, 1] Closing consumer for topic persistent://public/static/initialized\n",
      "2022-06-03 20:31:26.702 INFO  [140639605208832] ConsumerImpl:1055 | [persistent://public/static/initialized, reader-1bf6486d68, 1] Closed consumer 1\n"
     ]
    }
   ],
   "source": [
    "cur_cutoff_date = my_pulsar.get_current_cuttoff_date()"
   ]
  },
  {
   "cell_type": "code",
   "execution_count": 6,
   "id": "36aaab0d-b40a-4b87-a517-40ab5d6a0f28",
   "metadata": {},
   "outputs": [
    {
     "data": {
      "text/plain": [
       "'2021-01-02'"
      ]
     },
     "execution_count": 6,
     "metadata": {},
     "output_type": "execute_result"
    }
   ],
   "source": [
    "cur_cutoff_date"
   ]
  },
  {
   "cell_type": "code",
   "execution_count": 7,
   "id": "140eba57-c7da-4fa6-b5e7-aba8e147ff2b",
   "metadata": {},
   "outputs": [
    {
     "name": "stdout",
     "output_type": "stream",
     "text": [
      "2022-06-03 20:31:33.291 INFO  [140639605208832] HandlerBase:64 | [persistent://public/static/initialized, reader-f45aeb87da, 2] Getting connection from pool\n",
      "2022-06-03 20:31:33.293 INFO  [140639605208832] ConsumerImpl:224 | [persistent://public/static/initialized, reader-f45aeb87da, 2] Created consumer on broker [127.0.0.1:57288 -> 127.0.0.1:6650] \n",
      "2022-06-03 20:31:33.296 INFO  [140640557295424] ConsumerImpl:999 | [persistent://public/static/initialized, reader-f45aeb87da, 2] Closing consumer for topic persistent://public/static/initialized\n",
      "2022-06-03 20:31:33.296 INFO  [140639605208832] ConsumerImpl:1055 | [persistent://public/static/initialized, reader-f45aeb87da, 2] Closed consumer 2\n",
      "2022-06-03 20:31:33.299 INFO  [140639605208832] HandlerBase:64 | [persistent://public/static/languages, reader-77a390b04c, 3] Getting connection from pool\n",
      "2022-06-03 20:31:33.300 INFO  [140639605208832] ConsumerImpl:224 | [persistent://public/static/languages, reader-77a390b04c, 3] Created consumer on broker [127.0.0.1:57288 -> 127.0.0.1:6650] \n",
      "2022-06-03 20:31:33.318 INFO  [140640557295424] ConsumerImpl:999 | [persistent://public/static/languages, reader-77a390b04c, 3] Closing consumer for topic persistent://public/static/languages\n",
      "2022-06-03 20:31:33.320 INFO  [140640557295424] ConsumerImpl:1055 | [persistent://public/static/languages, reader-77a390b04c, 3] Closed consumer 3\n",
      "2022-06-03 20:31:33.329 INFO  [140639605208832] HandlerBase:64 | [persistent://public/static/aggregate_languages_info, aggregate_languages_info_prod] Getting connection from pool\n",
      "2022-06-03 20:31:33.339 INFO  [140639605208832] ProducerImpl:189 | [persistent://public/static/aggregate_languages_info, aggregate_languages_info_prod] Created producer on broker [127.0.0.1:57288 -> 127.0.0.1:6650] \n",
      "2022-06-03 20:31:33.560 INFO  [140640557295424] ProducerImpl:686 | [persistent://public/static/aggregate_languages_info, aggregate_languages_info_prod] Closing producer for topic persistent://public/static/aggregate_languages_info\n",
      "2022-06-03 20:31:33.561 INFO  [140639605208832] ProducerImpl:729 | [persistent://public/static/aggregate_languages_info, aggregate_languages_info_prod] Closed producer\n",
      "2022-06-03 20:31:33.564 INFO  [140639605208832] HandlerBase:64 | [persistent://public/static/commit_repo_info, reader-d74e811b46, 4] Getting connection from pool\n",
      "2022-06-03 20:31:33.566 INFO  [140639605208832] ConsumerImpl:224 | [persistent://public/static/commit_repo_info, reader-d74e811b46, 4] Created consumer on broker [127.0.0.1:57288 -> 127.0.0.1:6650] \n",
      "2022-06-03 20:31:34.034 INFO  [140640557295424] ConsumerImpl:999 | [persistent://public/static/commit_repo_info, reader-d74e811b46, 4] Closing consumer for topic persistent://public/static/commit_repo_info\n",
      "2022-06-03 20:31:34.035 INFO  [140639605208832] ConsumerImpl:1055 | [persistent://public/static/commit_repo_info, reader-d74e811b46, 4] Closed consumer 4\n",
      "2022-06-03 20:31:34.039 INFO  [140639605208832] HandlerBase:64 | [persistent://public/static/2021-01-03_result_commit, 2021-01-03_result_commit_prod] Getting connection from pool\n",
      "2022-06-03 20:31:34.871 INFO  [140639605208832] ProducerImpl:189 | [persistent://public/static/2021-01-03_result_commit, 2021-01-03_result_commit_prod] Created producer on broker [127.0.0.1:57288 -> 127.0.0.1:6650] \n",
      "\n",
      "*** Reporting the cutoff date to the 'initialized' topic *** \n",
      "\n",
      "2022-06-03 20:31:35.075 INFO  [140640557295424] ProducerImpl:686 | [persistent://public/static/2021-01-03_result_commit, 2021-01-03_result_commit_prod] Closing producer for topic persistent://public/static/2021-01-03_result_commit\n",
      "2022-06-03 20:31:35.075 INFO  [140639605208832] ProducerImpl:729 | [persistent://public/static/2021-01-03_result_commit, 2021-01-03_result_commit_prod] Closed producer\n",
      "2022-06-03 20:31:35.076 INFO  [140639605208832] HandlerBase:64 | [persistent://public/static/initialized, initialized_prod_1654288295] Getting connection from pool\n",
      "2022-06-03 20:31:35.080 INFO  [140639605208832] ProducerImpl:189 | [persistent://public/static/initialized, initialized_prod_1654288295] Created producer on broker [127.0.0.1:57288 -> 127.0.0.1:6650] \n",
      "2022-06-03 20:31:35.082 INFO  [140640557295424] ProducerImpl:655 | Producer - [persistent://public/static/2021-01-03_result_commit, 2021-01-03_result_commit_prod] , [batching  = off]\n",
      "2022-06-03 20:31:35.083 INFO  [140640557295424] ProducerImpl:655 | Producer - [persistent://public/static/initialized, initialized_prod_1654288295] , [batching  = off]\n",
      "2022-06-03 20:31:35.083 WARN  [140640557295424] ProducerImpl:114 | [persistent://public/static/initialized, initialized_prod_1654288295] Destroyed producer which was not properly closed\n",
      "2022-06-03 20:31:35.083 INFO  [140640557295424] ProducerImpl:655 | Producer - [persistent://public/static/aggregate_languages_info, aggregate_languages_info_prod] , [batching  = off]\n"
     ]
    },
    {
     "data": {
      "text/plain": [
       "True"
      ]
     },
     "execution_count": 7,
     "metadata": {},
     "output_type": "execute_result"
    }
   ],
   "source": [
    "my_pulsar.process_results(cutoff_date='2021-01-03')"
   ]
  },
  {
   "cell_type": "code",
   "execution_count": 8,
   "id": "64d38308-7e14-45dd-a76b-245f39a66d27",
   "metadata": {},
   "outputs": [
    {
     "name": "stdout",
     "output_type": "stream",
     "text": [
      "2022-06-03 20:31:42.794 INFO  [140639605208832] HandlerBase:64 | [persistent://public/static/language_results, reader-dd1ac11992, 5] Getting connection from pool\n",
      "2022-06-03 20:31:42.796 INFO  [140639605208832] ConsumerImpl:224 | [persistent://public/static/language_results, reader-dd1ac11992, 5] Created consumer on broker [127.0.0.1:57288 -> 127.0.0.1:6650] \n",
      "2022-06-03 20:31:42.827 INFO  [140640557295424] ConsumerImpl:999 | [persistent://public/static/language_results, reader-dd1ac11992, 5] Closing consumer for topic persistent://public/static/language_results\n",
      "2022-06-03 20:31:42.829 INFO  [140640557295424] ConsumerImpl:1055 | [persistent://public/static/language_results, reader-dd1ac11992, 5] Closed consumer 5\n"
     ]
    }
   ],
   "source": [
    "language_stats = my_pulsar.get_languages_stats()"
   ]
  },
  {
   "cell_type": "code",
   "execution_count": 9,
   "id": "eae2555f-902d-4963-b54b-4dad02adf25f",
   "metadata": {},
   "outputs": [
    {
     "name": "stdout",
     "output_type": "stream",
     "text": [
      "Num repos: 3975\n",
      "Num tests: 714\n",
      "Num ci: 46\n"
     ]
    }
   ],
   "source": [
    "repo_sum, num_tests, num_ci = 0, 0, 0\n",
    "for language in language_stats:\n",
    "    repo_sum+=int(language_stats[language]['num_repos'] or 0)\n",
    "    num_tests+=int(language_stats[language]['num_tests'] or 0)\n",
    "    num_ci+=int(language_stats[language]['num_ci'] or 0)\n",
    "print(f\"Num repos: {repo_sum}\")\n",
    "print(f\"Num tests: {num_tests}\")\n",
    "print(f\"Num ci: {num_ci}\")"
   ]
  },
  {
   "cell_type": "markdown",
   "id": "44feda74-b361-4fea-91b3-4f9ab6e31b74",
   "metadata": {
    "execution": {
     "iopub.execute_input": "2022-05-18T14:01:13.676491Z",
     "iopub.status.busy": "2022-05-18T14:01:13.673790Z",
     "iopub.status.idle": "2022-05-18T14:01:13.696125Z",
     "shell.execute_reply": "2022-05-18T14:01:13.694646Z",
     "shell.execute_reply.started": "2022-05-18T14:01:13.675983Z"
    }
   },
   "source": [
    "# 1. Top programming languages based on the number of projects developed"
   ]
  },
  {
   "cell_type": "code",
   "execution_count": 10,
   "id": "64babd3f-99f5-45dc-a35e-a75d28c069c1",
   "metadata": {},
   "outputs": [
    {
     "data": {
      "image/png": "[encoded data removed]",
      "text/plain": [
       "<Figure size 864x432 with 1 Axes>"
      ]
     },
     "metadata": {
      "needs_background": "light"
     },
     "output_type": "display_data"
    }
   ],
   "source": [
    "# Define the number of top languages to return, get the results, and plot them\n",
    "num_results = 10\n",
    "lang_repos = sort_results(language_stats, 'num_repos', num_results)\n",
    "plot_result(lang_repos, \n",
    "          title=f'Top {len(lang_repos)} programming languages by number of repositories', \n",
    "          xlabel='', ylabel='Number of repositories')"
   ]
  },
  {
   "cell_type": "markdown",
   "id": "0a10e825-b5b5-442c-8cc2-7d02a93fea2d",
   "metadata": {
    "execution": {
     "iopub.execute_input": "2022-05-18T14:03:03.610794Z",
     "iopub.status.busy": "2022-05-18T14:03:03.607179Z",
     "iopub.status.idle": "2022-05-18T14:03:03.618423Z",
     "shell.execute_reply": "2022-05-18T14:03:03.617189Z",
     "shell.execute_reply.started": "2022-05-18T14:03:03.610732Z"
    },
    "tags": []
   },
   "source": [
    "# 2. Repositories with most commits"
   ]
  },
  {
   "cell_type": "code",
   "execution_count": 13,
   "id": "b489f2bc-55ae-45a0-9c5f-fc7954b67cb8",
   "metadata": {},
   "outputs": [
    {
     "name": "stdout",
     "output_type": "stream",
     "text": [
      "2022-06-03 20:32:33.379 INFO  [140639605208832] HandlerBase:64 | [persistent://public/static/initialized, reader-73a7b2c65e, 8] Getting connection from pool\n",
      "2022-06-03 20:32:33.382 INFO  [140639605208832] ConsumerImpl:224 | [persistent://public/static/initialized, reader-73a7b2c65e, 8] Created consumer on broker [127.0.0.1:57288 -> 127.0.0.1:6650] \n",
      "2022-06-03 20:32:33.386 INFO  [140640557295424] ConsumerImpl:999 | [persistent://public/static/initialized, reader-73a7b2c65e, 8] Closing consumer for topic persistent://public/static/initialized\n",
      "2022-06-03 20:32:33.386 INFO  [140639605208832] ConsumerImpl:1055 | [persistent://public/static/initialized, reader-73a7b2c65e, 8] Closed consumer 8\n",
      "\n",
      "*** Showing partial results up to 2021-01-03 (info is still being processed) ***\n",
      "\n",
      "2022-06-03 20:32:33.387 INFO  [140639605208832] HandlerBase:64 | [persistent://public/static/2021-01-03_result_commit, reader-bf1ebc5357, 9] Getting connection from pool\n",
      "2022-06-03 20:32:33.388 INFO  [140639605208832] ConsumerImpl:224 | [persistent://public/static/2021-01-03_result_commit, reader-bf1ebc5357, 9] Created consumer on broker [127.0.0.1:57288 -> 127.0.0.1:6650] \n",
      "2022-06-03 20:32:33.404 INFO  [140640557295424] ConsumerImpl:999 | [persistent://public/static/2021-01-03_result_commit, reader-bf1ebc5357, 9] Closing consumer for topic persistent://public/static/2021-01-03_result_commit\n",
      "2022-06-03 20:32:33.405 INFO  [140639605208832] ConsumerImpl:1055 | [persistent://public/static/2021-01-03_result_commit, reader-bf1ebc5357, 9] Closed consumer 9\n"
     ]
    }
   ],
   "source": [
    "top_repos = my_pulsar.get_top_commits(20)"
   ]
  },
  {
   "cell_type": "code",
   "execution_count": 14,
   "id": "ccdab97f-011c-4491-941f-6f4736b8a28d",
   "metadata": {},
   "outputs": [
    {
     "data": {
      "text/html": [
       "<div>\n",
       "<style scoped>\n",
       "    .dataframe tbody tr th:only-of-type {\n",
       "        vertical-align: middle;\n",
       "    }\n",
       "\n",
       "    .dataframe tbody tr th {\n",
       "        vertical-align: top;\n",
       "    }\n",
       "\n",
       "    .dataframe thead th {\n",
       "        text-align: right;\n",
       "    }\n",
       "</style>\n",
       "<table border=\"1\" class=\"dataframe\">\n",
       "  <thead>\n",
       "    <tr style=\"text-align: right;\">\n",
       "      <th></th>\n",
       "      <th>Repository name</th>\n",
       "      <th>Number of commits</th>\n",
       "    </tr>\n",
       "  </thead>\n",
       "  <tbody>\n",
       "    <tr>\n",
       "      <th>0</th>\n",
       "      <td>AOSP-Krypton/frameworks_base</td>\n",
       "      <td>661920</td>\n",
       "    </tr>\n",
       "    <tr>\n",
       "      <th>1</th>\n",
       "      <td>llvm-mos/llvm-mos</td>\n",
       "      <td>421998</td>\n",
       "    </tr>\n",
       "    <tr>\n",
       "      <th>2</th>\n",
       "      <td>Status-Plus/StatusPlus</td>\n",
       "      <td>396098</td>\n",
       "    </tr>\n",
       "    <tr>\n",
       "      <th>3</th>\n",
       "      <td>GiorgioComitini/COVID-19</td>\n",
       "      <td>107359</td>\n",
       "    </tr>\n",
       "    <tr>\n",
       "      <th>4</th>\n",
       "      <td>merchantsedition/merchantsedition</td>\n",
       "      <td>37380</td>\n",
       "    </tr>\n",
       "    <tr>\n",
       "      <th>5</th>\n",
       "      <td>WangTingMan/chromebase</td>\n",
       "      <td>21989</td>\n",
       "    </tr>\n",
       "    <tr>\n",
       "      <th>6</th>\n",
       "      <td>helaili/enterprise-showcase</td>\n",
       "      <td>12148</td>\n",
       "    </tr>\n",
       "    <tr>\n",
       "      <th>7</th>\n",
       "      <td>wiredfool/pillow-fuzz</td>\n",
       "      <td>11254</td>\n",
       "    </tr>\n",
       "    <tr>\n",
       "      <th>8</th>\n",
       "      <td>scriptex/uptime</td>\n",
       "      <td>10998</td>\n",
       "    </tr>\n",
       "    <tr>\n",
       "      <th>9</th>\n",
       "      <td>Ch4t4r/Nebulo</td>\n",
       "      <td>3465</td>\n",
       "    </tr>\n",
       "    <tr>\n",
       "      <th>10</th>\n",
       "      <td>itizaworld/webev</td>\n",
       "      <td>3290</td>\n",
       "    </tr>\n",
       "    <tr>\n",
       "      <th>11</th>\n",
       "      <td>kidiloskahyper45/tezzKid_bot</td>\n",
       "      <td>2687</td>\n",
       "    </tr>\n",
       "    <tr>\n",
       "      <th>12</th>\n",
       "      <td>ASDAlexander77/TypeScriptCompiler</td>\n",
       "      <td>2477</td>\n",
       "    </tr>\n",
       "    <tr>\n",
       "      <th>13</th>\n",
       "      <td>UU-PlatHome/uu-circles</td>\n",
       "      <td>2438</td>\n",
       "    </tr>\n",
       "    <tr>\n",
       "      <th>14</th>\n",
       "      <td>radareorg/iaito</td>\n",
       "      <td>2312</td>\n",
       "    </tr>\n",
       "    <tr>\n",
       "      <th>15</th>\n",
       "      <td>petertriho/dotfiles</td>\n",
       "      <td>2246</td>\n",
       "    </tr>\n",
       "    <tr>\n",
       "      <th>16</th>\n",
       "      <td>GrapheneOS-Archive/platform_hardware_google_pixel</td>\n",
       "      <td>2134</td>\n",
       "    </tr>\n",
       "    <tr>\n",
       "      <th>17</th>\n",
       "      <td>i12bretro/tutorials</td>\n",
       "      <td>2044</td>\n",
       "    </tr>\n",
       "    <tr>\n",
       "      <th>18</th>\n",
       "      <td>extremscorner/libogc2</td>\n",
       "      <td>1935</td>\n",
       "    </tr>\n",
       "    <tr>\n",
       "      <th>19</th>\n",
       "      <td>YusufSuleman/piskel2</td>\n",
       "      <td>1833</td>\n",
       "    </tr>\n",
       "  </tbody>\n",
       "</table>\n",
       "</div>"
      ],
      "text/plain": [
       "                                      Repository name  Number of commits\n",
       "0                        AOSP-Krypton/frameworks_base             661920\n",
       "1                                   llvm-mos/llvm-mos             421998\n",
       "2                              Status-Plus/StatusPlus             396098\n",
       "3                            GiorgioComitini/COVID-19             107359\n",
       "4                   merchantsedition/merchantsedition              37380\n",
       "5                              WangTingMan/chromebase              21989\n",
       "6                         helaili/enterprise-showcase              12148\n",
       "7                               wiredfool/pillow-fuzz              11254\n",
       "8                                     scriptex/uptime              10998\n",
       "9                                       Ch4t4r/Nebulo               3465\n",
       "10                                   itizaworld/webev               3290\n",
       "11                       kidiloskahyper45/tezzKid_bot               2687\n",
       "12                  ASDAlexander77/TypeScriptCompiler               2477\n",
       "13                             UU-PlatHome/uu-circles               2438\n",
       "14                                    radareorg/iaito               2312\n",
       "15                                petertriho/dotfiles               2246\n",
       "16  GrapheneOS-Archive/platform_hardware_google_pixel               2134\n",
       "17                                i12bretro/tutorials               2044\n",
       "18                              extremscorner/libogc2               1935\n",
       "19                               YusufSuleman/piskel2               1833"
      ]
     },
     "execution_count": 14,
     "metadata": {},
     "output_type": "execute_result"
    }
   ],
   "source": [
    "pd.DataFrame(top_repos, columns=['Repository name','Number of commits'])"
   ]
  },
  {
   "cell_type": "markdown",
   "id": "f3cfaa4a-8eb8-4658-8c9f-7dc1bfd0eaef",
   "metadata": {},
   "source": [
    "# 3. Top languages with testdriven approach"
   ]
  },
  {
   "cell_type": "code",
   "execution_count": 15,
   "id": "f97fa694-4228-4f0f-96e1-fa18b748b169",
   "metadata": {},
   "outputs": [
    {
     "data": {
      "image/png": "[encoded data removed]",
      "text/plain": [
       "<Figure size 864x432 with 1 Axes>"
      ]
     },
     "metadata": {
      "needs_background": "light"
     },
     "output_type": "display_data"
    }
   ],
   "source": [
    "# Define the number of top languages to return, get the results, and plot them\n",
    "num_results_test = 10\n",
    "lang_repos_test = sort_results(language_stats, 'num_tests', num_results_test)\n",
    "plot_result(lang_repos_test, \n",
    "          title=f'Top {len(lang_repos_test)} programming languages by test driven approach', \n",
    "          xlabel='', ylabel='Number of repositories')"
   ]
  },
  {
   "cell_type": "markdown",
   "id": "9113c5aa-373c-4554-93a2-52d5fbd25e9b",
   "metadata": {},
   "source": [
    "# 4. Top languages with testdriven approach and continous integration"
   ]
  },
  {
   "cell_type": "code",
   "execution_count": 16,
   "id": "36c7d6b8-1447-4fcb-a2f8-1879fa06babe",
   "metadata": {},
   "outputs": [
    {
     "data": {
      "image/png": "[encoded data removed]",
      "text/plain": [
       "<Figure size 864x432 with 1 Axes>"
      ]
     },
     "metadata": {
      "needs_background": "light"
     },
     "output_type": "display_data"
    }
   ],
   "source": [
    "# Define the number of top languages to return, get the results, and plot them\n",
    "num_results_ci = 10\n",
    "lang_repos_ci = sort_results(language_stats, 'num_ci', num_results_ci)\n",
    "plot_result(lang_repos_ci, \n",
    "          title=f'Top {len(lang_repos_ci)} languages with test driven approach and ci/cd', \n",
    "          xlabel='', ylabel='Number of repositories')"
   ]
  },
  {
   "cell_type": "code",
   "execution_count": 17,
   "id": "f640bd7e-a8e2-4e3b-b39e-6b26f9360b52",
   "metadata": {},
   "outputs": [
    {
     "name": "stdout",
     "output_type": "stream",
     "text": [
      "2022-06-03 20:32:55.420 INFO  [140640557295424] ClientImpl:496 | Closing Pulsar client with 3 producers and 10 consumers\n",
      "2022-06-03 20:32:55.422 INFO  [140640557295424] ClientConnection:1559 | [127.0.0.1:57288 -> 127.0.0.1:6650] Connection closed\n",
      "2022-06-03 20:32:55.422 INFO  [140640557295424] ClientConnection:263 | [127.0.0.1:57288 -> 127.0.0.1:6650] Destroyed connection\n"
     ]
    }
   ],
   "source": [
    "my_pulsar.close()"
   ]
  },
  {
   "cell_type": "code",
   "execution_count": null,
   "id": "ee4d78d9-c8fb-48bd-84f6-9162f693d276",
   "metadata": {},
   "outputs": [],
   "source": []
  }
 ],
 "metadata": {
  "kernelspec": {
   "display_name": "Python 3 (ipykernel)",
   "language": "python",
   "name": "python3"
  },
  "language_info": {
   "codemirror_mode": {
    "name": "ipython",
    "version": 3
   },
   "file_extension": ".py",
   "mimetype": "text/x-python",
   "name": "python",
   "nbconvert_exporter": "python",
   "pygments_lexer": "ipython3",
   "version": "3.8.10"
  }
 },
 "nbformat": 4,
 "nbformat_minor": 5
}
