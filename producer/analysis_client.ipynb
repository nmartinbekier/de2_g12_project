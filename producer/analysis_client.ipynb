{
 "cells": [
  {
   "cell_type": "markdown",
   "id": "9ea9af4e-91a3-4295-8903-5e9c9292847c",
   "metadata": {},
   "source": [
    "# GitHub analysis client\n",
    "This notebook assumes that Pulsar is running and there are already partial results available"
   ]
  },
  {
   "cell_type": "code",
   "execution_count": 1,
   "id": "ecb2850d-e27e-4063-8123-e15cdf3bb7df",
   "metadata": {},
   "outputs": [],
   "source": [
    "import matplotlib.pyplot as plt\n",
    "import operator\n",
    "import os\n",
    "import pandas as pd\n",
    "import sortedcontainers\n",
    "from pulsar_wrapper import PulsarConnection"
   ]
  },
  {
   "cell_type": "code",
   "execution_count": 2,
   "id": "86c9bbfe-7319-48a8-bf51-c30c917aa6cb",
   "metadata": {},
   "outputs": [],
   "source": [
    "class LanguageTuple(object):\n",
    "    \"\"\" Data Type to support tuple in-place sorting using sortedcontainers \"\"\"\n",
    "    def __init__(self, lang_tuple):\n",
    "        self.lang = lang_tuple[0]\n",
    "        self.value = int(lang_tuple[1] or 0)\n",
    "        \n",
    "    def __repr__(self):\n",
    "        return f\"('{self.lang}', {self.value})\"\n",
    "\n",
    "def sort_results(language_stats, field, num_results=None):\n",
    "    lang_repos = sortedcontainers.SortedKeyList(key=lambda x: -x.value)\n",
    "    for language in language_stats:\n",
    "        lang_repos.add(LanguageTuple((language, language_stats[language][field])))\n",
    "    return list(lang_repos[:num_results])"
   ]
  },
  {
   "cell_type": "code",
   "execution_count": 3,
   "id": "d82c9f42-ec19-497a-b180-18a2c65a5f54",
   "metadata": {},
   "outputs": [],
   "source": [
    "# Function to plot the results\n",
    "def plot_result(result_tuple, title='', xlabel='', ylabel=''):\n",
    "    fig = plt.figure(figsize=(12,6))\n",
    "    ax = fig.add_subplot(111)\n",
    "\n",
    "    ax.set_ylabel(ylabel)\n",
    "    ax.set_title(title)\n",
    "\n",
    "    x_axis = [val.lang for val in result_tuple]\n",
    "    y_axis = [val.value for val in result_tuple]\n",
    "    plt.bar(range(len(result_tuple)), y_axis, tick_label=x_axis)\n",
    "    plt.show()"
   ]
  },
  {
   "cell_type": "code",
   "execution_count": 4,
   "id": "004b7486-4e55-4faf-b755-15a3b5acfa5d",
   "metadata": {},
   "outputs": [
    {
     "name": "stdout",
     "output_type": "stream",
     "text": [
      "2022-06-03 16:53:25.969 INFO  [140224850126656] ClientConnection:189 | [<none> -> pulsar://localhost:6650] Create ClientConnection, timeout=10000\n",
      "2022-06-03 16:53:25.970 INFO  [140224850126656] ConnectionPool:96 | Created connection for pulsar://localhost:6650\n",
      "2022-06-03 16:53:25.975 INFO  [140223898076928] ClientConnection:375 | [127.0.0.1:32832 -> 127.0.0.1:6650] Connected to broker\n",
      "2022-06-03 16:53:25.987 INFO  [140223898076928] HandlerBase:64 | [persistent://public/static/initialized, reader-54f213990e, 0] Getting connection from pool\n",
      "2022-06-03 16:53:25.997 INFO  [140223898076928] ConsumerImpl:224 | [persistent://public/static/initialized, reader-54f213990e, 0] Created consumer on broker [127.0.0.1:32832 -> 127.0.0.1:6650] \n",
      "Found 'Initializing' message\n",
      "Found 'Initialized' message\n",
      "2022-06-03 16:53:26.020 INFO  [140224850126656] ConsumerImpl:999 | [persistent://public/static/initialized, reader-54f213990e, 0] Closing consumer for topic persistent://public/static/initialized\n",
      "2022-06-03 16:53:26.024 INFO  [140223898076928] ConsumerImpl:1055 | [persistent://public/static/initialized, reader-54f213990e, 0] Closed consumer 0\n"
     ]
    }
   ],
   "source": [
    "# Take Pulsar host value from the environment variables\n",
    "environment = os.environ\n",
    "pulsar_host = environment.get(\"pulsar_host\")\n",
    "# If not set, assume its running in localhost\n",
    "if (pulsar_host is None): pulsar_host = 'localhost'\n",
    "my_pulsar = PulsarConnection(ip_address=pulsar_host)"
   ]
  },
  {
   "cell_type": "code",
   "execution_count": 5,
   "id": "878a851b-0f13-4343-ad7b-25a9e5ef6012",
   "metadata": {},
   "outputs": [
    {
     "name": "stdout",
     "output_type": "stream",
     "text": [
      "2022-06-03 16:53:29.410 INFO  [140223898076928] HandlerBase:64 | [persistent://public/static/initialized, reader-c3fc1a95e6, 1] Getting connection from pool\n",
      "2022-06-03 16:53:29.414 INFO  [140223898076928] ConsumerImpl:224 | [persistent://public/static/initialized, reader-c3fc1a95e6, 1] Created consumer on broker [127.0.0.1:32832 -> 127.0.0.1:6650] \n",
      "2022-06-03 16:53:29.418 INFO  [140224850126656] ConsumerImpl:999 | [persistent://public/static/initialized, reader-c3fc1a95e6, 1] Closing consumer for topic persistent://public/static/initialized\n",
      "2022-06-03 16:53:29.420 INFO  [140223898076928] ConsumerImpl:1055 | [persistent://public/static/initialized, reader-c3fc1a95e6, 1] Closed consumer 1\n"
     ]
    }
   ],
   "source": [
    "cur_cutoff_date = my_pulsar.get_current_cuttoff_date()"
   ]
  },
  {
   "cell_type": "code",
   "execution_count": 6,
   "id": "36aaab0d-b40a-4b87-a517-40ab5d6a0f28",
   "metadata": {},
   "outputs": [
    {
     "data": {
      "text/plain": [
       "'Initialized'"
      ]
     },
     "execution_count": 6,
     "metadata": {},
     "output_type": "execute_result"
    }
   ],
   "source": [
    "cur_cutoff_date"
   ]
  },
  {
   "cell_type": "code",
   "execution_count": 14,
   "id": "140eba57-c7da-4fa6-b5e7-aba8e147ff2b",
   "metadata": {},
   "outputs": [
    {
     "name": "stdout",
     "output_type": "stream",
     "text": [
      "2022-06-03 16:57:46.815 INFO  [140224850126656] HandlerBase:64 | [persistent://public/static/initialized, reader-ff13932e20, 8] Getting connection from pool\n",
      "2022-06-03 16:57:46.820 INFO  [140223898076928] ConsumerImpl:224 | [persistent://public/static/initialized, reader-ff13932e20, 8] Created consumer on broker [127.0.0.1:32832 -> 127.0.0.1:6650] \n",
      "2022-06-03 16:57:46.824 INFO  [140224850126656] ConsumerImpl:999 | [persistent://public/static/initialized, reader-ff13932e20, 8] Closing consumer for topic persistent://public/static/initialized\n",
      "2022-06-03 16:57:46.825 INFO  [140223898076928] ConsumerImpl:1055 | [persistent://public/static/initialized, reader-ff13932e20, 8] Closed consumer 8\n",
      "2022-06-03 16:57:46.826 INFO  [140223898076928] HandlerBase:64 | [persistent://public/static/languages, reader-1f9452508f, 9] Getting connection from pool\n",
      "2022-06-03 16:57:46.828 INFO  [140223898076928] ConsumerImpl:224 | [persistent://public/static/languages, reader-1f9452508f, 9] Created consumer on broker [127.0.0.1:32832 -> 127.0.0.1:6650] \n",
      "2022-06-03 16:57:46.849 INFO  [140224850126656] ConsumerImpl:999 | [persistent://public/static/languages, reader-1f9452508f, 9] Closing consumer for topic persistent://public/static/languages\n",
      "2022-06-03 16:57:46.851 INFO  [140223898076928] ConsumerImpl:1055 | [persistent://public/static/languages, reader-1f9452508f, 9] Closed consumer 9\n",
      "2022-06-03 16:57:46.851 INFO  [140223898076928] HandlerBase:64 | [persistent://public/static/aggregate_languages_info, aggregate_languages_info_prod] Getting connection from pool\n",
      "2022-06-03 16:57:46.854 INFO  [140223898076928] ProducerImpl:189 | [persistent://public/static/aggregate_languages_info, aggregate_languages_info_prod] Created producer on broker [127.0.0.1:32832 -> 127.0.0.1:6650] \n",
      "2022-06-03 16:57:47.030 INFO  [140224850126656] ProducerImpl:686 | [persistent://public/static/aggregate_languages_info, aggregate_languages_info_prod] Closing producer for topic persistent://public/static/aggregate_languages_info\n",
      "2022-06-03 16:57:47.031 INFO  [140223898076928] ProducerImpl:729 | [persistent://public/static/aggregate_languages_info, aggregate_languages_info_prod] Closed producer\n",
      "2022-06-03 16:57:47.032 INFO  [140223898076928] HandlerBase:64 | [persistent://public/static/commit_repo_info, reader-de7d413d90, 10] Getting connection from pool\n",
      "2022-06-03 16:57:47.034 INFO  [140223898076928] ConsumerImpl:224 | [persistent://public/static/commit_repo_info, reader-de7d413d90, 10] Created consumer on broker [127.0.0.1:32832 -> 127.0.0.1:6650] \n",
      "2022-06-03 16:57:47.292 INFO  [140224850126656] ConsumerImpl:999 | [persistent://public/static/commit_repo_info, reader-de7d413d90, 10] Closing consumer for topic persistent://public/static/commit_repo_info\n",
      "2022-06-03 16:57:47.294 INFO  [140223898076928] ConsumerImpl:1055 | [persistent://public/static/commit_repo_info, reader-de7d413d90, 10] Closed consumer 10\n",
      "2022-06-03 16:57:47.299 INFO  [140223898076928] HandlerBase:64 | [persistent://public/static/2021-01-02_result_commit, 2021-01-02_result_commit_prod] Getting connection from pool\n",
      "2022-06-03 16:57:47.410 INFO  [140223898076928] ProducerImpl:189 | [persistent://public/static/2021-01-02_result_commit, 2021-01-02_result_commit_prod] Created producer on broker [127.0.0.1:32832 -> 127.0.0.1:6650] \n",
      "2022-06-03 16:57:47.576 INFO  [140224850126656] ProducerImpl:686 | [persistent://public/static/2021-01-02_result_commit, 2021-01-02_result_commit_prod] Closing producer for topic persistent://public/static/2021-01-02_result_commit\n",
      "2022-06-03 16:57:47.577 INFO  [140223898076928] ProducerImpl:729 | [persistent://public/static/2021-01-02_result_commit, 2021-01-02_result_commit_prod] Closed producer\n",
      "\n",
      "*** Reporting the cutoff date to the 'initialized' topic *** \n",
      "\n",
      "2022-06-03 16:57:47.578 INFO  [140223898076928] HandlerBase:64 | [persistent://public/static/initialized, initialized_prod_1654275467] Getting connection from pool\n",
      "2022-06-03 16:57:47.580 INFO  [140223898076928] ProducerImpl:189 | [persistent://public/static/initialized, initialized_prod_1654275467] Created producer on broker [127.0.0.1:32832 -> 127.0.0.1:6650] \n",
      "2022-06-03 16:57:47.582 INFO  [140224850126656] ProducerImpl:655 | Producer - [persistent://public/static/2021-01-02_result_commit, 2021-01-02_result_commit_prod] , [batching  = off]\n"
     ]
    },
    {
     "data": {
      "text/plain": [
       "True"
      ]
     },
     "execution_count": 14,
     "metadata": {},
     "output_type": "execute_result"
    },
    {
     "name": "stdout",
     "output_type": "stream",
     "text": [
      "2022-06-03 16:57:47.582 INFO  [140224850126656] ProducerImpl:655 | Producer - [persistent://public/static/initialized, initialized_prod_1654275467] , [batching  = off]\n",
      "2022-06-03 16:57:47.582 WARN  [140224850126656] ProducerImpl:114 | [persistent://public/static/initialized, initialized_prod_1654275467] Destroyed producer which was not properly closed\n",
      "2022-06-03 16:57:47.582 INFO  [140224850126656] ProducerImpl:655 | Producer - [persistent://public/static/aggregate_languages_info, aggregate_languages_info_prod] , [batching  = off]\n"
     ]
    }
   ],
   "source": [
    "my_pulsar.process_results(cutoff_date='2021-01-02')"
   ]
  },
  {
   "cell_type": "code",
   "execution_count": 15,
   "id": "64d38308-7e14-45dd-a76b-245f39a66d27",
   "metadata": {},
   "outputs": [
    {
     "name": "stdout",
     "output_type": "stream",
     "text": [
      "2022-06-03 16:57:50.919 INFO  [140224850126656] HandlerBase:64 | [persistent://public/static/language_results, reader-64ed1659f0, 11] Getting connection from pool\n",
      "2022-06-03 16:57:50.923 INFO  [140223898076928] ConsumerImpl:224 | [persistent://public/static/language_results, reader-64ed1659f0, 11] Created consumer on broker [127.0.0.1:32832 -> 127.0.0.1:6650] \n",
      "2022-06-03 16:57:50.944 INFO  [140224850126656] ConsumerImpl:999 | [persistent://public/static/language_results, reader-64ed1659f0, 11] Closing consumer for topic persistent://public/static/language_results\n",
      "2022-06-03 16:57:50.946 INFO  [140223898076928] ConsumerImpl:1055 | [persistent://public/static/language_results, reader-64ed1659f0, 11] Closed consumer 11\n"
     ]
    }
   ],
   "source": [
    "language_stats = my_pulsar.get_languages_stats()"
   ]
  },
  {
   "cell_type": "code",
   "execution_count": 16,
   "id": "a8774a3d-7451-45cc-b2e4-1f1796d2321c",
   "metadata": {},
   "outputs": [
    {
     "data": {
      "text/plain": [
       "{'Jupyter Notebook': {'num_repos': 77, 'num_tests': 4, 'num_ci': 0},\n",
       " 'Rust': {'num_repos': 39, 'num_tests': 5, 'num_ci': 0},\n",
       " 'HTML': {'num_repos': 84, 'num_tests': 5, 'num_ci': 0},\n",
       " 'JavaScript': {'num_repos': 257, 'num_tests': 16, 'num_ci': 1},\n",
       " 'None': {'num_repos': 195, 'num_tests': 2, 'num_ci': 1},\n",
       " 'Elixir': {'num_repos': 7, 'num_tests': 2, 'num_ci': 0},\n",
       " 'C++': {'num_repos': 109, 'num_tests': 8, 'num_ci': 0},\n",
       " 'Python': {'num_repos': 353, 'num_tests': 32, 'num_ci': 2},\n",
       " 'Lua': {'num_repos': 21, 'num_tests': 1, 'num_ci': 0},\n",
       " 'Swift': {'num_repos': 21, 'num_tests': 1, 'num_ci': 0},\n",
       " 'TypeScript': {'num_repos': 140, 'num_tests': 35, 'num_ci': 2},\n",
       " 'Nix': {'num_repos': 5, 'num_tests': 0, 'num_ci': 0},\n",
       " 'PHP': {'num_repos': 47, 'num_tests': 8, 'num_ci': 0},\n",
       " 'Kotlin': {'num_repos': 29, 'num_tests': 10, 'num_ci': 0},\n",
       " 'R': {'num_repos': 19, 'num_tests': 5, 'num_ci': 2},\n",
       " 'Go': {'num_repos': 62, 'num_tests': 14, 'num_ci': 0},\n",
       " 'C#': {'num_repos': 75, 'num_tests': 3, 'num_ci': 0},\n",
       " 'Zig': {'num_repos': 5, 'num_tests': 0, 'num_ci': 0},\n",
       " 'C': {'num_repos': 44, 'num_tests': 3, 'num_ci': 1},\n",
       " 'Ruby': {'num_repos': 9, 'num_tests': 4, 'num_ci': 0},\n",
       " 'Shell': {'num_repos': 45, 'num_tests': 4, 'num_ci': 0},\n",
       " 'Dart': {'num_repos': 24, 'num_tests': 9, 'num_ci': 0},\n",
       " 'GDScript': {'num_repos': 6, 'num_tests': 2, 'num_ci': 0},\n",
       " 'Vue': {'num_repos': 34, 'num_tests': 2, 'num_ci': 1},\n",
       " 'Java': {'num_repos': 92, 'num_tests': 10, 'num_ci': 0},\n",
       " 'Haskell': {'num_repos': 2, 'num_tests': 0, 'num_ci': 0},\n",
       " 'VHDL': {'num_repos': 1, 'num_tests': 1, 'num_ci': 0},\n",
       " 'PowerShell': {'num_repos': 10, 'num_tests': 1, 'num_ci': 0},\n",
       " 'Vim script': {'num_repos': 4, 'num_tests': 0, 'num_ci': 0},\n",
       " 'TeX': {'num_repos': 8, 'num_tests': 0, 'num_ci': 0},\n",
       " 'Emacs Lisp': {'num_repos': 5, 'num_tests': 0, 'num_ci': 0},\n",
       " 'MATLAB': {'num_repos': 6, 'num_tests': 0, 'num_ci': 0},\n",
       " 'Common Lisp': {'num_repos': 1, 'num_tests': 0, 'num_ci': 0},\n",
       " 'Max': {'num_repos': 1, 'num_tests': 0, 'num_ci': 0},\n",
       " 'Dockerfile': {'num_repos': 9, 'num_tests': 0, 'num_ci': 0},\n",
       " 'CSS': {'num_repos': 32, 'num_tests': 1, 'num_ci': 0},\n",
       " 'Nunjucks': {'num_repos': 1, 'num_tests': 0, 'num_ci': 0},\n",
       " 'F#': {'num_repos': 3, 'num_tests': 0, 'num_ci': 0},\n",
       " 'Visual Basic .NET': {'num_repos': 1, 'num_tests': 1, 'num_ci': 0},\n",
       " 'G-code': {'num_repos': 1, 'num_tests': 0, 'num_ci': 0},\n",
       " 'Julia': {'num_repos': 8, 'num_tests': 2, 'num_ci': 0},\n",
       " 'Svelte': {'num_repos': 2, 'num_tests': 1, 'num_ci': 0},\n",
       " 'Objective-C': {'num_repos': 6, 'num_tests': 0, 'num_ci': 0},\n",
       " 'D': {'num_repos': 1, 'num_tests': 0, 'num_ci': 0},\n",
       " 'CMake': {'num_repos': 1, 'num_tests': 0, 'num_ci': 0},\n",
       " 'Assembly': {'num_repos': 8, 'num_tests': 0, 'num_ci': 0},\n",
       " 'SourcePawn': {'num_repos': 2, 'num_tests': 0, 'num_ci': 0},\n",
       " 'Verilog': {'num_repos': 3, 'num_tests': 0, 'num_ci': 0},\n",
       " 'Jinja': {'num_repos': 1, 'num_tests': 0, 'num_ci': 0},\n",
       " 'Makefile': {'num_repos': 4, 'num_tests': 1, 'num_ci': 0},\n",
       " 'OpenSCAD': {'num_repos': 2, 'num_tests': 0, 'num_ci': 0},\n",
       " 'TSQL': {'num_repos': 1, 'num_tests': 0, 'num_ci': 0},\n",
       " 'XSLT': {'num_repos': 1, 'num_tests': 0, 'num_ci': 0},\n",
       " 'ASL': {'num_repos': 6, 'num_tests': 0, 'num_ci': 0},\n",
       " 'Batchfile': {'num_repos': 5, 'num_tests': 0, 'num_ci': 0},\n",
       " 'HLSL': {'num_repos': 1, 'num_tests': 1, 'num_ci': 0},\n",
       " 'Elm': {'num_repos': 1, 'num_tests': 0, 'num_ci': 0},\n",
       " 'Processing': {'num_repos': 1, 'num_tests': 0, 'num_ci': 0},\n",
       " 'SuperCollider': {'num_repos': 1, 'num_tests': 0, 'num_ci': 0},\n",
       " 'V': {'num_repos': 1, 'num_tests': 0, 'num_ci': 0},\n",
       " 'Dhall': {'num_repos': 1, 'num_tests': 0, 'num_ci': 0},\n",
       " 'Blade': {'num_repos': 1, 'num_tests': 1, 'num_ci': 0},\n",
       " 'Apex': {'num_repos': 1, 'num_tests': 1, 'num_ci': 0},\n",
       " 'Forth': {'num_repos': 1, 'num_tests': 0, 'num_ci': 0},\n",
       " 'Haxe': {'num_repos': 1, 'num_tests': 1, 'num_ci': 1},\n",
       " 'Starlark': {'num_repos': 1, 'num_tests': 0, 'num_ci': 0},\n",
       " 'Scala': {'num_repos': 5, 'num_tests': 0, 'num_ci': 0},\n",
       " 'Vala': {'num_repos': 1, 'num_tests': 0, 'num_ci': 0},\n",
       " 'HCL': {'num_repos': 3, 'num_tests': 0, 'num_ci': 0},\n",
       " 'Solidity': {'num_repos': 1, 'num_tests': 0, 'num_ci': 0},\n",
       " 'Perl': {'num_repos': 1, 'num_tests': 0, 'num_ci': 0},\n",
       " 'SCSS': {'num_repos': 3, 'num_tests': 0, 'num_ci': 0},\n",
       " 'Handlebars': {'num_repos': 3, 'num_tests': 0, 'num_ci': 0},\n",
       " 'Pascal': {'num_repos': 2, 'num_tests': 0, 'num_ci': 0},\n",
       " 'Clojure': {'num_repos': 3, 'num_tests': 0, 'num_ci': 0},\n",
       " 'Tcl': {'num_repos': 1, 'num_tests': 0, 'num_ci': 0},\n",
       " 'Erlang': {'num_repos': 1, 'num_tests': 0, 'num_ci': 0},\n",
       " 'Logos': {'num_repos': 1, 'num_tests': 0, 'num_ci': 0},\n",
       " 'PLpgSQL': {'num_repos': 2, 'num_tests': 0, 'num_ci': 0},\n",
       " 'Pawn': {'num_repos': 1, 'num_tests': 0, 'num_ci': 0},\n",
       " 'Meson': {'num_repos': 1, 'num_tests': 0, 'num_ci': 0},\n",
       " 'mcfunction': {'num_repos': 1, 'num_tests': 0, 'num_ci': 0},\n",
       " 'Cuda': {'num_repos': 2, 'num_tests': 0, 'num_ci': 0},\n",
       " 'Objective-C++': {'num_repos': 1, 'num_tests': 0, 'num_ci': 0},\n",
       " 'AngelScript': {'num_repos': 1, 'num_tests': 0, 'num_ci': 0},\n",
       " 'Twig': {'num_repos': 1, 'num_tests': 0, 'num_ci': 0},\n",
       " 'Yacc': {'num_repos': 1, 'num_tests': 0, 'num_ci': 0},\n",
       " 'Roff': {'num_repos': 2, 'num_tests': 0, 'num_ci': 0},\n",
       " 'ShaderLab': {'num_repos': 1, 'num_tests': 0, 'num_ci': 0},\n",
       " 'AutoHotkey': {'num_repos': 1, 'num_tests': 0, 'num_ci': 0},\n",
       " 'Prolog': {'num_repos': 1, 'num_tests': 0, 'num_ci': 0},\n",
       " 'VBA': {'num_repos': 1, 'num_tests': 0, 'num_ci': 0},\n",
       " 'ASP.NET': {'num_repos': 1, 'num_tests': 0, 'num_ci': 0}}"
      ]
     },
     "execution_count": 16,
     "metadata": {},
     "output_type": "execute_result"
    }
   ],
   "source": [
    "language_stats"
   ]
  },
  {
   "cell_type": "code",
   "execution_count": 17,
   "id": "eae2555f-902d-4963-b54b-4dad02adf25f",
   "metadata": {},
   "outputs": [
    {
     "name": "stdout",
     "output_type": "stream",
     "text": [
      "Num repos: 1989\n",
      "Num tests: 197\n",
      "Num ci: 11\n"
     ]
    }
   ],
   "source": [
    "repo_sum, num_tests, num_ci = 0, 0, 0\n",
    "for language in language_stats:\n",
    "    repo_sum+=int(language_stats[language]['num_repos'] or 0)\n",
    "    num_tests+=int(language_stats[language]['num_tests'] or 0)\n",
    "    num_ci+=int(language_stats[language]['num_ci'] or 0)\n",
    "print(f\"Num repos: {repo_sum}\")\n",
    "print(f\"Num tests: {num_tests}\")\n",
    "print(f\"Num ci: {num_ci}\")"
   ]
  },
  {
   "cell_type": "markdown",
   "id": "44feda74-b361-4fea-91b3-4f9ab6e31b74",
   "metadata": {
    "execution": {
     "iopub.execute_input": "2022-05-18T14:01:13.676491Z",
     "iopub.status.busy": "2022-05-18T14:01:13.673790Z",
     "iopub.status.idle": "2022-05-18T14:01:13.696125Z",
     "shell.execute_reply": "2022-05-18T14:01:13.694646Z",
     "shell.execute_reply.started": "2022-05-18T14:01:13.675983Z"
    }
   },
   "source": [
    "# 1. Top programming languages based on the number of projects developed"
   ]
  },
  {
   "cell_type": "code",
   "execution_count": 11,
   "id": "64babd3f-99f5-45dc-a35e-a75d28c069c1",
   "metadata": {},
   "outputs": [
    {
     "data": {
      "image/png": "[encoded data removed]",
      "text/plain": [
       "<Figure size 864x432 with 1 Axes>"
      ]
     },
     "metadata": {
      "needs_background": "light"
     },
     "output_type": "display_data"
    }
   ],
   "source": [
    "# Define the number of top languages to return, get the results, and plot them\n",
    "num_results = 10\n",
    "lang_repos = sort_results(language_stats, 'num_repos', num_results)\n",
    "plot_result(lang_repos, \n",
    "          title=f'Top {len(lang_repos)} programming languages by number of repositories', \n",
    "          xlabel='', ylabel='Number of repositories')"
   ]
  },
  {
   "cell_type": "markdown",
   "id": "0a10e825-b5b5-442c-8cc2-7d02a93fea2d",
   "metadata": {
    "execution": {
     "iopub.execute_input": "2022-05-18T14:03:03.610794Z",
     "iopub.status.busy": "2022-05-18T14:03:03.607179Z",
     "iopub.status.idle": "2022-05-18T14:03:03.618423Z",
     "shell.execute_reply": "2022-05-18T14:03:03.617189Z",
     "shell.execute_reply.started": "2022-05-18T14:03:03.610732Z"
    },
    "tags": []
   },
   "source": [
    "# 2. Repositories with most commits"
   ]
  },
  {
   "cell_type": "code",
   "execution_count": 18,
   "id": "b489f2bc-55ae-45a0-9c5f-fc7954b67cb8",
   "metadata": {},
   "outputs": [
    {
     "name": "stdout",
     "output_type": "stream",
     "text": [
      "2022-06-03 16:58:01.847 INFO  [140223898076928] HandlerBase:64 | [persistent://public/static/initialized, reader-abcd7bfc2b, 12] Getting connection from pool\n",
      "2022-06-03 16:58:01.851 INFO  [140223898076928] ConsumerImpl:224 | [persistent://public/static/initialized, reader-abcd7bfc2b, 12] Created consumer on broker [127.0.0.1:32832 -> 127.0.0.1:6650] \n",
      "2022-06-03 16:58:01.857 INFO  [140224850126656] ConsumerImpl:999 | [persistent://public/static/initialized, reader-abcd7bfc2b, 12] Closing consumer for topic persistent://public/static/initialized\n",
      "\n",
      "*** Showing partial results up to 2021-01-02 (info is still being processed) ***\n",
      "\n",
      "2022-06-03 16:58:01.857 INFO  [140223898076928] ConsumerImpl:1055 | [persistent://public/static/initialized, reader-abcd7bfc2b, 12] Closed consumer 12\n",
      "2022-06-03 16:58:01.859 INFO  [140223898076928] HandlerBase:64 | [persistent://public/static/2021-01-02_result_commit, reader-55771f33ba, 13] Getting connection from pool\n",
      "2022-06-03 16:58:01.861 INFO  [140223898076928] ConsumerImpl:224 | [persistent://public/static/2021-01-02_result_commit, reader-55771f33ba, 13] Created consumer on broker [127.0.0.1:32832 -> 127.0.0.1:6650] \n",
      "2022-06-03 16:58:01.875 INFO  [140224850126656] ConsumerImpl:999 | [persistent://public/static/2021-01-02_result_commit, reader-55771f33ba, 13] Closing consumer for topic persistent://public/static/2021-01-02_result_commit\n",
      "2022-06-03 16:58:01.876 INFO  [140223898076928] ConsumerImpl:1055 | [persistent://public/static/2021-01-02_result_commit, reader-55771f33ba, 13] Closed consumer 13\n"
     ]
    }
   ],
   "source": [
    "top_repos = my_pulsar.get_top_commits()"
   ]
  },
  {
   "cell_type": "code",
   "execution_count": 19,
   "id": "22ae9204-82cc-443e-ad24-4dcba2e1e04c",
   "metadata": {},
   "outputs": [
    {
     "data": {
      "text/plain": [
       "[('AOSP-Krypton/frameworks_base', 661920),\n",
       " ('GiorgioComitini/COVID-19', 107359),\n",
       " ('WangTingMan/chromebase', 21989),\n",
       " ('helaili/enterprise-showcase', 12146),\n",
       " ('wiredfool/pillow-fuzz', 11254),\n",
       " ('itizaworld/webev', 3290),\n",
       " ('extremscorner/libogc2', 1935),\n",
       " ('YusufSuleman/piskel2', 1833),\n",
       " ('TownyAdvanced/SiegeWar', 1424),\n",
       " ('Andeeeee/AndyCogs', 1219)]"
      ]
     },
     "execution_count": 19,
     "metadata": {},
     "output_type": "execute_result"
    }
   ],
   "source": [
    "top_repos"
   ]
  },
  {
   "cell_type": "code",
   "execution_count": 20,
   "id": "ccdab97f-011c-4491-941f-6f4736b8a28d",
   "metadata": {},
   "outputs": [
    {
     "data": {
      "text/html": [
       "<div>\n",
       "<style scoped>\n",
       "    .dataframe tbody tr th:only-of-type {\n",
       "        vertical-align: middle;\n",
       "    }\n",
       "\n",
       "    .dataframe tbody tr th {\n",
       "        vertical-align: top;\n",
       "    }\n",
       "\n",
       "    .dataframe thead th {\n",
       "        text-align: right;\n",
       "    }\n",
       "</style>\n",
       "<table border=\"1\" class=\"dataframe\">\n",
       "  <thead>\n",
       "    <tr style=\"text-align: right;\">\n",
       "      <th></th>\n",
       "      <th>Repository name</th>\n",
       "      <th>Number of commits</th>\n",
       "    </tr>\n",
       "  </thead>\n",
       "  <tbody>\n",
       "    <tr>\n",
       "      <th>0</th>\n",
       "      <td>AOSP-Krypton/frameworks_base</td>\n",
       "      <td>661920</td>\n",
       "    </tr>\n",
       "    <tr>\n",
       "      <th>1</th>\n",
       "      <td>GiorgioComitini/COVID-19</td>\n",
       "      <td>107359</td>\n",
       "    </tr>\n",
       "    <tr>\n",
       "      <th>2</th>\n",
       "      <td>WangTingMan/chromebase</td>\n",
       "      <td>21989</td>\n",
       "    </tr>\n",
       "    <tr>\n",
       "      <th>3</th>\n",
       "      <td>helaili/enterprise-showcase</td>\n",
       "      <td>12146</td>\n",
       "    </tr>\n",
       "    <tr>\n",
       "      <th>4</th>\n",
       "      <td>wiredfool/pillow-fuzz</td>\n",
       "      <td>11254</td>\n",
       "    </tr>\n",
       "    <tr>\n",
       "      <th>5</th>\n",
       "      <td>itizaworld/webev</td>\n",
       "      <td>3290</td>\n",
       "    </tr>\n",
       "    <tr>\n",
       "      <th>6</th>\n",
       "      <td>extremscorner/libogc2</td>\n",
       "      <td>1935</td>\n",
       "    </tr>\n",
       "    <tr>\n",
       "      <th>7</th>\n",
       "      <td>YusufSuleman/piskel2</td>\n",
       "      <td>1833</td>\n",
       "    </tr>\n",
       "    <tr>\n",
       "      <th>8</th>\n",
       "      <td>TownyAdvanced/SiegeWar</td>\n",
       "      <td>1424</td>\n",
       "    </tr>\n",
       "    <tr>\n",
       "      <th>9</th>\n",
       "      <td>Andeeeee/AndyCogs</td>\n",
       "      <td>1219</td>\n",
       "    </tr>\n",
       "  </tbody>\n",
       "</table>\n",
       "</div>"
      ],
      "text/plain": [
       "                Repository name  Number of commits\n",
       "0  AOSP-Krypton/frameworks_base             661920\n",
       "1      GiorgioComitini/COVID-19             107359\n",
       "2        WangTingMan/chromebase              21989\n",
       "3   helaili/enterprise-showcase              12146\n",
       "4         wiredfool/pillow-fuzz              11254\n",
       "5              itizaworld/webev               3290\n",
       "6         extremscorner/libogc2               1935\n",
       "7          YusufSuleman/piskel2               1833\n",
       "8        TownyAdvanced/SiegeWar               1424\n",
       "9             Andeeeee/AndyCogs               1219"
      ]
     },
     "execution_count": 20,
     "metadata": {},
     "output_type": "execute_result"
    }
   ],
   "source": [
    "pd.DataFrame(top_repos, columns=['Repository name','Number of commits'])"
   ]
  },
  {
   "cell_type": "markdown",
   "id": "f3cfaa4a-8eb8-4658-8c9f-7dc1bfd0eaef",
   "metadata": {},
   "source": [
    "# 3. Top languages with testdriven approach"
   ]
  },
  {
   "cell_type": "code",
   "execution_count": 20,
   "id": "f97fa694-4228-4f0f-96e1-fa18b748b169",
   "metadata": {},
   "outputs": [
    {
     "data": {
      "image/png": "[encoded data removed]",
      "text/plain": [
       "<Figure size 864x432 with 1 Axes>"
      ]
     },
     "metadata": {
      "needs_background": "light"
     },
     "output_type": "display_data"
    },
    {
     "name": "stdout",
     "output_type": "stream",
     "text": [
      "2022-06-03 15:24:36.395 ERROR [139894332585728] ClientConnection:597 | [127.0.0.1:47546 -> 127.0.0.1:6650] Read operation failed: End of file\n",
      "2022-06-03 15:24:36.395 INFO  [139894332585728] ClientConnection:1559 | [127.0.0.1:47546 -> 127.0.0.1:6650] Connection closed\n",
      "2022-06-03 15:24:36.396 INFO  [139894332585728] ClientConnection:263 | [127.0.0.1:47546 -> 127.0.0.1:6650] Destroyed connection\n"
     ]
    }
   ],
   "source": [
    "# Define the number of top languages to return, get the results, and plot them\n",
    "num_results_test = 10\n",
    "lang_repos_test = sort_results(language_stats, 'num_tests', num_results_test)\n",
    "plot_result(lang_repos_test, \n",
    "          title=f'Top {len(lang_repos_test)} programming languages by test driven approach', \n",
    "          xlabel='', ylabel='Number of repositories')"
   ]
  },
  {
   "cell_type": "markdown",
   "id": "9113c5aa-373c-4554-93a2-52d5fbd25e9b",
   "metadata": {},
   "source": [
    "# 4. Top languages with testdriven approach and continous integration"
   ]
  },
  {
   "cell_type": "code",
   "execution_count": 10,
   "id": "36c7d6b8-1447-4fcb-a2f8-1879fa06babe",
   "metadata": {},
   "outputs": [
    {
     "data": {
      "image/png": "[encoded data removed]",
      "text/plain": [
       "<Figure size 864x432 with 1 Axes>"
      ]
     },
     "metadata": {
      "needs_background": "light"
     },
     "output_type": "display_data"
    }
   ],
   "source": [
    "# Define the number of top languages to return, get the results, and plot them\n",
    "num_results_ci = 10\n",
    "lang_repos_ci = sort_results(language_stats, 'num_ci', num_results_ci)\n",
    "plot_result(lang_repos_ci, \n",
    "          title=f'Top {len(lang_repos_ci)} languages with test driven approach and ci/cd', \n",
    "          xlabel='', ylabel='Number of repositories')"
   ]
  },
  {
   "cell_type": "code",
   "execution_count": 10,
   "id": "f640bd7e-a8e2-4e3b-b39e-6b26f9360b52",
   "metadata": {},
   "outputs": [
    {
     "name": "stdout",
     "output_type": "stream",
     "text": [
      "2022-06-03 14:56:59.574 INFO  [139632636331840] ClientImpl:496 | Closing Pulsar client with 3 producers and 6 consumers\n",
      "2022-06-03 14:56:59.574 INFO  [139632636331840] ClientConnection:1559 | [127.0.0.1:59128 -> 127.0.0.1:6650] Connection closed\n",
      "2022-06-03 14:56:59.574 INFO  [139632636331840] ClientConnection:263 | [127.0.0.1:59128 -> 127.0.0.1:6650] Destroyed connection\n"
     ]
    }
   ],
   "source": [
    "my_pulsar.close()"
   ]
  },
  {
   "cell_type": "code",
   "execution_count": null,
   "id": "af86a046-99ce-41a0-ae51-36cc31f16dd8",
   "metadata": {},
   "outputs": [],
   "source": []
  },
  {
   "cell_type": "code",
   "execution_count": 7,
   "id": "29b7fb18-f448-4370-bb92-858a81a2609d",
   "metadata": {},
   "outputs": [],
   "source": [
    "# Receives tuples in format (id_repo, num_commits, 'repo_owner', 'repo_name')\n",
    "#top_repos = my_pulsar.get_top_commits(10)\n",
    "if False:\n",
    "    # Test data meanwhile\n",
    "    top_repos = [\n",
    "        (4, 16, 'owner_1', 'repo_1'),\n",
    "        (5, 21, 'owner_2', 'repo_2'),\n",
    "        (6, 26, 'owner_3', 'repo_3')]\n",
    "    results=[]\n",
    "    for repo in top_repos:\n",
    "        repo_name = f\"{repo[2]}/{repo[3]}\"\n",
    "        results.append((repo_name, repo[1]))"
   ]
  },
  {
   "cell_type": "code",
   "execution_count": 5,
   "id": "6fde77ec-1ba6-472f-9539-a6054e25d6a2",
   "metadata": {},
   "outputs": [],
   "source": [
    "if False:\n",
    "    # While we get real data, populate with test data num_tests and num_ci\n",
    "    import random\n",
    "    for language in language_stats:\n",
    "        language_stats[language]['num_tests'] = random.randint(1,100)\n",
    "        language_stats[language]['num_ci'] = random.randint(1,language_stats[language]['num_tests'])"
   ]
  }
 ],
 "metadata": {
  "kernelspec": {
   "display_name": "Python 3 (ipykernel)",
   "language": "python",
   "name": "python3"
  },
  "language_info": {
   "codemirror_mode": {
    "name": "ipython",
    "version": 3
   },
   "file_extension": ".py",
   "mimetype": "text/x-python",
   "name": "python",
   "nbconvert_exporter": "python",
   "pygments_lexer": "ipython3",
   "version": "3.8.10"
  }
 },
 "nbformat": 4,
 "nbformat_minor": 5
}
