{
 "cells": [
  {
   "cell_type": "markdown",
   "id": "9ea9af4e-91a3-4295-8903-5e9c9292847c",
   "metadata": {},
   "source": [
    "# GitHub analysis client\n",
    "This notebook assumes that Pulsar is running and there are already partial results available"
   ]
  },
  {
   "cell_type": "code",
   "execution_count": 1,
   "id": "ecb2850d-e27e-4063-8123-e15cdf3bb7df",
   "metadata": {},
   "outputs": [],
   "source": [
    "import matplotlib.pyplot as plt\n",
    "import operator\n",
    "import os\n",
    "import pandas as pd\n",
    "import sortedcontainers\n",
    "from pulsar_wrapper import PulsarConnection"
   ]
  },
  {
   "cell_type": "code",
   "execution_count": 2,
   "id": "86c9bbfe-7319-48a8-bf51-c30c917aa6cb",
   "metadata": {},
   "outputs": [],
   "source": [
    "class LanguageTuple(object):\n",
    "    \"\"\" Data Type to support tuple in-place sorting using sortedcontainers \"\"\"\n",
    "    def __init__(self, lang_tuple):\n",
    "        self.lang = lang_tuple[0]\n",
    "        self.value = int(lang_tuple[1] or 0)\n",
    "        \n",
    "    def __repr__(self):\n",
    "        return f\"('{self.lang}', {self.value})\"\n",
    "\n",
    "def sort_results(language_stats, field, num_results=None):\n",
    "    lang_repos = sortedcontainers.SortedKeyList(key=lambda x: -x.value)\n",
    "    for language in language_stats:\n",
    "        lang_repos.add(LanguageTuple((language, language_stats[language][field])))\n",
    "    return list(lang_repos[:num_results])"
   ]
  },
  {
   "cell_type": "code",
   "execution_count": 3,
   "id": "d82c9f42-ec19-497a-b180-18a2c65a5f54",
   "metadata": {},
   "outputs": [],
   "source": [
    "# Function to plot the results\n",
    "def plot_result(result_tuple, title='', xlabel='', ylabel=''):\n",
    "    fig = plt.figure(figsize=(12,6))\n",
    "    ax = fig.add_subplot(111)\n",
    "\n",
    "    ax.set_ylabel(ylabel)\n",
    "    ax.set_title(title)\n",
    "\n",
    "    x_axis = [val.lang for val in result_tuple]\n",
    "    y_axis = [val.value for val in result_tuple]\n",
    "    plt.bar(range(len(result_tuple)), y_axis, tick_label=x_axis)\n",
    "    plt.show()"
   ]
  },
  {
   "cell_type": "code",
   "execution_count": 4,
   "id": "004b7486-4e55-4faf-b755-15a3b5acfa5d",
   "metadata": {},
   "outputs": [
    {
     "name": "stdout",
     "output_type": "stream",
     "text": [
      "2022-06-03 19:24:45.512 INFO  [140320932513600] ClientConnection:189 | [<none> -> pulsar://localhost:6650] Create ClientConnection, timeout=10000\n",
      "2022-06-03 19:24:45.512 INFO  [140320932513600] ConnectionPool:96 | Created connection for pulsar://localhost:6650\n",
      "2022-06-03 19:24:45.518 INFO  [140319980427008] ClientConnection:375 | [127.0.0.1:55018 -> 127.0.0.1:6650] Connected to broker\n",
      "2022-06-03 19:24:45.529 INFO  [140319980427008] HandlerBase:64 | [persistent://public/static/initialized, reader-7a08787921, 0] Getting connection from pool\n",
      "2022-06-03 19:24:45.532 INFO  [140319980427008] ConsumerImpl:224 | [persistent://public/static/initialized, reader-7a08787921, 0] Created consumer on broker [127.0.0.1:55018 -> 127.0.0.1:6650] \n",
      "Found 'Initializing' message\n",
      "Found 'Initialized' message\n",
      "2022-06-03 19:24:45.535 INFO  [140320932513600] ConsumerImpl:999 | [persistent://public/static/initialized, reader-7a08787921, 0] Closing consumer for topic persistent://public/static/initialized\n",
      "2022-06-03 19:24:45.536 INFO  [140319980427008] ConsumerImpl:1055 | [persistent://public/static/initialized, reader-7a08787921, 0] Closed consumer 0\n"
     ]
    }
   ],
   "source": [
    "# Take Pulsar host value from the environment variables\n",
    "environment = os.environ\n",
    "pulsar_host = environment.get(\"pulsar_host\")\n",
    "# If not set, assume its running in localhost\n",
    "if (pulsar_host is None): pulsar_host = 'localhost'\n",
    "my_pulsar = PulsarConnection(ip_address=pulsar_host)"
   ]
  },
  {
   "cell_type": "code",
   "execution_count": 5,
   "id": "878a851b-0f13-4343-ad7b-25a9e5ef6012",
   "metadata": {},
   "outputs": [
    {
     "name": "stdout",
     "output_type": "stream",
     "text": [
      "2022-06-03 19:24:52.641 INFO  [140319980427008] HandlerBase:64 | [persistent://public/static/initialized, reader-c736ce30d2, 1] Getting connection from pool\n",
      "2022-06-03 19:24:52.643 INFO  [140319980427008] ConsumerImpl:224 | [persistent://public/static/initialized, reader-c736ce30d2, 1] Created consumer on broker [127.0.0.1:55018 -> 127.0.0.1:6650] \n",
      "2022-06-03 19:24:52.648 INFO  [140320932513600] ConsumerImpl:999 | [persistent://public/static/initialized, reader-c736ce30d2, 1] Closing consumer for topic persistent://public/static/initialized\n",
      "2022-06-03 19:24:52.649 INFO  [140319980427008] ConsumerImpl:1055 | [persistent://public/static/initialized, reader-c736ce30d2, 1] Closed consumer 1\n"
     ]
    }
   ],
   "source": [
    "cur_cutoff_date = my_pulsar.get_current_cuttoff_date()"
   ]
  },
  {
   "cell_type": "code",
   "execution_count": 6,
   "id": "36aaab0d-b40a-4b87-a517-40ab5d6a0f28",
   "metadata": {},
   "outputs": [
    {
     "data": {
      "text/plain": [
       "'2021-01-01'"
      ]
     },
     "execution_count": 6,
     "metadata": {},
     "output_type": "execute_result"
    }
   ],
   "source": [
    "cur_cutoff_date"
   ]
  },
  {
   "cell_type": "code",
   "execution_count": 7,
   "id": "140eba57-c7da-4fa6-b5e7-aba8e147ff2b",
   "metadata": {},
   "outputs": [
    {
     "name": "stdout",
     "output_type": "stream",
     "text": [
      "2022-06-03 19:24:58.498 INFO  [140319980427008] HandlerBase:64 | [persistent://public/static/initialized, reader-dba916cd29, 2] Getting connection from pool\n",
      "2022-06-03 19:24:58.499 INFO  [140319980427008] ConsumerImpl:224 | [persistent://public/static/initialized, reader-dba916cd29, 2] Created consumer on broker [127.0.0.1:55018 -> 127.0.0.1:6650] \n",
      "2022-06-03 19:24:58.506 INFO  [140320932513600] ConsumerImpl:999 | [persistent://public/static/initialized, reader-dba916cd29, 2] Closing consumer for topic persistent://public/static/initialized\n",
      "2022-06-03 19:24:58.506 INFO  [140319980427008] ConsumerImpl:1055 | [persistent://public/static/initialized, reader-dba916cd29, 2] Closed consumer 2\n",
      "2022-06-03 19:24:58.509 INFO  [140319980427008] HandlerBase:64 | [persistent://public/static/languages, reader-460c6740a1, 3] Getting connection from pool\n",
      "2022-06-03 19:24:58.510 INFO  [140319980427008] ConsumerImpl:224 | [persistent://public/static/languages, reader-460c6740a1, 3] Created consumer on broker [127.0.0.1:55018 -> 127.0.0.1:6650] \n",
      "2022-06-03 19:24:58.530 INFO  [140320932513600] ConsumerImpl:999 | [persistent://public/static/languages, reader-460c6740a1, 3] Closing consumer for topic persistent://public/static/languages\n",
      "2022-06-03 19:24:58.531 INFO  [140319980427008] ConsumerImpl:1055 | [persistent://public/static/languages, reader-460c6740a1, 3] Closed consumer 3\n",
      "2022-06-03 19:24:58.534 INFO  [140319980427008] HandlerBase:64 | [persistent://public/static/aggregate_languages_info, aggregate_languages_info_prod] Getting connection from pool\n",
      "2022-06-03 19:24:58.540 INFO  [140319980427008] ProducerImpl:189 | [persistent://public/static/aggregate_languages_info, aggregate_languages_info_prod] Created producer on broker [127.0.0.1:55018 -> 127.0.0.1:6650] \n",
      "2022-06-03 19:24:58.751 INFO  [140320932513600] ProducerImpl:686 | [persistent://public/static/aggregate_languages_info, aggregate_languages_info_prod] Closing producer for topic persistent://public/static/aggregate_languages_info\n",
      "2022-06-03 19:24:58.752 INFO  [140319980427008] ProducerImpl:729 | [persistent://public/static/aggregate_languages_info, aggregate_languages_info_prod] Closed producer\n",
      "2022-06-03 19:24:58.759 INFO  [140319980427008] HandlerBase:64 | [persistent://public/static/commit_repo_info, reader-ede5363308, 4] Getting connection from pool\n",
      "2022-06-03 19:24:58.761 INFO  [140319980427008] ConsumerImpl:224 | [persistent://public/static/commit_repo_info, reader-ede5363308, 4] Created consumer on broker [127.0.0.1:55018 -> 127.0.0.1:6650] \n",
      "2022-06-03 19:24:59.184 INFO  [140320932513600] ConsumerImpl:999 | [persistent://public/static/commit_repo_info, reader-ede5363308, 4] Closing consumer for topic persistent://public/static/commit_repo_info\n",
      "2022-06-03 19:24:59.186 INFO  [140320932513600] ConsumerImpl:1055 | [persistent://public/static/commit_repo_info, reader-ede5363308, 4] Closed consumer 4\n",
      "2022-06-03 19:24:59.189 INFO  [140319980427008] HandlerBase:64 | [persistent://public/static/2021-01-02_result_commit, 2021-01-02_result_commit_prod] Getting connection from pool\n",
      "2022-06-03 19:24:59.336 INFO  [140319980427008] ProducerImpl:189 | [persistent://public/static/2021-01-02_result_commit, 2021-01-02_result_commit_prod] Created producer on broker [127.0.0.1:55018 -> 127.0.0.1:6650] \n",
      "2022-06-03 19:24:59.538 INFO  [140320932513600] ProducerImpl:686 | [persistent://public/static/2021-01-02_result_commit, 2021-01-02_result_commit_prod] Closing producer for topic persistent://public/static/2021-01-02_result_commit\n",
      "2022-06-03 19:24:59.539 INFO  [140319980427008] ProducerImpl:729 | [persistent://public/static/2021-01-02_result_commit, 2021-01-02_result_commit_prod] Closed producer\n",
      "\n",
      "*** Reporting the cutoff date to the 'initialized' topic *** \n",
      "\n",
      "2022-06-03 19:24:59.540 INFO  [140319980427008] HandlerBase:64 | [persistent://public/static/initialized, initialized_prod_1654284299] Getting connection from pool\n",
      "2022-06-03 19:24:59.545 INFO  [140319980427008] ProducerImpl:189 | [persistent://public/static/initialized, initialized_prod_1654284299] Created producer on broker [127.0.0.1:55018 -> 127.0.0.1:6650] \n",
      "2022-06-03 19:24:59.548 INFO  [140320932513600] ProducerImpl:655 | Producer - [persistent://public/static/2021-01-02_result_commit, 2021-01-02_result_commit_prod] , [batching  = off]\n",
      "2022-06-03 19:24:59.548 INFO  [140320932513600] ProducerImpl:655 | Producer - [persistent://public/static/initialized, initialized_prod_1654284299] , [batching  = off]\n",
      "2022-06-03 19:24:59.548 WARN  [140320932513600] ProducerImpl:114 | [persistent://public/static/initialized, initialized_prod_1654284299] Destroyed producer which was not properly closed\n",
      "2022-06-03 19:24:59.548 INFO  [140320932513600] ProducerImpl:655 | Producer - [persistent://public/static/aggregate_languages_info, aggregate_languages_info_prod] , [batching  = off]\n"
     ]
    },
    {
     "data": {
      "text/plain": [
       "True"
      ]
     },
     "execution_count": 7,
     "metadata": {},
     "output_type": "execute_result"
    }
   ],
   "source": [
    "my_pulsar.process_results(cutoff_date='2021-01-02')"
   ]
  },
  {
   "cell_type": "code",
   "execution_count": 8,
   "id": "64d38308-7e14-45dd-a76b-245f39a66d27",
   "metadata": {},
   "outputs": [
    {
     "name": "stdout",
     "output_type": "stream",
     "text": [
      "2022-06-03 19:25:05.479 INFO  [140319980427008] HandlerBase:64 | [persistent://public/static/language_results, reader-b5a9b1afc5, 5] Getting connection from pool\n",
      "2022-06-03 19:25:05.481 INFO  [140319980427008] ConsumerImpl:224 | [persistent://public/static/language_results, reader-b5a9b1afc5, 5] Created consumer on broker [127.0.0.1:55018 -> 127.0.0.1:6650] \n",
      "2022-06-03 19:25:05.502 INFO  [140320932513600] ConsumerImpl:999 | [persistent://public/static/language_results, reader-b5a9b1afc5, 5] Closing consumer for topic persistent://public/static/language_results\n",
      "2022-06-03 19:25:05.503 INFO  [140320932513600] ConsumerImpl:1055 | [persistent://public/static/language_results, reader-b5a9b1afc5, 5] Closed consumer 5\n"
     ]
    }
   ],
   "source": [
    "language_stats = my_pulsar.get_languages_stats()"
   ]
  },
  {
   "cell_type": "code",
   "execution_count": 9,
   "id": "eae2555f-902d-4963-b54b-4dad02adf25f",
   "metadata": {},
   "outputs": [
    {
     "name": "stdout",
     "output_type": "stream",
     "text": [
      "Num repos: 2979\n",
      "Num tests: 453\n",
      "Num ci: 26\n"
     ]
    }
   ],
   "source": [
    "repo_sum, num_tests, num_ci = 0, 0, 0\n",
    "for language in language_stats:\n",
    "    repo_sum+=int(language_stats[language]['num_repos'] or 0)\n",
    "    num_tests+=int(language_stats[language]['num_tests'] or 0)\n",
    "    num_ci+=int(language_stats[language]['num_ci'] or 0)\n",
    "print(f\"Num repos: {repo_sum}\")\n",
    "print(f\"Num tests: {num_tests}\")\n",
    "print(f\"Num ci: {num_ci}\")"
   ]
  },
  {
   "cell_type": "markdown",
   "id": "44feda74-b361-4fea-91b3-4f9ab6e31b74",
   "metadata": {
    "execution": {
     "iopub.execute_input": "2022-05-18T14:01:13.676491Z",
     "iopub.status.busy": "2022-05-18T14:01:13.673790Z",
     "iopub.status.idle": "2022-05-18T14:01:13.696125Z",
     "shell.execute_reply": "2022-05-18T14:01:13.694646Z",
     "shell.execute_reply.started": "2022-05-18T14:01:13.675983Z"
    }
   },
   "source": [
    "# 1. Top programming languages based on the number of projects developed"
   ]
  },
  {
   "cell_type": "code",
   "execution_count": 10,
   "id": "64babd3f-99f5-45dc-a35e-a75d28c069c1",
   "metadata": {},
   "outputs": [
    {
     "data": {
      "image/png": "[encoded data removed]",
      "text/plain": [
       "<Figure size 864x432 with 1 Axes>"
      ]
     },
     "metadata": {
      "needs_background": "light"
     },
     "output_type": "display_data"
    }
   ],
   "source": [
    "# Define the number of top languages to return, get the results, and plot them\n",
    "num_results = 10\n",
    "lang_repos = sort_results(language_stats, 'num_repos', num_results)\n",
    "plot_result(lang_repos, \n",
    "          title=f'Top {len(lang_repos)} programming languages by number of repositories', \n",
    "          xlabel='', ylabel='Number of repositories')"
   ]
  },
  {
   "cell_type": "markdown",
   "id": "0a10e825-b5b5-442c-8cc2-7d02a93fea2d",
   "metadata": {
    "execution": {
     "iopub.execute_input": "2022-05-18T14:03:03.610794Z",
     "iopub.status.busy": "2022-05-18T14:03:03.607179Z",
     "iopub.status.idle": "2022-05-18T14:03:03.618423Z",
     "shell.execute_reply": "2022-05-18T14:03:03.617189Z",
     "shell.execute_reply.started": "2022-05-18T14:03:03.610732Z"
    },
    "tags": []
   },
   "source": [
    "# 2. Repositories with most commits"
   ]
  },
  {
   "cell_type": "code",
   "execution_count": 11,
   "id": "b489f2bc-55ae-45a0-9c5f-fc7954b67cb8",
   "metadata": {},
   "outputs": [
    {
     "name": "stdout",
     "output_type": "stream",
     "text": [
      "2022-06-03 19:25:25.580 INFO  [140320932513600] HandlerBase:64 | [persistent://public/static/initialized, reader-d4c41ed085, 6] Getting connection from pool\n",
      "2022-06-03 19:25:25.582 INFO  [140320932513600] ConsumerImpl:224 | [persistent://public/static/initialized, reader-d4c41ed085, 6] Created consumer on broker [127.0.0.1:55018 -> 127.0.0.1:6650] \n",
      "2022-06-03 19:25:25.587 INFO  [140320932513600] ConsumerImpl:999 | [persistent://public/static/initialized, reader-d4c41ed085, 6] Closing consumer for topic persistent://public/static/initialized\n",
      "2022-06-03 19:25:25.588 INFO  [140320932513600] ConsumerImpl:1055 | [persistent://public/static/initialized, reader-d4c41ed085, 6] Closed consumer 6\n",
      "\n",
      "*** Showing partial results up to 2021-01-02 (info is still being processed) ***\n",
      "\n",
      "2022-06-03 19:25:25.589 INFO  [140319980427008] HandlerBase:64 | [persistent://public/static/2021-01-02_result_commit, reader-df53b053d4, 7] Getting connection from pool\n",
      "2022-06-03 19:25:25.590 INFO  [140319980427008] ConsumerImpl:224 | [persistent://public/static/2021-01-02_result_commit, reader-df53b053d4, 7] Created consumer on broker [127.0.0.1:55018 -> 127.0.0.1:6650] \n",
      "2022-06-03 19:25:25.603 INFO  [140320932513600] ConsumerImpl:999 | [persistent://public/static/2021-01-02_result_commit, reader-df53b053d4, 7] Closing consumer for topic persistent://public/static/2021-01-02_result_commit\n",
      "2022-06-03 19:25:25.605 INFO  [140319980427008] ConsumerImpl:1055 | [persistent://public/static/2021-01-02_result_commit, reader-df53b053d4, 7] Closed consumer 7\n"
     ]
    }
   ],
   "source": [
    "top_repos = my_pulsar.get_top_commits()"
   ]
  },
  {
   "cell_type": "code",
   "execution_count": 12,
   "id": "ccdab97f-011c-4491-941f-6f4736b8a28d",
   "metadata": {},
   "outputs": [
    {
     "data": {
      "text/html": [
       "<div>\n",
       "<style scoped>\n",
       "    .dataframe tbody tr th:only-of-type {\n",
       "        vertical-align: middle;\n",
       "    }\n",
       "\n",
       "    .dataframe tbody tr th {\n",
       "        vertical-align: top;\n",
       "    }\n",
       "\n",
       "    .dataframe thead th {\n",
       "        text-align: right;\n",
       "    }\n",
       "</style>\n",
       "<table border=\"1\" class=\"dataframe\">\n",
       "  <thead>\n",
       "    <tr style=\"text-align: right;\">\n",
       "      <th></th>\n",
       "      <th>Repository name</th>\n",
       "      <th>Number of commits</th>\n",
       "    </tr>\n",
       "  </thead>\n",
       "  <tbody>\n",
       "    <tr>\n",
       "      <th>0</th>\n",
       "      <td>AOSP-Krypton/frameworks_base</td>\n",
       "      <td>661920</td>\n",
       "    </tr>\n",
       "    <tr>\n",
       "      <th>1</th>\n",
       "      <td>GiorgioComitini/COVID-19</td>\n",
       "      <td>107359</td>\n",
       "    </tr>\n",
       "    <tr>\n",
       "      <th>2</th>\n",
       "      <td>merchantsedition/merchantsedition</td>\n",
       "      <td>37380</td>\n",
       "    </tr>\n",
       "    <tr>\n",
       "      <th>3</th>\n",
       "      <td>WangTingMan/chromebase</td>\n",
       "      <td>21989</td>\n",
       "    </tr>\n",
       "    <tr>\n",
       "      <th>4</th>\n",
       "      <td>helaili/enterprise-showcase</td>\n",
       "      <td>12148</td>\n",
       "    </tr>\n",
       "    <tr>\n",
       "      <th>5</th>\n",
       "      <td>wiredfool/pillow-fuzz</td>\n",
       "      <td>11254</td>\n",
       "    </tr>\n",
       "    <tr>\n",
       "      <th>6</th>\n",
       "      <td>scriptex/uptime</td>\n",
       "      <td>10998</td>\n",
       "    </tr>\n",
       "    <tr>\n",
       "      <th>7</th>\n",
       "      <td>Ch4t4r/Nebulo</td>\n",
       "      <td>3465</td>\n",
       "    </tr>\n",
       "    <tr>\n",
       "      <th>8</th>\n",
       "      <td>itizaworld/webev</td>\n",
       "      <td>3290</td>\n",
       "    </tr>\n",
       "    <tr>\n",
       "      <th>9</th>\n",
       "      <td>extremscorner/libogc2</td>\n",
       "      <td>1935</td>\n",
       "    </tr>\n",
       "  </tbody>\n",
       "</table>\n",
       "</div>"
      ],
      "text/plain": [
       "                     Repository name  Number of commits\n",
       "0       AOSP-Krypton/frameworks_base             661920\n",
       "1           GiorgioComitini/COVID-19             107359\n",
       "2  merchantsedition/merchantsedition              37380\n",
       "3             WangTingMan/chromebase              21989\n",
       "4        helaili/enterprise-showcase              12148\n",
       "5              wiredfool/pillow-fuzz              11254\n",
       "6                    scriptex/uptime              10998\n",
       "7                      Ch4t4r/Nebulo               3465\n",
       "8                   itizaworld/webev               3290\n",
       "9              extremscorner/libogc2               1935"
      ]
     },
     "execution_count": 12,
     "metadata": {},
     "output_type": "execute_result"
    }
   ],
   "source": [
    "pd.DataFrame(top_repos, columns=['Repository name','Number of commits'])"
   ]
  },
  {
   "cell_type": "markdown",
   "id": "f3cfaa4a-8eb8-4658-8c9f-7dc1bfd0eaef",
   "metadata": {},
   "source": [
    "# 3. Top languages with testdriven approach"
   ]
  },
  {
   "cell_type": "code",
   "execution_count": 13,
   "id": "f97fa694-4228-4f0f-96e1-fa18b748b169",
   "metadata": {},
   "outputs": [
    {
     "data": {
      "image/png": "[encoded data removed]",
      "text/plain": [
       "<Figure size 864x432 with 1 Axes>"
      ]
     },
     "metadata": {
      "needs_background": "light"
     },
     "output_type": "display_data"
    }
   ],
   "source": [
    "# Define the number of top languages to return, get the results, and plot them\n",
    "num_results_test = 10\n",
    "lang_repos_test = sort_results(language_stats, 'num_tests', num_results_test)\n",
    "plot_result(lang_repos_test, \n",
    "          title=f'Top {len(lang_repos_test)} programming languages by test driven approach', \n",
    "          xlabel='', ylabel='Number of repositories')"
   ]
  },
  {
   "cell_type": "markdown",
   "id": "9113c5aa-373c-4554-93a2-52d5fbd25e9b",
   "metadata": {},
   "source": [
    "# 4. Top languages with testdriven approach and continous integration"
   ]
  },
  {
   "cell_type": "code",
   "execution_count": 14,
   "id": "36c7d6b8-1447-4fcb-a2f8-1879fa06babe",
   "metadata": {},
   "outputs": [
    {
     "data": {
      "image/png": "[encoded data removed]",
      "text/plain": [
       "<Figure size 864x432 with 1 Axes>"
      ]
     },
     "metadata": {
      "needs_background": "light"
     },
     "output_type": "display_data"
    }
   ],
   "source": [
    "# Define the number of top languages to return, get the results, and plot them\n",
    "num_results_ci = 10\n",
    "lang_repos_ci = sort_results(language_stats, 'num_ci', num_results_ci)\n",
    "plot_result(lang_repos_ci, \n",
    "          title=f'Top {len(lang_repos_ci)} languages with test driven approach and ci/cd', \n",
    "          xlabel='', ylabel='Number of repositories')"
   ]
  },
  {
   "cell_type": "code",
   "execution_count": 15,
   "id": "f640bd7e-a8e2-4e3b-b39e-6b26f9360b52",
   "metadata": {},
   "outputs": [
    {
     "name": "stdout",
     "output_type": "stream",
     "text": [
      "2022-06-03 19:25:46.692 INFO  [140320932513600] ClientImpl:496 | Closing Pulsar client with 3 producers and 8 consumers\n",
      "2022-06-03 19:25:46.693 INFO  [140320932513600] ClientConnection:1559 | [127.0.0.1:55018 -> 127.0.0.1:6650] Connection closed\n",
      "2022-06-03 19:25:46.694 INFO  [140320932513600] ClientConnection:263 | [127.0.0.1:55018 -> 127.0.0.1:6650] Destroyed connection\n"
     ]
    }
   ],
   "source": [
    "my_pulsar.close()"
   ]
  },
  {
   "cell_type": "code",
   "execution_count": null,
   "id": "ee4d78d9-c8fb-48bd-84f6-9162f693d276",
   "metadata": {},
   "outputs": [],
   "source": []
  }
 ],
 "metadata": {
  "kernelspec": {
   "display_name": "Python 3 (ipykernel)",
   "language": "python",
   "name": "python3"
  },
  "language_info": {
   "codemirror_mode": {
    "name": "ipython",
    "version": 3
   },
   "file_extension": ".py",
   "mimetype": "text/x-python",
   "name": "python",
   "nbconvert_exporter": "python",
   "pygments_lexer": "ipython3",
   "version": "3.8.10"
  }
 },
 "nbformat": 4,
 "nbformat_minor": 5
}
