{
 "cells": [
  {
   "cell_type": "markdown",
   "id": "9ea9af4e-91a3-4295-8903-5e9c9292847c",
   "metadata": {},
   "source": [
    "# GitHub analysis client\n",
    "This notebook assumes that Pulsar is running and there are already partial results available"
   ]
  },
  {
   "cell_type": "code",
   "execution_count": 1,
   "id": "ecb2850d-e27e-4063-8123-e15cdf3bb7df",
   "metadata": {},
   "outputs": [],
   "source": [
    "import matplotlib.pyplot as plt\n",
    "import operator\n",
    "import os\n",
    "import pandas as pd\n",
    "import sortedcontainers\n",
    "from pulsar_wrapper import PulsarConnection"
   ]
  },
  {
   "cell_type": "code",
   "execution_count": 2,
   "id": "86c9bbfe-7319-48a8-bf51-c30c917aa6cb",
   "metadata": {},
   "outputs": [],
   "source": [
    "class LanguageTuple(object):\n",
    "    \"\"\" Data Type to support tuple in-place sorting using sortedcontainers \"\"\"\n",
    "    def __init__(self, lang_tuple):\n",
    "        self.lang = lang_tuple[0]\n",
    "        self.value = int(lang_tuple[1] or 0)\n",
    "        \n",
    "    def __repr__(self):\n",
    "        return f\"('{self.lang}', {self.value})\"\n",
    "\n",
    "def sort_results(language_stats, field, num_results=None):\n",
    "    lang_repos = sortedcontainers.SortedKeyList(key=lambda x: -x.value)\n",
    "    for language in language_stats:\n",
    "        lang_repos.add(LanguageTuple((language, language_stats[language][field])))\n",
    "    return list(lang_repos[:num_results])"
   ]
  },
  {
   "cell_type": "code",
   "execution_count": 3,
   "id": "d82c9f42-ec19-497a-b180-18a2c65a5f54",
   "metadata": {},
   "outputs": [],
   "source": [
    "# Function to plot the results\n",
    "def plot_result(result_tuple, title='', xlabel='', ylabel=''):\n",
    "    fig = plt.figure(figsize=(12,6))\n",
    "    ax = fig.add_subplot(111)\n",
    "\n",
    "    ax.set_ylabel(ylabel)\n",
    "    ax.set_title(title)\n",
    "\n",
    "    x_axis = [val.lang for val in result_tuple]\n",
    "    y_axis = [val.value for val in result_tuple]\n",
    "    plt.bar(range(len(result_tuple)), y_axis, tick_label=x_axis)\n",
    "    plt.show()"
   ]
  },
  {
   "cell_type": "code",
   "execution_count": 4,
   "id": "004b7486-4e55-4faf-b755-15a3b5acfa5d",
   "metadata": {},
   "outputs": [
    {
     "name": "stdout",
     "output_type": "stream",
     "text": [
      "2022-06-04 11:46:32.968 INFO  [140188990207808] ClientConnection:189 | [<none> -> pulsar://localhost:6650] Create ClientConnection, timeout=10000\n",
      "2022-06-04 11:46:32.969 INFO  [140188990207808] ConnectionPool:96 | Created connection for pulsar://localhost:6650\n",
      "2022-06-04 11:46:32.972 INFO  [140188038141696] ClientConnection:375 | [127.0.0.1:46390 -> 127.0.0.1:6650] Connected to broker\n",
      "2022-06-04 11:46:32.993 INFO  [140188038141696] HandlerBase:64 | [persistent://public/static/initialized, reader-d65fdcbd75, 0] Getting connection from pool\n",
      "2022-06-04 11:46:32.997 INFO  [140188038141696] ConsumerImpl:224 | [persistent://public/static/initialized, reader-d65fdcbd75, 0] Created consumer on broker [127.0.0.1:46390 -> 127.0.0.1:6650] \n",
      "Found 'Initializing' message\n",
      "Found 'Initialized' message\n",
      "2022-06-04 11:46:33.009 INFO  [140188990207808] ConsumerImpl:999 | [persistent://public/static/initialized, reader-d65fdcbd75, 0] Closing consumer for topic persistent://public/static/initialized\n",
      "2022-06-04 11:46:33.011 INFO  [140188038141696] ConsumerImpl:1055 | [persistent://public/static/initialized, reader-d65fdcbd75, 0] Closed consumer 0\n"
     ]
    }
   ],
   "source": [
    "# Take Pulsar host value from the environment variables\n",
    "environment = os.environ\n",
    "pulsar_host = environment.get(\"pulsar_host\")\n",
    "# If not set, assume its running in localhost\n",
    "if (pulsar_host is None): pulsar_host = 'localhost'\n",
    "my_pulsar = PulsarConnection(ip_address=pulsar_host)"
   ]
  },
  {
   "cell_type": "code",
   "execution_count": 5,
   "id": "878a851b-0f13-4343-ad7b-25a9e5ef6012",
   "metadata": {},
   "outputs": [
    {
     "name": "stdout",
     "output_type": "stream",
     "text": [
      "2022-06-04 11:46:35.744 INFO  [140188038141696] HandlerBase:64 | [persistent://public/static/initialized, reader-1b26c511cb, 1] Getting connection from pool\n",
      "2022-06-04 11:46:35.750 INFO  [140188038141696] ConsumerImpl:224 | [persistent://public/static/initialized, reader-1b26c511cb, 1] Created consumer on broker [127.0.0.1:46390 -> 127.0.0.1:6650] \n",
      "2022-06-04 11:46:35.759 INFO  [140188990207808] ConsumerImpl:999 | [persistent://public/static/initialized, reader-1b26c511cb, 1] Closing consumer for topic persistent://public/static/initialized\n",
      "2022-06-04 11:46:35.761 INFO  [140188038141696] ConsumerImpl:1055 | [persistent://public/static/initialized, reader-1b26c511cb, 1] Closed consumer 1\n"
     ]
    }
   ],
   "source": [
    "cur_cutoff_date = my_pulsar.get_current_cuttoff_date()"
   ]
  },
  {
   "cell_type": "code",
   "execution_count": 6,
   "id": "36aaab0d-b40a-4b87-a517-40ab5d6a0f28",
   "metadata": {},
   "outputs": [
    {
     "data": {
      "text/plain": [
       "'2021-12-31'"
      ]
     },
     "execution_count": 6,
     "metadata": {},
     "output_type": "execute_result"
    }
   ],
   "source": [
    "cur_cutoff_date"
   ]
  },
  {
   "cell_type": "code",
   "execution_count": 9,
   "id": "140eba57-c7da-4fa6-b5e7-aba8e147ff2b",
   "metadata": {},
   "outputs": [
    {
     "name": "stdout",
     "output_type": "stream",
     "text": [
      "2022-06-04 11:47:10.617 INFO  [140188038141696] HandlerBase:64 | [persistent://public/static/initialized, reader-7fdc02f0e5, 4] Getting connection from pool\n",
      "2022-06-04 11:47:10.620 INFO  [140188038141696] ConsumerImpl:224 | [persistent://public/static/initialized, reader-7fdc02f0e5, 4] Created consumer on broker [127.0.0.1:46390 -> 127.0.0.1:6650] \n",
      "2022-06-04 11:47:10.636 INFO  [140188990207808] ConsumerImpl:999 | [persistent://public/static/initialized, reader-7fdc02f0e5, 4] Closing consumer for topic persistent://public/static/initialized\n",
      "2022-06-04 11:47:10.638 INFO  [140188038141696] ConsumerImpl:1055 | [persistent://public/static/initialized, reader-7fdc02f0e5, 4] Closed consumer 4\n"
     ]
    },
    {
     "data": {
      "text/plain": [
       "False"
      ]
     },
     "execution_count": 9,
     "metadata": {},
     "output_type": "execute_result"
    }
   ],
   "source": [
    "my_pulsar.process_results(cutoff_date='2021-12-30')"
   ]
  },
  {
   "cell_type": "code",
   "execution_count": 10,
   "id": "64d38308-7e14-45dd-a76b-245f39a66d27",
   "metadata": {},
   "outputs": [
    {
     "name": "stdout",
     "output_type": "stream",
     "text": [
      "2022-06-04 11:47:33.287 INFO  [140188038141696] HandlerBase:64 | [persistent://public/static/language_results, reader-152348c2a4, 5] Getting connection from pool\n",
      "2022-06-04 11:47:33.288 INFO  [140188038141696] ConsumerImpl:224 | [persistent://public/static/language_results, reader-152348c2a4, 5] Created consumer on broker [127.0.0.1:46390 -> 127.0.0.1:6650] \n",
      "2022-06-04 11:47:34.046 INFO  [140188990207808] ConsumerImpl:999 | [persistent://public/static/language_results, reader-152348c2a4, 5] Closing consumer for topic persistent://public/static/language_results\n",
      "2022-06-04 11:47:34.048 INFO  [140188038141696] ConsumerImpl:1055 | [persistent://public/static/language_results, reader-152348c2a4, 5] Closed consumer 5\n"
     ]
    }
   ],
   "source": [
    "language_stats = my_pulsar.get_languages_stats()"
   ]
  },
  {
   "cell_type": "code",
   "execution_count": 11,
   "id": "eae2555f-902d-4963-b54b-4dad02adf25f",
   "metadata": {},
   "outputs": [
    {
     "name": "stdout",
     "output_type": "stream",
     "text": [
      "Num repos: 98631\n",
      "Num tests: 4814\n",
      "Num ci: 89\n"
     ]
    }
   ],
   "source": [
    "repo_sum, num_tests, num_ci = 0, 0, 0\n",
    "for language in language_stats:\n",
    "    repo_sum+=int(language_stats[language]['num_repos'] or 0)\n",
    "    num_tests+=int(language_stats[language]['num_tests'] or 0)\n",
    "    num_ci+=int(language_stats[language]['num_ci'] or 0)\n",
    "print(f\"Num repos: {repo_sum}\")\n",
    "print(f\"Num tests: {num_tests}\")\n",
    "print(f\"Num ci: {num_ci}\")"
   ]
  },
  {
   "cell_type": "markdown",
   "id": "44feda74-b361-4fea-91b3-4f9ab6e31b74",
   "metadata": {
    "execution": {
     "iopub.execute_input": "2022-05-18T14:01:13.676491Z",
     "iopub.status.busy": "2022-05-18T14:01:13.673790Z",
     "iopub.status.idle": "2022-05-18T14:01:13.696125Z",
     "shell.execute_reply": "2022-05-18T14:01:13.694646Z",
     "shell.execute_reply.started": "2022-05-18T14:01:13.675983Z"
    }
   },
   "source": [
    "# 1. Top programming languages based on the number of projects developed"
   ]
  },
  {
   "cell_type": "code",
   "execution_count": 12,
   "id": "64babd3f-99f5-45dc-a35e-a75d28c069c1",
   "metadata": {},
   "outputs": [
    {
     "data": {
      "image/png": "[encoded data removed]",
      "text/plain": [
       "<Figure size 864x432 with 1 Axes>"
      ]
     },
     "metadata": {
      "needs_background": "light"
     },
     "output_type": "display_data"
    }
   ],
   "source": [
    "# Define the number of top languages to return, get the results, and plot them\n",
    "num_results = 10\n",
    "lang_repos = sort_results(language_stats, 'num_repos', num_results)\n",
    "plot_result(lang_repos, \n",
    "          title=f'Top {len(lang_repos)} programming languages by number of repositories', \n",
    "          xlabel='', ylabel='Number of repositories')"
   ]
  },
  {
   "cell_type": "markdown",
   "id": "0a10e825-b5b5-442c-8cc2-7d02a93fea2d",
   "metadata": {
    "execution": {
     "iopub.execute_input": "2022-05-18T14:03:03.610794Z",
     "iopub.status.busy": "2022-05-18T14:03:03.607179Z",
     "iopub.status.idle": "2022-05-18T14:03:03.618423Z",
     "shell.execute_reply": "2022-05-18T14:03:03.617189Z",
     "shell.execute_reply.started": "2022-05-18T14:03:03.610732Z"
    },
    "tags": []
   },
   "source": [
    "# 2. Repositories with most commits"
   ]
  },
  {
   "cell_type": "code",
   "execution_count": 13,
   "id": "b489f2bc-55ae-45a0-9c5f-fc7954b67cb8",
   "metadata": {},
   "outputs": [
    {
     "name": "stdout",
     "output_type": "stream",
     "text": [
      "2022-06-04 11:48:00.022 INFO  [140188990207808] HandlerBase:64 | [persistent://public/static/initialized, reader-72ac46915f, 6] Getting connection from pool\n",
      "2022-06-04 11:48:00.024 INFO  [140188990207808] ConsumerImpl:224 | [persistent://public/static/initialized, reader-72ac46915f, 6] Created consumer on broker [127.0.0.1:46390 -> 127.0.0.1:6650] \n",
      "2022-06-04 11:48:00.032 INFO  [140188990207808] ConsumerImpl:999 | [persistent://public/static/initialized, reader-72ac46915f, 6] Closing consumer for topic persistent://public/static/initialized\n",
      "\n",
      "*** Showing final results (all info has been processed) ***\n",
      "\n",
      "2022-06-04 11:48:00.033 INFO  [140188990207808] ConsumerImpl:1055 | [persistent://public/static/initialized, reader-72ac46915f, 6] Closed consumer 6\n",
      "2022-06-04 11:48:00.037 INFO  [140188038141696] HandlerBase:64 | [persistent://public/static/2021-12-31_result_commit, reader-a3c377adc7, 7] Getting connection from pool\n",
      "2022-06-04 11:48:00.039 INFO  [140188038141696] ConsumerImpl:224 | [persistent://public/static/2021-12-31_result_commit, reader-a3c377adc7, 7] Created consumer on broker [127.0.0.1:46390 -> 127.0.0.1:6650] \n",
      "2022-06-04 11:48:00.068 INFO  [140188990207808] ConsumerImpl:999 | [persistent://public/static/2021-12-31_result_commit, reader-a3c377adc7, 7] Closing consumer for topic persistent://public/static/2021-12-31_result_commit\n",
      "2022-06-04 11:48:00.080 INFO  [140188038141696] ConsumerImpl:1055 | [persistent://public/static/2021-12-31_result_commit, reader-a3c377adc7, 7] Closed consumer 7\n"
     ]
    }
   ],
   "source": [
    "top_repos = my_pulsar.get_top_commits(10)"
   ]
  },
  {
   "cell_type": "code",
   "execution_count": 14,
   "id": "ccdab97f-011c-4491-941f-6f4736b8a28d",
   "metadata": {},
   "outputs": [
    {
     "data": {
      "text/html": [
       "<div>\n",
       "<style scoped>\n",
       "    .dataframe tbody tr th:only-of-type {\n",
       "        vertical-align: middle;\n",
       "    }\n",
       "\n",
       "    .dataframe tbody tr th {\n",
       "        vertical-align: top;\n",
       "    }\n",
       "\n",
       "    .dataframe thead th {\n",
       "        text-align: right;\n",
       "    }\n",
       "</style>\n",
       "<table border=\"1\" class=\"dataframe\">\n",
       "  <thead>\n",
       "    <tr style=\"text-align: right;\">\n",
       "      <th></th>\n",
       "      <th>Repository name</th>\n",
       "      <th>Number of commits</th>\n",
       "    </tr>\n",
       "  </thead>\n",
       "  <tbody>\n",
       "    <tr>\n",
       "      <th>0</th>\n",
       "      <td>virejdasani/Commited</td>\n",
       "      <td>3000007</td>\n",
       "    </tr>\n",
       "    <tr>\n",
       "      <th>1</th>\n",
       "      <td>Helikopter-Bojowy/Exp-na-helikopterze</td>\n",
       "      <td>1260512</td>\n",
       "    </tr>\n",
       "    <tr>\n",
       "      <th>2</th>\n",
       "      <td>starfive-tech/linux</td>\n",
       "      <td>1090757</td>\n",
       "    </tr>\n",
       "    <tr>\n",
       "      <th>3</th>\n",
       "      <td>denysvitali/surface-pro-x-linux</td>\n",
       "      <td>1052494</td>\n",
       "    </tr>\n",
       "    <tr>\n",
       "      <th>4</th>\n",
       "      <td>PopcornComputer/PocketPC-Linux</td>\n",
       "      <td>1031771</td>\n",
       "    </tr>\n",
       "    <tr>\n",
       "      <th>5</th>\n",
       "      <td>microsoft/CBL-Mariner-Linux-Kernel</td>\n",
       "      <td>990700</td>\n",
       "    </tr>\n",
       "    <tr>\n",
       "      <th>6</th>\n",
       "      <td>truenas/linux</td>\n",
       "      <td>981303</td>\n",
       "    </tr>\n",
       "    <tr>\n",
       "      <th>7</th>\n",
       "      <td>nyx-fuzz/KVM-Nyx</td>\n",
       "      <td>978017</td>\n",
       "    </tr>\n",
       "    <tr>\n",
       "      <th>8</th>\n",
       "      <td>ngi-mptcp/lkl-next</td>\n",
       "      <td>969637</td>\n",
       "    </tr>\n",
       "    <tr>\n",
       "      <th>9</th>\n",
       "      <td>Demon000/kernel_xiaomi_sm8350</td>\n",
       "      <td>930695</td>\n",
       "    </tr>\n",
       "  </tbody>\n",
       "</table>\n",
       "</div>"
      ],
      "text/plain": [
       "                         Repository name  Number of commits\n",
       "0                   virejdasani/Commited            3000007\n",
       "1  Helikopter-Bojowy/Exp-na-helikopterze            1260512\n",
       "2                    starfive-tech/linux            1090757\n",
       "3        denysvitali/surface-pro-x-linux            1052494\n",
       "4         PopcornComputer/PocketPC-Linux            1031771\n",
       "5     microsoft/CBL-Mariner-Linux-Kernel             990700\n",
       "6                          truenas/linux             981303\n",
       "7                       nyx-fuzz/KVM-Nyx             978017\n",
       "8                     ngi-mptcp/lkl-next             969637\n",
       "9          Demon000/kernel_xiaomi_sm8350             930695"
      ]
     },
     "execution_count": 14,
     "metadata": {},
     "output_type": "execute_result"
    }
   ],
   "source": [
    "pd.DataFrame(top_repos, columns=['Repository name','Number of commits'])"
   ]
  },
  {
   "cell_type": "markdown",
   "id": "f3cfaa4a-8eb8-4658-8c9f-7dc1bfd0eaef",
   "metadata": {},
   "source": [
    "# 3. Top languages with testdriven approach"
   ]
  },
  {
   "cell_type": "code",
   "execution_count": 15,
   "id": "f97fa694-4228-4f0f-96e1-fa18b748b169",
   "metadata": {},
   "outputs": [
    {
     "data": {
      "image/png": "[encoded data removed]",
      "text/plain": [
       "<Figure size 864x432 with 1 Axes>"
      ]
     },
     "metadata": {
      "needs_background": "light"
     },
     "output_type": "display_data"
    }
   ],
   "source": [
    "# Define the number of top languages to return, get the results, and plot them\n",
    "num_results_test = 10\n",
    "lang_repos_test = sort_results(language_stats, 'num_tests', num_results_test)\n",
    "plot_result(lang_repos_test, \n",
    "          title=f'Top {len(lang_repos_test)} programming languages by test driven approach', \n",
    "          xlabel='', ylabel='Number of repositories')"
   ]
  },
  {
   "cell_type": "markdown",
   "id": "9113c5aa-373c-4554-93a2-52d5fbd25e9b",
   "metadata": {},
   "source": [
    "# 4. Top languages with testdriven approach and continous integration"
   ]
  },
  {
   "cell_type": "code",
   "execution_count": 16,
   "id": "36c7d6b8-1447-4fcb-a2f8-1879fa06babe",
   "metadata": {},
   "outputs": [
    {
     "data": {
      "image/png": "[encoded data removed]",
      "text/plain": [
       "<Figure size 864x432 with 1 Axes>"
      ]
     },
     "metadata": {
      "needs_background": "light"
     },
     "output_type": "display_data"
    }
   ],
   "source": [
    "# Define the number of top languages to return, get the results, and plot them\n",
    "num_results_ci = 10\n",
    "lang_repos_ci = sort_results(language_stats, 'num_ci', num_results_ci)\n",
    "plot_result(lang_repos_ci, \n",
    "          title=f'Top {len(lang_repos_ci)} languages with test driven approach and ci/cd', \n",
    "          xlabel='', ylabel='Number of repositories')"
   ]
  },
  {
   "cell_type": "code",
   "execution_count": 17,
   "id": "f640bd7e-a8e2-4e3b-b39e-6b26f9360b52",
   "metadata": {},
   "outputs": [
    {
     "name": "stdout",
     "output_type": "stream",
     "text": [
      "2022-06-04 11:48:40.951 INFO  [140188990207808] ClientImpl:496 | Closing Pulsar client with 0 producers and 8 consumers\n",
      "2022-06-04 11:48:40.954 INFO  [140188990207808] ClientConnection:1559 | [127.0.0.1:46390 -> 127.0.0.1:6650] Connection closed\n",
      "2022-06-04 11:48:40.955 INFO  [140188990207808] ClientConnection:263 | [127.0.0.1:46390 -> 127.0.0.1:6650] Destroyed connection\n"
     ]
    }
   ],
   "source": [
    "my_pulsar.close()"
   ]
  },
  {
   "cell_type": "code",
   "execution_count": null,
   "id": "ee4d78d9-c8fb-48bd-84f6-9162f693d276",
   "metadata": {},
   "outputs": [],
   "source": []
  }
 ],
 "metadata": {
  "kernelspec": {
   "display_name": "Python 3 (ipykernel)",
   "language": "python",
   "name": "python3"
  },
  "language_info": {
   "codemirror_mode": {
    "name": "ipython",
    "version": 3
   },
   "file_extension": ".py",
   "mimetype": "text/x-python",
   "name": "python",
   "nbconvert_exporter": "python",
   "pygments_lexer": "ipython3",
   "version": "3.8.10"
  }
 },
 "nbformat": 4,
 "nbformat_minor": 5
}
