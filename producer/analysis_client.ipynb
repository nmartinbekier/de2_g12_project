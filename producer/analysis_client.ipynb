{
 "cells": [
  {
   "cell_type": "markdown",
   "id": "9ea9af4e-91a3-4295-8903-5e9c9292847c",
   "metadata": {},
   "source": [
    "# GitHub analysis client\n",
    "This notebook assumes that Pulsar is running and there are already partial results available"
   ]
  },
  {
   "cell_type": "code",
   "execution_count": 88,
   "id": "ecb2850d-e27e-4063-8123-e15cdf3bb7df",
   "metadata": {},
   "outputs": [
    {
     "ename": "ModuleNotFoundError",
     "evalue": "No module named 'pulsar_wrapper'",
     "output_type": "error",
     "traceback": [
      "\u001b[0;31m---------------------------------------------------------------------------\u001b[0m",
      "\u001b[0;31mModuleNotFoundError\u001b[0m                       Traceback (most recent call last)",
      "Input \u001b[0;32mIn [88]\u001b[0m, in \u001b[0;36m<cell line: 11>\u001b[0;34m()\u001b[0m\n\u001b[1;32m      9\u001b[0m \u001b[38;5;28;01mimport\u001b[39;00m \u001b[38;5;21;01mpandas\u001b[39;00m \u001b[38;5;28;01mas\u001b[39;00m \u001b[38;5;21;01mpd\u001b[39;00m\n\u001b[1;32m     10\u001b[0m \u001b[38;5;28;01mimport\u001b[39;00m \u001b[38;5;21;01msortedcontainers\u001b[39;00m\n\u001b[0;32m---> 11\u001b[0m \u001b[38;5;28;01mfrom\u001b[39;00m \u001b[38;5;21;01mpulsar_wrapper\u001b[39;00m \u001b[38;5;28;01mimport\u001b[39;00m PulsarConnection\n",
      "\u001b[0;31mModuleNotFoundError\u001b[0m: No module named 'pulsar_wrapper'"
     ]
    }
   ],
   "source": [
    "import matplotlib.pyplot as plt\n",
    "import time\n",
    "import operator\n",
    "import pulsar\n",
    "import _pulsar\n",
    "from pulsar import PartitionsRoutingMode\n",
    "from pulsar import MessageId\n",
    "import os\n",
    "import pandas as pd\n",
    "import sortedcontainers\n",
    "from pulsar_wrapper import PulsarConnection"
   ]
  },
  {
   "cell_type": "code",
   "execution_count": 66,
   "id": "f3e79c6b-4693-4c40-bbc4-929ad87baa13",
   "metadata": {},
   "outputs": [],
   "source": [
    "# Take Pulsar host value from the environment variables\n",
    "environment = os.environ\n",
    "pulsar_host = environment.get(\"pulsar_host\")\n",
    "# If not set, assume its running in localhost\n",
    "if (pulsar_host is None): pulsar_host = 'localhost'\n",
    "my_pulsar = PulsarConnection(ip_address=pulsar_host)"
   ]
  },
  {
   "cell_type": "code",
   "execution_count": 67,
   "id": "5234aa55-8946-410e-9a3c-6d87956c515e",
   "metadata": {},
   "outputs": [],
   "source": [
    "def get_current_cuttoff_date():\n",
    "    \"\"\" Receives the 'YYYY-MM-DD' of the last processed information. If \n",
    "    it is '2021-12-31' it means all has already been processed \"\"\"    \n",
    "    client = pulsar.Client(f'pulsar://{pulsar_host}:6650')\n",
    "    \n",
    "    # This info is kept in the 'initialized' topic\n",
    "    init_topic = 'initialized'\n",
    "    curr_time = str(int(time.time()))\n",
    "    try:\n",
    "        reader = client.create_reader(\n",
    "            topic=f\"persistent://public/static/{init_topic}\",\n",
    "            reader_name=f'{init_topic}_sub_{curr_time}',\n",
    "            start_message_id=MessageId.earliest)\n",
    "    except Exception as e:\n",
    "        print(f\"\\n*** Exception creating reader for 'initialized' topic: {e} ***\\n\")\n",
    "        return\n",
    "\n",
    "    message_list = []\n",
    "    while reader.has_message_available():\n",
    "        try:\n",
    "            # Give up to 400 milliseconds to receive an answer\n",
    "            msg = reader.read_next(timeout_millis=400)\n",
    "            # Save the string message (decode from byte value)\n",
    "            message_list.append(str(msg.value().decode()))\n",
    "        except Exception as e:\n",
    "            print(f\"\\n*** Exception receiving value from 'initialized' topic: {e} ***\\n\")\n",
    "            break\n",
    "    reader.close()\n",
    "    client.close()\n",
    "    \n",
    "    return message_list[-1]"
   ]
  },
  {
   "cell_type": "code",
   "execution_count": 68,
   "id": "29b7fb18-f448-4370-bb92-858a81a2609d",
   "metadata": {},
   "outputs": [],
   "source": [
    "def get_top_commits(num_values):\n",
    "    \"\"\" Function to fetch the top num_values commit results. It assumes messages are\n",
    "    ordered and in the tuple format: (id_repo, num_commits, 'repo_owner', 'repo_name').\n",
    "    It returns a num_values list of tuples of the form ('repo_name', num_commits) \"\"\"\n",
    "    \n",
    "    client = pulsar.Client(f'pulsar://{pulsar_host}:6650')\n",
    "    \n",
    "    curr_time = str(int(time.time()))\n",
    "    cutoff_date = get_cuttoff_date()\n",
    "    \n",
    "    # Check if there are available results. cutoff_date should have\n",
    "    # length 10 string ('YYYY-MM-DD')\n",
    "    if (len(cutoff_date) != 10):\n",
    "        print(f\"It seems there are still no results. Received '{cutoff_date}' as cutoff value\")\n",
    "        return\n",
    "\n",
    "    if (cutoff_date == '2021-12-31'):\n",
    "        print(\"\\n*** Showing final results (all info has been processed) ***\\n\")\n",
    "    else:\n",
    "        print(f\"\\n*** Showing partial results up to {cutoff_date} (info is still being processed) ***\\n\")\n",
    "    \n",
    "    # The results are kept in the {cutoff-date}_result_commit' topic\n",
    "    topic_name = f'{cutoff_date}_result_commit'\n",
    "    curr_time = str(int(time.time()))\n",
    "    try:\n",
    "        reader = client.create_reader(\n",
    "            topic=f\"persistent://public/static/{topic_name}\",\n",
    "            reader_name=f'{init_topic}_sub_{curr_time}',\n",
    "            start_message_id=MessageId.earliest)\n",
    "    except Exception as e:\n",
    "        print(f\"\\n*** Exception creating reader for 'initialized' topic: {e} ***\\n\")\n",
    "        reader.close()\n",
    "        return\n",
    "\n",
    "    result_list = []\n",
    "    while (reader.has_message_available() and len(result_list)<num_values):\n",
    "        try:\n",
    "            # Give up to 400 milliseconds to receive an answer\n",
    "            msg = reader.read_next(timeout_millis=400)\n",
    "            # Save the string message (decode from byte value)\n",
    "            result_tuple = eval(str(msg.value().decode()))\n",
    "            repo_name = f\"{result_tuple[2]}/{result_tuple[3]}\"\n",
    "            result_list.append((repo_name, result_tuple[1]))\n",
    "        except Exception as e:\n",
    "            print(f\"\\n*** Exception receiving value from 'initialized' topic: {e} ***\\n\")\n",
    "            break\n",
    "    reader.close()\n",
    "    client.close()\n",
    "    \n",
    "    return result_list"
   ]
  },
  {
   "cell_type": "code",
   "execution_count": 85,
   "id": "bbac8078-3fc0-47d0-8eac-77ba0e9450d8",
   "metadata": {},
   "outputs": [],
   "source": [
    "def get_languages_stats():\n",
    "    \"\"\" Receives current aggregated information of languages in a list made of tuples\n",
    "    ('language', num_repos, num_tests, num_cis). Returns a dictionary with the consolidated\n",
    "    information, with language as key\"\"\"\n",
    "    \n",
    "    client = pulsar.Client(f'pulsar://{pulsar_host}:6650')\n",
    "    \n",
    "    curr_time = str(int(time.time()))\n",
    "    \n",
    "    # The results are kept in the 'public/static/language_results' topic\n",
    "    topic_name = 'language_results'\n",
    "    curr_time = str(int(time.time()))\n",
    "    try:\n",
    "        reader = client.create_reader(\n",
    "            topic=f\"persistent://public/static/{topic_name}\",\n",
    "            reader_name=f'{init_topic}_sub_{curr_time}',\n",
    "            start_message_id=MessageId.earliest)\n",
    "    except Exception as e:\n",
    "        print(f\"\\n*** Exception creating reader for 'language_results' topic: {e} ***\\n\")\n",
    "        reader.close()\n",
    "        return\n",
    "\n",
    "    result_dict = {}\n",
    "    while reader.has_message_available():\n",
    "        try:\n",
    "            # Give up to 400 milliseconds to receive an answer\n",
    "            msg = reader.read_next(timeout_millis=400)\n",
    "            # Save the string message (decode from byte value)\n",
    "            result_tuple = eval(str(msg.value().decode()))\n",
    "            result_dict[result_tuple[0]]={'num_repos': result_tuple[1],\n",
    "                              'num_tests': result_tuple[2],\n",
    "                              'num_ci': result_tuple[3]}\n",
    "        except Exception as e:\n",
    "            print(f\"\\n*** Exception receiving value from 'initialized' topic: {e} ***\\n\")\n",
    "            break\n",
    "    reader.close()\n",
    "    client.close()\n",
    "    \n",
    "    return result_dict\n",
    "    "
   ]
  },
  {
   "cell_type": "code",
   "execution_count": 63,
   "id": "d82c9f42-ec19-497a-b180-18a2c65a5f54",
   "metadata": {},
   "outputs": [],
   "source": [
    "# Function to plot the results\n",
    "def plot_dict(result_list, title='', xlabel='', ylabel=''):\n",
    "    fig = plt.figure(figsize=(12,6))\n",
    "    ax = fig.add_subplot(111)\n",
    "\n",
    "    ax.set_ylabel(ylabel)\n",
    "    ax.set_title(title)\n",
    "\n",
    "    top_languages = dict(sorted(dictionary.items(), key=operator.itemgetter(1), reverse=True))\n",
    "    x_axis = list(top_languages.keys())\n",
    "    y_axis = list(top_languages.values())\n",
    "    plt.bar(range(len(top_languages)), y_axis, tick_label=x_axis)\n",
    "    plt.show()"
   ]
  },
  {
   "cell_type": "code",
   "execution_count": null,
   "id": "7c0b47d8-1730-4c25-ba3d-a4506fd0674f",
   "metadata": {},
   "outputs": [],
   "source": [
    "results = get_top_commits(100)"
   ]
  },
  {
   "cell_type": "code",
   "execution_count": 86,
   "id": "73e84d42-c8ad-417d-a693-3cdf90cf36b0",
   "metadata": {},
   "outputs": [
    {
     "name": "stdout",
     "output_type": "stream",
     "text": [
      "2022-06-01 14:56:51.231 INFO  [140429562840896] ClientConnection:189 | [<none> -> pulsar://localhost:6650] Create ClientConnection, timeout=10000\n",
      "2022-06-01 14:56:51.231 INFO  [140429562840896] ConnectionPool:96 | Created connection for pulsar://localhost:6650\n",
      "2022-06-01 14:56:51.236 INFO  [140428359747328] ClientConnection:375 | [127.0.0.1:57420 -> 127.0.0.1:6650] Connected to broker\n",
      "2022-06-01 14:56:51.246 INFO  [140428359747328] HandlerBase:64 | [persistent://public/static/language_results, reader-a0ed2a2765, 0] Getting connection from pool\n",
      "2022-06-01 14:56:51.250 INFO  [140428359747328] ConsumerImpl:224 | [persistent://public/static/language_results, reader-a0ed2a2765, 0] Created consumer on broker [127.0.0.1:57420 -> 127.0.0.1:6650] \n",
      "2022-06-01 14:56:51.261 INFO  [140429562840896] ConsumerImpl:999 | [persistent://public/static/language_results, reader-a0ed2a2765, 0] Closing consumer for topic persistent://public/static/language_results\n",
      "2022-06-01 14:56:51.263 INFO  [140428359747328] ConsumerImpl:1055 | [persistent://public/static/language_results, reader-a0ed2a2765, 0] Closed consumer 0\n",
      "2022-06-01 14:56:51.263 INFO  [140429562840896] ClientImpl:496 | Closing Pulsar client with 0 producers and 1 consumers\n",
      "2022-06-01 14:56:51.263 INFO  [140429562840896] ClientConnection:1559 | [127.0.0.1:57420 -> 127.0.0.1:6650] Connection closed\n",
      "2022-06-01 14:56:51.264 INFO  [140428359747328] ClientConnection:263 | [127.0.0.1:57420 -> 127.0.0.1:6650] Destroyed connection\n"
     ]
    }
   ],
   "source": [
    "result_dict = get_languages_stats()"
   ]
  },
  {
   "cell_type": "code",
   "execution_count": 87,
   "id": "ec50505a-2ecf-418d-a133-9434cc3f8a76",
   "metadata": {},
   "outputs": [
    {
     "data": {
      "text/plain": [
       "{'9language_511': {'num_repos': None, 'num_tests': None, 'num_ci': None},\n",
       " '9language_512': {'num_repos': None, 'num_tests': None, 'num_ci': None},\n",
       " '9language_513': {'num_repos': None, 'num_tests': None, 'num_ci': None},\n",
       " 'language1': {'num_repos': 2, 'num_tests': None, 'num_ci': None},\n",
       " 'language2': {'num_repos': 2, 'num_tests': None, 'num_ci': None},\n",
       " 'language3': {'num_repos': 2, 'num_tests': None, 'num_ci': None}}"
      ]
     },
     "execution_count": 87,
     "metadata": {},
     "output_type": "execute_result"
    }
   ],
   "source": [
    "result_dict"
   ]
  },
  {
   "cell_type": "code",
   "execution_count": 79,
   "id": "51c0a335-5b36-427d-902a-834b7ad44a2b",
   "metadata": {},
   "outputs": [],
   "source": [
    "test_tuple2 = \"('c', 31, 21, 19)\"\n",
    "result_tuple = eval(test_tuple2)\n",
    "result_dict[result_tuple[0]]={'num_repos': result_tuple[1],\n",
    "                              'num_tests': result_tuple[2],\n",
    "                              'num_ci': result_tuple[3]}"
   ]
  },
  {
   "cell_type": "code",
   "execution_count": 80,
   "id": "c80e3acf-c82c-4988-92f1-5a9b37bb2075",
   "metadata": {},
   "outputs": [
    {
     "data": {
      "text/plain": [
       "{'python': {'num_repos': 30, 'num_tests': 25, 'num_ci': 20},\n",
       " 'c': {'num_repos': 31, 'num_tests': 21, 'num_ci': 19}}"
      ]
     },
     "execution_count": 80,
     "metadata": {},
     "output_type": "execute_result"
    }
   ],
   "source": [
    "result_dict"
   ]
  },
  {
   "cell_type": "markdown",
   "id": "44feda74-b361-4fea-91b3-4f9ab6e31b74",
   "metadata": {
    "execution": {
     "iopub.execute_input": "2022-05-18T14:01:13.676491Z",
     "iopub.status.busy": "2022-05-18T14:01:13.673790Z",
     "iopub.status.idle": "2022-05-18T14:01:13.696125Z",
     "shell.execute_reply": "2022-05-18T14:01:13.694646Z",
     "shell.execute_reply.started": "2022-05-18T14:01:13.675983Z"
    }
   },
   "source": [
    "# 1. Top programming languages based on the number of projects developed"
   ]
  },
  {
   "cell_type": "code",
   "execution_count": 59,
   "id": "ccdab97f-011c-4491-941f-6f4736b8a28d",
   "metadata": {},
   "outputs": [
    {
     "data": {
      "text/html": [
       "<div>\n",
       "<style scoped>\n",
       "    .dataframe tbody tr th:only-of-type {\n",
       "        vertical-align: middle;\n",
       "    }\n",
       "\n",
       "    .dataframe tbody tr th {\n",
       "        vertical-align: top;\n",
       "    }\n",
       "\n",
       "    .dataframe thead th {\n",
       "        text-align: right;\n",
       "    }\n",
       "</style>\n",
       "<table border=\"1\" class=\"dataframe\">\n",
       "  <thead>\n",
       "    <tr style=\"text-align: right;\">\n",
       "      <th></th>\n",
       "      <th>Repository name</th>\n",
       "      <th>Number of commits</th>\n",
       "    </tr>\n",
       "  </thead>\n",
       "  <tbody>\n",
       "    <tr>\n",
       "      <th>0</th>\n",
       "      <td>owner_3/repo_3</td>\n",
       "      <td>26</td>\n",
       "    </tr>\n",
       "    <tr>\n",
       "      <th>1</th>\n",
       "      <td>owner_2/repo_2</td>\n",
       "      <td>21</td>\n",
       "    </tr>\n",
       "    <tr>\n",
       "      <th>2</th>\n",
       "      <td>owner_1/repo_1</td>\n",
       "      <td>16</td>\n",
       "    </tr>\n",
       "  </tbody>\n",
       "</table>\n",
       "</div>"
      ],
      "text/plain": [
       "  Repository name  Number of commits\n",
       "0  owner_3/repo_3                 26\n",
       "1  owner_2/repo_2                 21\n",
       "2  owner_1/repo_1                 16"
      ]
     },
     "execution_count": 59,
     "metadata": {},
     "output_type": "execute_result"
    }
   ],
   "source": [
    "pd.DataFrame(results, columns=['Repository name','Number of commits'])"
   ]
  },
  {
   "cell_type": "code",
   "execution_count": 48,
   "id": "64babd3f-99f5-45dc-a35e-a75d28c069c1",
   "metadata": {},
   "outputs": [
    {
     "name": "stdout",
     "output_type": "stream",
     "text": [
      "2022-05-23 08:47:21.824 INFO  [140256519571264] Client:88 | Subscribing on Topic :persistent://public/default/top_languages\n",
      "2022-05-23 08:47:21.824 INFO  [140256519571264] ClientConnection:189 | [<none> -> pulsar://localhost:6650] Create ClientConnection, timeout=10000\n",
      "2022-05-23 08:47:21.824 INFO  [140256519571264] ConnectionPool:96 | Created connection for pulsar://localhost:6650\n",
      "2022-05-23 08:47:21.832 INFO  [140255600891648] ClientConnection:375 | [127.0.0.1:46550 -> 127.0.0.1:6650] Connected to broker\n",
      "2022-05-23 08:47:21.836 INFO  [140255600891648] HandlerBase:64 | [persistent://public/default/top_languages, top_languages_sub_1653295641, 0] Getting connection from pool\n",
      "2022-05-23 08:47:22.247 INFO  [140255600891648] ConsumerImpl:224 | [persistent://public/default/top_languages, top_languages_sub_1653295641, 0] Created consumer on broker [127.0.0.1:46550 -> 127.0.0.1:6650] \n",
      "\n",
      "*** Reached end of values ***\n",
      "\n",
      "2022-05-23 08:47:22.280 INFO  [140256519571264] ClientImpl:496 | Closing Pulsar client with 0 producers and 1 consumers\n",
      "2022-05-23 08:47:22.280 INFO  [140256519571264] ConsumerImpl:999 | [persistent://public/default/top_languages, top_languages_sub_1653295641, 0] Closing consumer for topic persistent://public/default/top_languages\n",
      "2022-05-23 08:47:22.282 INFO  [140255600891648] ConsumerImpl:1055 | [persistent://public/default/top_languages, top_languages_sub_1653295641, 0] Closed consumer 0\n",
      "2022-05-23 08:47:22.282 INFO  [140255600891648] ClientConnection:1559 | [127.0.0.1:46550 -> 127.0.0.1:6650] Connection closed\n",
      "2022-05-23 08:47:22.308 INFO  [140256519571264] ClientConnection:263 | [127.0.0.1:46550 -> 127.0.0.1:6650] Destroyed connection\n"
     ]
    },
    {
     "data": {
      "image/png": "[encoded data removed]",
      "text/plain": [
       "<Figure size 864x432 with 1 Axes>"
      ]
     },
     "metadata": {
      "needs_background": "light"
     },
     "output_type": "display_data"
    }
   ],
   "source": [
    "# Define the number of top languages to return, get the results, and plot them\n",
    "num_results = 100\n",
    "\n",
    "q1_list = get_top_commits(num_results)\n",
    "\n",
    "returned_results = len(q1_dict)\n",
    "plot_dict(q1_dict, \n",
    "          title=f'Top {returned_results} programming languages by number of repositories', \n",
    "          xlabel='', ylabel='Number of repositories')"
   ]
  },
  {
   "cell_type": "markdown",
   "id": "0a10e825-b5b5-442c-8cc2-7d02a93fea2d",
   "metadata": {
    "execution": {
     "iopub.execute_input": "2022-05-18T14:03:03.610794Z",
     "iopub.status.busy": "2022-05-18T14:03:03.607179Z",
     "iopub.status.idle": "2022-05-18T14:03:03.618423Z",
     "shell.execute_reply": "2022-05-18T14:03:03.617189Z",
     "shell.execute_reply.started": "2022-05-18T14:03:03.610732Z"
    }
   },
   "source": [
    "# 2. Repositories with most commits"
   ]
  },
  {
   "cell_type": "code",
   "execution_count": null,
   "id": "d2bb7ef4-a993-4c4f-9130-1c795a987d39",
   "metadata": {},
   "outputs": [],
   "source": []
  },
  {
   "cell_type": "markdown",
   "id": "f3cfaa4a-8eb8-4658-8c9f-7dc1bfd0eaef",
   "metadata": {},
   "source": [
    "# 3. Top languages with testdriven approach"
   ]
  },
  {
   "cell_type": "code",
   "execution_count": null,
   "id": "f97fa694-4228-4f0f-96e1-fa18b748b169",
   "metadata": {},
   "outputs": [],
   "source": []
  },
  {
   "cell_type": "markdown",
   "id": "9113c5aa-373c-4554-93a2-52d5fbd25e9b",
   "metadata": {},
   "source": [
    "# 4. Top languages with testdriven approach and continous integration"
   ]
  },
  {
   "cell_type": "code",
   "execution_count": 6,
   "id": "116d9865-24e6-4009-964d-82bda0d19261",
   "metadata": {},
   "outputs": [],
   "source": [
    "my_var = 'pepe_host'\n",
    "def test_function():\n",
    "    # Take Pulsar host value from the environment variables\n",
    "    environment = os.environ\n",
    "    pulsar_host = environment.get(\"pulsar_host\")\n",
    "    # If not set, assume its running in localhost\n",
    "    if (pulsar_host is None): pulsar_host = my_var\n",
    "    print(pulsar_host)"
   ]
  },
  {
   "cell_type": "code",
   "execution_count": 7,
   "id": "b1e71e6f-8857-41cb-b2fe-c19a7454c2a8",
   "metadata": {},
   "outputs": [
    {
     "name": "stdout",
     "output_type": "stream",
     "text": [
      "pepe_host\n"
     ]
    }
   ],
   "source": [
    "test_function()"
   ]
  },
  {
   "cell_type": "code",
   "execution_count": 5,
   "id": "b0aff7ce-1fa0-4453-9791-908fc85430a7",
   "metadata": {},
   "outputs": [
    {
     "name": "stdout",
     "output_type": "stream",
     "text": [
      "None\n"
     ]
    }
   ],
   "source": [
    "environment = os.environ\n",
    "print(environment.get(\"pulsar_host\"))"
   ]
  },
  {
   "cell_type": "code",
   "execution_count": 12,
   "id": "3170f3a5-99da-46c3-a115-fa2c61733708",
   "metadata": {},
   "outputs": [
    {
     "data": {
      "text/plain": [
       "10"
      ]
     },
     "execution_count": 12,
     "metadata": {},
     "output_type": "execute_result"
    }
   ],
   "source": [
    "cut = '2021-01-01'\n",
    "len(cut)"
   ]
  },
  {
   "cell_type": "code",
   "execution_count": null,
   "id": "36c7d6b8-1447-4fcb-a2f8-1879fa06babe",
   "metadata": {},
   "outputs": [],
   "source": []
  }
 ],
 "metadata": {
  "kernelspec": {
   "display_name": "Python 3 (ipykernel)",
   "language": "python",
   "name": "python3"
  },
  "language_info": {
   "codemirror_mode": {
    "name": "ipython",
    "version": 3
   },
   "file_extension": ".py",
   "mimetype": "text/x-python",
   "name": "python",
   "nbconvert_exporter": "python",
   "pygments_lexer": "ipython3",
   "version": "3.8.10"
  }
 },
 "nbformat": 4,
 "nbformat_minor": 5
}
