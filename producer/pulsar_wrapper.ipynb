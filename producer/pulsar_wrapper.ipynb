{
 "cells": [
  {
   "cell_type": "code",
   "execution_count": 1,
   "id": "e06d19e9-1815-4f16-8f67-d4d393489fc0",
   "metadata": {},
   "outputs": [],
   "source": [
    "import requests\n",
    "import datetime\n",
    "import time\n",
    "import pulsar\n",
    "from pulsar import PartitionsRoutingMode\n",
    "from pulsar import MessageId\n",
    "from pulsar import Function\n",
    "import _pulsar"
   ]
  },
  {
   "cell_type": "code",
   "execution_count": 7,
   "id": "1ca28f4d-fb34-4d83-9f02-39214fd8334e",
   "metadata": {},
   "outputs": [],
   "source": [
    "class PulsarConnection():\n",
    "\n",
    "    def __init__(self):\n",
    "        self.client = pulsar.Client('pulsar://localhost:6650')\n",
    "        self.tenant = 'public'\n",
    "        self.namespace = 'default'\n",
    "        self.static_namespace = 'static'\n",
    "        self.initializing = False\n",
    "        self.initialized = False\n",
    "        self._set_init_status() # updates 'initialized' and 'initializing'\n",
    "        # Initialize the system if it hasn't\n",
    "        if not self.initialized:\n",
    "            self._initialize_pulsar()\n",
    "        self.day_consumer = None\n",
    "    \n",
    "    def close(self):\n",
    "        \"\"\" Remeber to close when finished working \"\"\"\n",
    "        try: self.client.close()\n",
    "        except Exception as e: print(f\"\\n*** Exception: {e} ***\\n\")\n",
    "        \n",
    "    def callback(self, res, msg_id):\n",
    "        \"\"\" Needed for 'send_async', for when the broker receives the message \"\"\"\n",
    "        return\n",
    "\n",
    "    def _set_init_status(self):\n",
    "        \"\"\" Identifying the status based on messages of 'initialized' topic.\n",
    "        If there are no messages its because it hasn't been initialized.\n",
    "        A first 'Initializing' message is because its starting, and a second\n",
    "        'Initialized' message is because it has already started\n",
    "        \"\"\"\n",
    "        try:\n",
    "            has_messages = False\n",
    "            curr_time = str(int(time.time()))\n",
    "            topic_name = 'initialized'\n",
    "            reader = self.client.create_reader(\n",
    "                topic=f'persistent://{self.tenant}/{self.static_namespace}/{topic_name}',\n",
    "                reader_name=topic_name+'_read_'+curr_time,\n",
    "                start_message_id=MessageId.earliest)\n",
    "            has_messages = reader.has_message_available()\n",
    "        except Exception as e: print(f\"\\n*** Exception: {e} ***\\n\")\n",
    "        # If there are no messages, it hasn't been initialized\n",
    "        if not has_messages:\n",
    "            print(\"\\nIt seems the system needs initializing\\n\")\n",
    "            reader.close()\n",
    "            return\n",
    "    \n",
    "        # Check now if it is initializing\n",
    "        msg = reader.read_next()\n",
    "        message = str(msg.value().decode())\n",
    "        if message == \"Initializing\":\n",
    "            print(\"Found 'Initializing' message\")\n",
    "            self.initializing = True\n",
    "        else:\n",
    "            print(\"Didn't found 'Initializing' message\")\n",
    "        \n",
    "        # Check if it has already initialized\n",
    "        try:\n",
    "            msg = reader.read_next(timeout_millis=3000)\n",
    "            message = str(msg.value().decode())\n",
    "        except Exception as e:\n",
    "            print(f\"\\n*** Didn't found 'Initilized' message : {e} ***\\n\")\n",
    "            \n",
    "        if message == \"Initialized\":\n",
    "            print(\"Found 'Initialized' message\")\n",
    "            self.initialized = True\n",
    "            self.initializing = False\n",
    "        reader.close()\n",
    "        \n",
    "        return True\n",
    "    \n",
    "    def _initialize_pulsar(self):\n",
    "        \"\"\" Initialize relevant topics: 'initialized', 'days_processed' \"\"\"\n",
    "        \n",
    "        # If its initilizing elsewhere, wait until it has finished\n",
    "        while self.initializing:\n",
    "            print(\"\\nThe system is initializing elsewhere, checking again in 5 seconds..\\n\")\n",
    "            time.sleep(5)\n",
    "            self._set_init_status()\n",
    "            \n",
    "        \n",
    "        # Send an Initializing message, so other workers don't do the same\n",
    "        print(\"\\n*** Initializing the system *** \\n\")\n",
    "        try:\n",
    "            curr_time = str(int(time.time()))\n",
    "            topic_name = 'initialized'\n",
    "            init_producer = self.client.create_producer(\n",
    "                topic=f'persistent://{self.tenant}/{self.static_namespace}/{topic_name}',\n",
    "                producer_name=f'{topic_name}_prod_{curr_time}',\n",
    "                message_routing_mode=PartitionsRoutingMode.UseSinglePartition)\n",
    "        except Exception as e:\n",
    "            print(f\"\\n*** Exception: {e} ***\\n\")\n",
    "            init_producer.close()\n",
    "            return\n",
    "        \n",
    "        try:\n",
    "            init_producer.send((\"Initializing\").encode('utf-8'))      \n",
    "        except Exception as e:\n",
    "            print(f\"\\n*** Exception sending Initializing message: {e} ***\\n\")\n",
    "            init_producer.close()\n",
    "            return\n",
    "        \n",
    "        self.initializing = True\n",
    "            \n",
    "        # Create the 'day_to_process' topic with 365 'YYYY-MM-DD' values\n",
    "        print(\"\\n*** Populating 'day_to_process' topic ***\\n\")\n",
    "        try:\n",
    "            curr_time = str(int(time.time()))\n",
    "            topic_name = 'day_to_process'\n",
    "            day_producer = self.client.create_producer(\n",
    "                topic=f'persistent://{self.tenant}/{self.namespace}/{topic_name}',\n",
    "                producer_name=f'{topic_name}_prod',\n",
    "                message_routing_mode=PartitionsRoutingMode.UseSinglePartition)\n",
    "        except Exception as e:\n",
    "            print(f\"\\n*** Exception creating 'day_to_process' topic: {e} ***\\n\")\n",
    "            day_producer.close()\n",
    "            return\n",
    "        init_date = datetime.datetime(2021, 1, 1)\n",
    "        dates = [(init_date + datetime.timedelta(days=idx)).strftime('%Y-%m-%d') for idx in range(365)]\n",
    "        \n",
    "        for date in dates:\n",
    "            try:\n",
    "                day_producer.send((f\"{date}\").encode('utf-8'))      \n",
    "            except Exception as e:\n",
    "                print(f\"\\n*** Exception sending date message: {e} ***\\n\")\n",
    "                day_producer.close()\n",
    "                return\n",
    "        day_producer.close()\n",
    "        \n",
    "        try:\n",
    "            init_producer.send((\"Initialized\").encode('utf-8'))      \n",
    "        except Exception as e:\n",
    "            print(f\"\\n*** Exception sending Initialized message: {e} ***\\n\")\n",
    "            init_producer.close()\n",
    "            return\n",
    "        init_producer.close()\n",
    "        \n",
    "        self.initializing = False\n",
    "        self.initialized = True\n",
    "        print(\"\\n*** The system has been initialized. Now get working! ***\\n\")\n",
    "        \n",
    "        return True\n",
    "    \n",
    "    def get_day_to_process(self):\n",
    "        \"\"\" Pops a ‘YYYY-MM-DD’ string value from the topic 'day_to_process' \"\"\"        \n",
    "        # Create a consumer to receive days to process (if it doesn't exist already)\n",
    "        if (self.day_consumer == None):\n",
    "            topic_name = 'day_to_process'\n",
    "            # Create a consumer on persistent topic, with a unique subscription name,\n",
    "            # so not to overlap with consumers from other workers\n",
    "            try:\n",
    "                curr_time = str(int(time.time()))\n",
    "                self.day_consumer = self.client.subscribe(\n",
    "                    topic=f\"persistent://{self.tenant}/{self.namespace}/{topic_name}\",\n",
    "                    subscription_name=f'{topic_name}_sub_{curr_time}',\n",
    "                    initial_position=_pulsar.InitialPosition.Earliest)\n",
    "            except Exception as e:\n",
    "                print(f\"\\n*** Exception creating day_consumer: {e} ***\\n\")\n",
    "                self.day_consumer.close()\n",
    "                return\n",
    "        try:\n",
    "            msg = self.day_consumer.receive(timeout_millis=3000)\n",
    "            # Save the string message (decode from byte value)\n",
    "            message = str(msg.value().decode())\n",
    "            # Acknowledge that the message was received          \n",
    "            self.day_consumer.acknowledge(msg)\n",
    "        except Exception as e:\n",
    "            print(f\"\\n*** Exception receiving value from 'day_consumer': {e} ***\\n\")\n",
    "            self.day_consumer.negative_acknowledge(msg)\n",
    "            self.day_consumer.close()\n",
    "            return\n",
    "        return message\n",
    "            \n",
    "    def get_initializing(self):\n",
    "        return self.initializing\n",
    "    \n",
    "    def get_initialized(self):\n",
    "        return self.initialized\n",
    "    \n",
    "    def put_basic_repo_info(self):\n",
    "        \"\"\" Todo \"\"\"\n",
    "        return\n",
    "\n",
    "    def get_basic_repo_info(self):\n",
    "        \"\"\" Todo \"\"\"\n",
    "        return"
   ]
  },
  {
   "cell_type": "code",
   "execution_count": 3,
   "id": "63fd8d55-8faa-4a99-b5ed-308c89004004",
   "metadata": {},
   "outputs": [
    {
     "name": "stdout",
     "output_type": "stream",
     "text": [
      "2022-05-26 06:33:10.071 INFO  [139960910792512] ClientConnection:189 | [<none> -> pulsar://localhost:6650] Create ClientConnection, timeout=10000\n",
      "2022-05-26 06:33:10.072 INFO  [139960910792512] ConnectionPool:96 | Created connection for pulsar://localhost:6650\n",
      "2022-05-26 06:33:10.077 INFO  [139960380487424] ClientConnection:375 | [127.0.0.1:37640 -> 127.0.0.1:6650] Connected to broker\n",
      "2022-05-26 06:33:10.092 INFO  [139960380487424] HandlerBase:64 | [persistent://public/static/initialized, reader-452d8ce14b, 0] Getting connection from pool\n",
      "2022-05-26 06:33:10.097 INFO  [139960380487424] ConsumerImpl:224 | [persistent://public/static/initialized, reader-452d8ce14b, 0] Created consumer on broker [127.0.0.1:37640 -> 127.0.0.1:6650] \n",
      "Found 'Initializing' message\n",
      "Found 'Initialized' message\n",
      "2022-05-26 06:33:10.115 INFO  [139960910792512] ConsumerImpl:999 | [persistent://public/static/initialized, reader-452d8ce14b, 0] Closing consumer for topic persistent://public/static/initialized\n",
      "2022-05-26 06:33:10.117 INFO  [139960380487424] ConsumerImpl:1055 | [persistent://public/static/initialized, reader-452d8ce14b, 0] Closed consumer 0\n"
     ]
    }
   ],
   "source": [
    "my_pulsar = PulsarConnection()"
   ]
  },
  {
   "cell_type": "code",
   "execution_count": 4,
   "id": "6eea27e8-6cee-44cb-bf31-889cf5e2d69e",
   "metadata": {},
   "outputs": [
    {
     "data": {
      "text/plain": [
       "False"
      ]
     },
     "execution_count": 4,
     "metadata": {},
     "output_type": "execute_result"
    }
   ],
   "source": [
    "my_pulsar.get_initializing()"
   ]
  },
  {
   "cell_type": "code",
   "execution_count": 5,
   "id": "7ee59ad3-c90d-4d3e-b9aa-f1f4264d4ba3",
   "metadata": {},
   "outputs": [
    {
     "data": {
      "text/plain": [
       "True"
      ]
     },
     "execution_count": 5,
     "metadata": {},
     "output_type": "execute_result"
    }
   ],
   "source": [
    "my_pulsar.get_initialized()"
   ]
  },
  {
   "cell_type": "code",
   "execution_count": 8,
   "id": "a88f6a7e-6818-4119-84a0-f7440c2467b1",
   "metadata": {},
   "outputs": [
    {
     "name": "stdout",
     "output_type": "stream",
     "text": [
      "\n",
      "*** Exception creating day_consumer: subscribe() missing 1 required positional argument: 'subscription_name' ***\n",
      "\n"
     ]
    },
    {
     "ename": "AttributeError",
     "evalue": "'NoneType' object has no attribute 'close'",
     "output_type": "error",
     "traceback": [
      "\u001b[0;31m---------------------------------------------------------------------------\u001b[0m",
      "\u001b[0;31mTypeError\u001b[0m                                 Traceback (most recent call last)",
      "Input \u001b[0;32mIn [2]\u001b[0m, in \u001b[0;36mPulsarConnection.get_day_to_process\u001b[0;34m(self)\u001b[0m\n\u001b[1;32m    150\u001b[0m \u001b[38;5;28;01mtry\u001b[39;00m:\n\u001b[0;32m--> 151\u001b[0m     \u001b[38;5;28mself\u001b[39m\u001b[38;5;241m.\u001b[39mday_consumer \u001b[38;5;241m=\u001b[39m \u001b[38;5;28;43mself\u001b[39;49m\u001b[38;5;241;43m.\u001b[39;49m\u001b[43mclient\u001b[49m\u001b[38;5;241;43m.\u001b[39;49m\u001b[43msubscribe\u001b[49m\u001b[43m(\u001b[49m\n\u001b[1;32m    152\u001b[0m \u001b[43m        \u001b[49m\u001b[43mtopic\u001b[49m\u001b[38;5;241;43m=\u001b[39;49m\u001b[38;5;124;43mf\u001b[39;49m\u001b[38;5;124;43m\"\u001b[39;49m\u001b[38;5;124;43mpersistent://\u001b[39;49m\u001b[38;5;132;43;01m{\u001b[39;49;00m\u001b[38;5;28;43mself\u001b[39;49m\u001b[38;5;241;43m.\u001b[39;49m\u001b[43mtenant\u001b[49m\u001b[38;5;132;43;01m}\u001b[39;49;00m\u001b[38;5;124;43m/\u001b[39;49m\u001b[38;5;132;43;01m{\u001b[39;49;00m\u001b[38;5;28;43mself\u001b[39;49m\u001b[38;5;241;43m.\u001b[39;49m\u001b[43mnamespace\u001b[49m\u001b[38;5;132;43;01m}\u001b[39;49;00m\u001b[38;5;124;43m/\u001b[39;49m\u001b[38;5;132;43;01m{\u001b[39;49;00m\u001b[43mtopic_name\u001b[49m\u001b[38;5;132;43;01m}\u001b[39;49;00m\u001b[38;5;124;43m\"\u001b[39;49m\u001b[43m,\u001b[49m\n\u001b[1;32m    153\u001b[0m \u001b[43m        \u001b[49m\u001b[43minitial_position\u001b[49m\u001b[38;5;241;43m=\u001b[39;49m\u001b[43m_pulsar\u001b[49m\u001b[38;5;241;43m.\u001b[39;49m\u001b[43mInitialPosition\u001b[49m\u001b[38;5;241;43m.\u001b[39;49m\u001b[43mEarliest\u001b[49m\u001b[43m)\u001b[49m\n\u001b[1;32m    154\u001b[0m \u001b[38;5;28;01mexcept\u001b[39;00m \u001b[38;5;167;01mException\u001b[39;00m \u001b[38;5;28;01mas\u001b[39;00m e:\n",
      "\u001b[0;31mTypeError\u001b[0m: subscribe() missing 1 required positional argument: 'subscription_name'",
      "\nDuring handling of the above exception, another exception occurred:\n",
      "\u001b[0;31mAttributeError\u001b[0m                            Traceback (most recent call last)",
      "Input \u001b[0;32mIn [8]\u001b[0m, in \u001b[0;36m<cell line: 1>\u001b[0;34m()\u001b[0m\n\u001b[0;32m----> 1\u001b[0m day \u001b[38;5;241m=\u001b[39m \u001b[43mmy_pulsar\u001b[49m\u001b[38;5;241;43m.\u001b[39;49m\u001b[43mget_day_to_process\u001b[49m\u001b[43m(\u001b[49m\u001b[43m)\u001b[49m\n",
      "Input \u001b[0;32mIn [2]\u001b[0m, in \u001b[0;36mPulsarConnection.get_day_to_process\u001b[0;34m(self)\u001b[0m\n\u001b[1;32m    154\u001b[0m     \u001b[38;5;28;01mexcept\u001b[39;00m \u001b[38;5;167;01mException\u001b[39;00m \u001b[38;5;28;01mas\u001b[39;00m e:\n\u001b[1;32m    155\u001b[0m         \u001b[38;5;28mprint\u001b[39m(\u001b[38;5;124mf\u001b[39m\u001b[38;5;124m\"\u001b[39m\u001b[38;5;130;01m\\n\u001b[39;00m\u001b[38;5;124m*** Exception creating day_consumer: \u001b[39m\u001b[38;5;132;01m{\u001b[39;00me\u001b[38;5;132;01m}\u001b[39;00m\u001b[38;5;124m ***\u001b[39m\u001b[38;5;130;01m\\n\u001b[39;00m\u001b[38;5;124m\"\u001b[39m)\n\u001b[0;32m--> 156\u001b[0m         \u001b[38;5;28;43mself\u001b[39;49m\u001b[38;5;241;43m.\u001b[39;49m\u001b[43mday_consumer\u001b[49m\u001b[38;5;241;43m.\u001b[39;49m\u001b[43mclose\u001b[49m()\n\u001b[1;32m    157\u001b[0m         \u001b[38;5;28;01mreturn\u001b[39;00m\n\u001b[1;32m    158\u001b[0m \u001b[38;5;28;01mtry\u001b[39;00m:\n",
      "\u001b[0;31mAttributeError\u001b[0m: 'NoneType' object has no attribute 'close'"
     ]
    }
   ],
   "source": [
    "day = my_pulsar.get_day_to_process()"
   ]
  },
  {
   "cell_type": "code",
   "execution_count": 9,
   "id": "634b652c-a080-4ad8-9eb5-480cd3dc70a7",
   "metadata": {},
   "outputs": [
    {
     "name": "stdout",
     "output_type": "stream",
     "text": [
      "2022-05-26 06:36:24.276 INFO  [139960910792512] ClientImpl:496 | Closing Pulsar client with 0 producers and 1 consumers\n",
      "2022-05-26 06:36:24.281 INFO  [139960910792512] ClientConnection:1559 | [127.0.0.1:37640 -> 127.0.0.1:6650] Connection closed\n",
      "2022-05-26 06:36:24.281 INFO  [139960910792512] ClientConnection:263 | [127.0.0.1:37640 -> 127.0.0.1:6650] Destroyed connection\n"
     ]
    }
   ],
   "source": [
    "my_pulsar.close()"
   ]
  },
  {
   "cell_type": "markdown",
   "id": "9dd94668-5f10-4519-b223-0e8d178f7a84",
   "metadata": {},
   "source": [
    "# Test code below"
   ]
  },
  {
   "cell_type": "code",
   "execution_count": null,
   "id": "fea64e44-f1eb-4d79-863e-157a41695b72",
   "metadata": {},
   "outputs": [],
   "source": []
  },
  {
   "cell_type": "code",
   "execution_count": null,
   "id": "80d4d677-b31d-4728-8250-bfc94b72b3c7",
   "metadata": {},
   "outputs": [],
   "source": [
    "client = pulsar.Client('pulsar://localhost:6650')\n",
    "\n",
    "try:\n",
    "    curr_time = str(int(time.time()))\n",
    "    topic_name = 'days_processed'\n",
    "    reader = client.create_reader(\n",
    "        topic=f'persistent://public/default/{topic_name}',\n",
    "        start_message_id=MessageId.earliest,\n",
    "        reader_name=topic_name+'_read_'+curr_time)\n",
    "    print(\"\\n\\nAny messages around?: \", reader.has_message_available())\n",
    "except Exception as e: print(f\"\\n*** Exception: {e} ***\\n\")\n",
    "\n",
    "client.close()"
   ]
  },
  {
   "cell_type": "code",
   "execution_count": null,
   "id": "5d5babc0-a6da-42d2-a8bf-28582121a089",
   "metadata": {},
   "outputs": [],
   "source": [
    "# Testing to see if we can check for a topic's existance.\n",
    "# However, it might be better to do this using putstate\n",
    "if False:\n",
    "    test_client = pulsar.Client('pulsar://localhost:6650')\n",
    "    persistent_path = 'persistent://public/default'\n",
    "\n",
    "    try:\n",
    "        curr_time = str(int(time.time()))\n",
    "        topic_name = 'days_processed'\n",
    "        consumer = test_client.subscribe(\n",
    "            topic=f'{persistent_path}/{topic_name}',\n",
    "            subscription_name=topic_name+'_sub_'+curr_time,\n",
    "            initial_position=_pulsar.InitialPosition.Earliest)\n",
    "    except Exception as e:\n",
    "        print('Subscription exception:')\n",
    "        print(e)\n",
    "\n",
    "    msg = consumer.receive()\n",
    "\n",
    "    try:\n",
    "        # Save the string message (decode from byte value)\n",
    "        message = str(msg.value().decode())\n",
    "        # Acknowledge that the message was received\n",
    "        consumer.acknowledge(msg)\n",
    "\n",
    "        print(message)\n",
    "\n",
    "    except Exception as e:\n",
    "        print(\"Message reception exception\")\n",
    "        consumer.negative_acknowledge(msg)\n",
    "\n",
    "\n",
    "    test_client.close()"
   ]
  }
 ],
 "metadata": {
  "kernelspec": {
   "display_name": "Python 3 (ipykernel)",
   "language": "python",
   "name": "python3"
  },
  "language_info": {
   "codemirror_mode": {
    "name": "ipython",
    "version": 3
   },
   "file_extension": ".py",
   "mimetype": "text/x-python",
   "name": "python",
   "nbconvert_exporter": "python",
   "pygments_lexer": "ipython3",
   "version": "3.8.10"
  }
 },
 "nbformat": 4,
 "nbformat_minor": 5
}
