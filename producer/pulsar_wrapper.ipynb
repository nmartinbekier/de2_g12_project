{
 "cells": [
  {
   "cell_type": "code",
   "execution_count": 1,
   "id": "e06d19e9-1815-4f16-8f67-d4d393489fc0",
   "metadata": {},
   "outputs": [],
   "source": [
    "import requests\n",
    "import datetime\n",
    "import time\n",
    "import pulsar\n",
    "from pulsar import PartitionsRoutingMode\n",
    "from pulsar import MessageId\n",
    "from pulsar import Function\n",
    "import _pulsar"
   ]
  },
  {
   "cell_type": "code",
   "execution_count": 41,
   "id": "1ca28f4d-fb34-4d83-9f02-39214fd8334e",
   "metadata": {},
   "outputs": [],
   "source": [
    "class PulsarConnection():\n",
    "\n",
    "    def __init__(self):\n",
    "        self.client = pulsar.Client('pulsar://localhost:6650')\n",
    "        self.tenant = 'public'\n",
    "        self.namespace = 'default'\n",
    "        self.static_namespace = 'static'\n",
    "        self.initializing = False\n",
    "        self.initialized = False\n",
    "        self.last_day_processed = False\n",
    "        self._set_init_status() # updates 'initialized' and 'initializing'\n",
    "        # Initialize the system if it hasn't\n",
    "        if not self.initialized:\n",
    "            self._initialize_pulsar()\n",
    "    \n",
    "    def close(self):\n",
    "        \"\"\" Remeber to close when finished working \"\"\"\n",
    "        try: self.client.close()\n",
    "        except Exception as e: print(f\"\\n*** Exception: {e} ***\\n\")\n",
    "        \n",
    "    def callback(self, res, msg_id):\n",
    "        \"\"\" Needed for 'send_async', for when the broker receives the message \"\"\"\n",
    "        return\n",
    "\n",
    "    def _set_init_status(self):\n",
    "        \"\"\" Identifying the status based on messages of 'initialized' topic.\n",
    "        If there are no messages its because it hasn't been initialized.\n",
    "        A first 'Initializing' message is because its starting, and a second\n",
    "        'Initialized' message is because it has already started\n",
    "        \"\"\"\n",
    "        try:\n",
    "            has_messages = False\n",
    "            curr_time = str(int(time.time()))\n",
    "            topic_name = 'initialized'\n",
    "            reader = self.client.create_reader(\n",
    "                topic=f'persistent://{self.tenant}/{self.static_namespace}/{topic_name}',\n",
    "                reader_name=topic_name+'_read_'+curr_time,\n",
    "                start_message_id=MessageId.earliest)\n",
    "            has_messages = reader.has_message_available()\n",
    "        except Exception as e: print(f\"\\n*** Exception: {e} ***\\n\")\n",
    "        # If there are no messages, it hasn't been initialized\n",
    "        if not has_messages:\n",
    "            print(\"\\nIt seems the system needs initializing\\n\")\n",
    "            reader.close()\n",
    "            return\n",
    "    \n",
    "        # Check now if it is initializing\n",
    "        msg = reader.read_next()\n",
    "        message = str(msg.value().decode())\n",
    "        if message == \"Initializing\":\n",
    "            print(\"Found 'Initializing' message\")\n",
    "            self.initializing = True\n",
    "        else:\n",
    "            print(\"Didn't found 'Initializing' message\")\n",
    "        \n",
    "        # Check if it has already initialized\n",
    "        try:\n",
    "            msg = reader.read_next(timeout_millis=3000)\n",
    "            message = str(msg.value().decode())\n",
    "        except Exception as e:\n",
    "            print(f\"\\n*** Didn't found 'Initilized' message : {e} ***\\n\")\n",
    "            \n",
    "        if message == \"Initialized\":\n",
    "            print(\"Found 'Initialized' message\")\n",
    "            self.initialized = True\n",
    "            self.initializing = False\n",
    "        reader.close()\n",
    "        \n",
    "        return True\n",
    "    \n",
    "    def create_day_to_process(self):\n",
    "        \"\"\" Create the 'day_to_process' topic with 365 'YYYY-MM-DD' values.\n",
    "        To be called automatically while initializing, but also making it externally\n",
    "        available for test purposes \"\"\"\n",
    "        print(\"\\n*** Populating 'day_to_process' topic ***\\n\")\n",
    "        try:\n",
    "            curr_time = str(int(time.time()))\n",
    "            topic_name = 'day_to_process'\n",
    "            day_producer = self.client.create_producer(\n",
    "                topic=f'persistent://{self.tenant}/{self.namespace}/{topic_name}',\n",
    "                message_routing_mode=PartitionsRoutingMode.UseSinglePartition)\n",
    "        except Exception as e:\n",
    "            print(f\"\\n*** Exception creating 'day_to_process' topic: {e} ***\\n\")\n",
    "            day_producer.close()\n",
    "            return\n",
    "        init_date = datetime.datetime(2021, 1, 1)\n",
    "        dates = [(init_date + datetime.timedelta(days=idx)).strftime('%Y-%m-%d') for idx in range(365)]\n",
    "        \n",
    "        for date in dates:\n",
    "            try:\n",
    "                day_producer.send((f\"{date}\").encode('utf-8'))      \n",
    "            except Exception as e:\n",
    "                print(f\"\\n*** Exception sending date message: {e} ***\\n\")\n",
    "                day_producer.close()\n",
    "                return\n",
    "        day_producer.close()\n",
    "        return True\n",
    "    \n",
    "    def _initialize_pulsar(self):\n",
    "        \"\"\" Initialize relevant topics: 'initialized', 'days_processed' \"\"\"\n",
    "        \n",
    "        # If its initilizing elsewhere, wait until it has finished\n",
    "        while self.initializing:\n",
    "            print(\"\\nThe system is initializing elsewhere, checking again in 5 seconds..\\n\")\n",
    "            time.sleep(5)\n",
    "            self._set_init_status()\n",
    "            \n",
    "        \n",
    "        # Send an Initializing message, so other workers don't do the same\n",
    "        print(\"\\n*** Initializing the system *** \\n\")\n",
    "        try:\n",
    "            curr_time = str(int(time.time()))\n",
    "            topic_name = 'initialized'\n",
    "            init_producer = self.client.create_producer(\n",
    "                topic=f'persistent://{self.tenant}/{self.static_namespace}/{topic_name}',\n",
    "                producer_name=f'{topic_name}_prod_{curr_time}',\n",
    "                message_routing_mode=PartitionsRoutingMode.UseSinglePartition)\n",
    "        except Exception as e:\n",
    "            print(f\"\\n*** Exception: {e} ***\\n\")\n",
    "            init_producer.close()\n",
    "            return\n",
    "        \n",
    "        try:\n",
    "            init_producer.send((\"Initializing\").encode('utf-8'))      \n",
    "        except Exception as e:\n",
    "            print(f\"\\n*** Exception sending Initializing message: {e} ***\\n\")\n",
    "            init_producer.close()\n",
    "            return\n",
    "        \n",
    "        self.initializing = True\n",
    "            \n",
    "        self.create_day_to_process()\n",
    "        \n",
    "        try:\n",
    "            init_producer.send((\"Initialized\").encode('utf-8'))      \n",
    "        except Exception as e:\n",
    "            print(f\"\\n*** Exception sending Initialized message: {e} ***\\n\")\n",
    "            init_producer.close()\n",
    "            return\n",
    "        init_producer.close()\n",
    "        \n",
    "        self.initializing = False\n",
    "        self.initialized = True\n",
    "        print(\"\\n*** The system has been initialized. Now get working! ***\\n\")\n",
    "        \n",
    "        return True\n",
    "    \n",
    "    def get_day_to_process(self):\n",
    "        \"\"\" Pops a ‘YYYY-MM-DD’ string value from the topic 'day_to_process'.\n",
    "        If there are no more days to process, returns None (Null) \"\"\"\n",
    "        if self.last_day_processed: return None\n",
    "    \n",
    "        topic_name = 'day_to_process'\n",
    "        # Create a consumer on persistent topic, always using the same name,\n",
    "        # so it always references to the current read position\n",
    "        try:\n",
    "            curr_time = str(int(time.time()))\n",
    "            day_consumer = self.client.subscribe(\n",
    "                topic=f\"persistent://{self.tenant}/{self.namespace}/{topic_name}\",\n",
    "                subscription_name=f'{topic_name}_sub',\n",
    "                initial_position=_pulsar.InitialPosition.Earliest)\n",
    "        except Exception as e:\n",
    "            print(f\"\\n*** Exception creating day_consumer: {e} ***\\n\")\n",
    "            day_consumer.close()\n",
    "            return\n",
    "            \n",
    "        try:\n",
    "            msg = day_consumer.receive()\n",
    "            # Save the string message (decode from byte value)\n",
    "            message = str(msg.value().decode())\n",
    "            # Acknowledge that the message was received          \n",
    "            day_consumer.acknowledge(msg)\n",
    "        except Exception as e:\n",
    "            print(f\"\\n*** Exception receiving value from 'day_consumer': {e} ***\\n\")\n",
    "            day_consumer.negative_acknowledge(msg)\n",
    "            day_consumer.close()\n",
    "            return\n",
    "        \n",
    "        # If we reached the end, signal so we start sending None from next call on\n",
    "        if message == '2021-12-31':\n",
    "            self.last_day_processed = True\n",
    "        \n",
    "        # Close at the end so no to block other processes that use the same subscription\n",
    "        day_consumer.close()\n",
    "        return message\n",
    "            \n",
    "    def get_initializing(self):\n",
    "        return self.initializing\n",
    "    \n",
    "    def get_initialized(self):\n",
    "        return self.initialized\n",
    "    \n",
    "    def put_basic_repo_info(self):\n",
    "        \"\"\" Todo \"\"\"\n",
    "        return\n",
    "\n",
    "    def get_basic_repo_info(self):\n",
    "        \"\"\" Todo \"\"\"\n",
    "        return"
   ]
  },
  {
   "cell_type": "code",
   "execution_count": 43,
   "id": "63fd8d55-8faa-4a99-b5ed-308c89004004",
   "metadata": {},
   "outputs": [
    {
     "name": "stdout",
     "output_type": "stream",
     "text": [
      "2022-05-26 07:33:24.460 INFO  [140597701977920] ClientConnection:189 | [<none> -> pulsar://localhost:6650] Create ClientConnection, timeout=10000\n",
      "2022-05-26 07:33:24.460 INFO  [140597701977920] ConnectionPool:96 | Created connection for pulsar://localhost:6650\n",
      "2022-05-26 07:33:24.467 INFO  [140596878497536] ClientConnection:375 | [127.0.0.1:40234 -> 127.0.0.1:6650] Connected to broker\n",
      "2022-05-26 07:33:24.468 INFO  [140596878497536] HandlerBase:64 | [persistent://public/static/initialized, reader-b64dad1236, 0] Getting connection from pool\n",
      "2022-05-26 07:33:24.471 INFO  [140596878497536] ConsumerImpl:224 | [persistent://public/static/initialized, reader-b64dad1236, 0] Created consumer on broker [127.0.0.1:40234 -> 127.0.0.1:6650] \n",
      "Found 'Initializing' message\n",
      "Found 'Initialized' message\n",
      "2022-05-26 07:33:24.475 INFO  [140597701977920] ConsumerImpl:999 | [persistent://public/static/initialized, reader-b64dad1236, 0] Closing consumer for topic persistent://public/static/initialized\n",
      "2022-05-26 07:33:24.476 INFO  [140596878497536] ConsumerImpl:1055 | [persistent://public/static/initialized, reader-b64dad1236, 0] Closed consumer 0\n"
     ]
    }
   ],
   "source": [
    "my_pulsar = PulsarConnection()"
   ]
  },
  {
   "cell_type": "code",
   "execution_count": 4,
   "id": "6eea27e8-6cee-44cb-bf31-889cf5e2d69e",
   "metadata": {},
   "outputs": [
    {
     "data": {
      "text/plain": [
       "False"
      ]
     },
     "execution_count": 4,
     "metadata": {},
     "output_type": "execute_result"
    }
   ],
   "source": [
    "my_pulsar.get_initializing()"
   ]
  },
  {
   "cell_type": "code",
   "execution_count": 5,
   "id": "7ee59ad3-c90d-4d3e-b9aa-f1f4264d4ba3",
   "metadata": {},
   "outputs": [
    {
     "data": {
      "text/plain": [
       "True"
      ]
     },
     "execution_count": 5,
     "metadata": {},
     "output_type": "execute_result"
    }
   ],
   "source": [
    "my_pulsar.get_initialized()"
   ]
  },
  {
   "cell_type": "code",
   "execution_count": 44,
   "id": "a88f6a7e-6818-4119-84a0-f7440c2467b1",
   "metadata": {},
   "outputs": [
    {
     "name": "stdout",
     "output_type": "stream",
     "text": [
      "2022-05-26 07:33:28.498 INFO  [140597701977920] Client:88 | Subscribing on Topic :persistent://public/default/day_to_process\n",
      "2022-05-26 07:33:28.500 INFO  [140597701977920] HandlerBase:64 | [persistent://public/default/day_to_process, day_to_process_sub, 1] Getting connection from pool\n",
      "2022-05-26 07:33:28.506 INFO  [140597701977920] ConsumerImpl:224 | [persistent://public/default/day_to_process, day_to_process_sub, 1] Created consumer on broker [127.0.0.1:40234 -> 127.0.0.1:6650] \n",
      "2022-05-26 07:33:28.524 INFO  [140597701977920] ConsumerImpl:999 | [persistent://public/default/day_to_process, day_to_process_sub, 1] Closing consumer for topic persistent://public/default/day_to_process\n",
      "2022-05-26 07:33:28.525 INFO  [140597701977920] ConsumerImpl:1055 | [persistent://public/default/day_to_process, day_to_process_sub, 1] Closed consumer 1\n"
     ]
    }
   ],
   "source": [
    "day = my_pulsar.get_day_to_process()"
   ]
  },
  {
   "cell_type": "code",
   "execution_count": 45,
   "id": "1e6ed170-8ed0-4276-8018-9dc5a0e8a860",
   "metadata": {},
   "outputs": [
    {
     "data": {
      "text/plain": [
       "'2021-01-15'"
      ]
     },
     "execution_count": 45,
     "metadata": {},
     "output_type": "execute_result"
    }
   ],
   "source": [
    "day"
   ]
  },
  {
   "cell_type": "code",
   "execution_count": 46,
   "id": "634b652c-a080-4ad8-9eb5-480cd3dc70a7",
   "metadata": {},
   "outputs": [
    {
     "name": "stdout",
     "output_type": "stream",
     "text": [
      "2022-05-26 07:33:34.221 INFO  [140597701977920] ClientImpl:496 | Closing Pulsar client with 0 producers and 2 consumers\n",
      "2022-05-26 07:33:34.222 INFO  [140597701977920] ClientConnection:1559 | [127.0.0.1:40234 -> 127.0.0.1:6650] Connection closed\n",
      "2022-05-26 07:33:34.222 INFO  [140597701977920] ClientConnection:263 | [127.0.0.1:40234 -> 127.0.0.1:6650] Destroyed connection\n"
     ]
    }
   ],
   "source": [
    "my_pulsar.close()"
   ]
  },
  {
   "cell_type": "markdown",
   "id": "9dd94668-5f10-4519-b223-0e8d178f7a84",
   "metadata": {},
   "source": [
    "# Test code below"
   ]
  },
  {
   "cell_type": "code",
   "execution_count": null,
   "id": "fea64e44-f1eb-4d79-863e-157a41695b72",
   "metadata": {},
   "outputs": [],
   "source": []
  },
  {
   "cell_type": "code",
   "execution_count": null,
   "id": "80d4d677-b31d-4728-8250-bfc94b72b3c7",
   "metadata": {},
   "outputs": [],
   "source": [
    "client = pulsar.Client('pulsar://localhost:6650')\n",
    "\n",
    "try:\n",
    "    curr_time = str(int(time.time()))\n",
    "    topic_name = 'days_processed'\n",
    "    reader = client.create_reader(\n",
    "        topic=f'persistent://public/default/{topic_name}',\n",
    "        start_message_id=MessageId.earliest,\n",
    "        reader_name=topic_name+'_read_'+curr_time)\n",
    "    print(\"\\n\\nAny messages around?: \", reader.has_message_available())\n",
    "except Exception as e: print(f\"\\n*** Exception: {e} ***\\n\")\n",
    "\n",
    "client.close()"
   ]
  },
  {
   "cell_type": "code",
   "execution_count": null,
   "id": "5d5babc0-a6da-42d2-a8bf-28582121a089",
   "metadata": {},
   "outputs": [],
   "source": [
    "# Testing to see if we can check for a topic's existance.\n",
    "# However, it might be better to do this using putstate\n",
    "if False:\n",
    "    test_client = pulsar.Client('pulsar://localhost:6650')\n",
    "    persistent_path = 'persistent://public/default'\n",
    "\n",
    "    try:\n",
    "        curr_time = str(int(time.time()))\n",
    "        topic_name = 'days_processed'\n",
    "        consumer = test_client.subscribe(\n",
    "            topic=f'{persistent_path}/{topic_name}',\n",
    "            subscription_name=topic_name+'_sub_'+curr_time,\n",
    "            initial_position=_pulsar.InitialPosition.Earliest)\n",
    "    except Exception as e:\n",
    "        print('Subscription exception:')\n",
    "        print(e)\n",
    "\n",
    "    msg = consumer.receive()\n",
    "\n",
    "    try:\n",
    "        # Save the string message (decode from byte value)\n",
    "        message = str(msg.value().decode())\n",
    "        # Acknowledge that the message was received\n",
    "        consumer.acknowledge(msg)\n",
    "\n",
    "        print(message)\n",
    "\n",
    "    except Exception as e:\n",
    "        print(\"Message reception exception\")\n",
    "        consumer.negative_acknowledge(msg)\n",
    "\n",
    "\n",
    "    test_client.close()"
   ]
  }
 ],
 "metadata": {
  "kernelspec": {
   "display_name": "Python 3 (ipykernel)",
   "language": "python",
   "name": "python3"
  },
  "language_info": {
   "codemirror_mode": {
    "name": "ipython",
    "version": 3
   },
   "file_extension": ".py",
   "mimetype": "text/x-python",
   "name": "python",
   "nbconvert_exporter": "python",
   "pygments_lexer": "ipython3",
   "version": "3.8.10"
  }
 },
 "nbformat": 4,
 "nbformat_minor": 5
}
